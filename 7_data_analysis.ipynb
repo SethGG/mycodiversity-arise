{
 "cells": [
  {
   "cell_type": "markdown",
   "metadata": {},
   "source": [
    "# Load dependencies and tables"
   ]
  },
  {
   "cell_type": "code",
   "execution_count": 2,
   "metadata": {},
   "outputs": [],
   "source": [
    "import pandas as pd\n",
    "import matplotlib.pyplot as plt\n",
    "import os\n",
    "from IPython.display import Markdown as md"
   ]
  },
  {
   "cell_type": "code",
   "execution_count": 3,
   "metadata": {},
   "outputs": [],
   "source": [
    "output_tables = \"output_tables\"\n",
    "run_dir_name = \"2024_11_18_16_07_output\"\n",
    "run_dir = os.path.join(output_tables, run_dir_name)\n",
    "\n",
    "df_sample_mapping = pd.read_csv(os.path.join(output_tables, \"sample_mapping.csv\"))\n",
    "\n",
    "df_filter_mapping_full = pd.read_csv(os.path.join(run_dir, \"filter_mapping_full.csv\"))\n",
    "df_filter_mapping = pd.read_csv(os.path.join(run_dir, \"filter_mapping.csv\"))\n",
    "df_truncate_mapping = pd.read_csv(os.path.join(run_dir, \"truncate_mapping.csv\"))\n",
    "\n",
    "df_refseq_full = pd.read_csv(os.path.join(run_dir, \"refseq_table_pk_full.csv\"))\n",
    "df_refseq = pd.read_csv(os.path.join(run_dir, \"refseq_table_pk.csv\"))\n",
    "\n",
    "df_refseq_srr_mapping_full = pd.read_csv(os.path.join(run_dir, \"mapping_table_pk_zotu_srr_full.csv\"))\n",
    "df_refseq_srr_mapping = pd.read_csv(os.path.join(run_dir, \"mapping_table_pk_zotu_srr.csv\"))\n",
    "\n",
    "df_refseq_tax_full = pd.read_csv(os.path.join(run_dir, \"refseq_table_pk_full_tax.csv\"))\n",
    "df_refseq_tax = pd.read_csv(os.path.join(run_dir, \"refseq_table_pk_tax.csv\"))"
   ]
  },
  {
   "cell_type": "code",
   "execution_count": 4,
   "metadata": {},
   "outputs": [
    {
     "name": "stdout",
     "output_type": "stream",
     "text": [
      "<class 'pandas.core.frame.DataFrame'>\n",
      "RangeIndex: 65595 entries, 0 to 65594\n",
      "Data columns (total 35 columns):\n",
      " #   Column                Non-Null Count  Dtype  \n",
      "---  ------                --------------  -----  \n",
      " 0   srr_name              65595 non-null  object \n",
      " 1   plot                  65595 non-null  object \n",
      " 2   subplot               65588 non-null  float64\n",
      " 3   location              65595 non-null  object \n",
      " 4   zotu_id               65595 non-null  object \n",
      " 5   trunc_zotu_id         64279 non-null  object \n",
      " 6   passed_trunc          65595 non-null  bool   \n",
      " 7   passed_abun_full      65595 non-null  bool   \n",
      " 8   passed_contam_full    65595 non-null  bool   \n",
      " 9   passed_abun_trunc     64279 non-null  object \n",
      " 10  passed_contam_trunc   64279 non-null  object \n",
      " 11  refsequence_pk_full   6033 non-null   object \n",
      " 12  sequence_full         6033 non-null   object \n",
      " 13  refsequence_pk_trunc  6532 non-null   object \n",
      " 14  sequence_trunc        6532 non-null   object \n",
      " 15  identity_full         5393 non-null   float64\n",
      " 16  UNITE_id_full         5393 non-null   object \n",
      " 17  kingdom_full          5393 non-null   object \n",
      " 18  phylum_full           5393 non-null   object \n",
      " 19  class_full            5393 non-null   object \n",
      " 20  order_full            5393 non-null   object \n",
      " 21  family_full           5393 non-null   object \n",
      " 22  genus_full            5393 non-null   object \n",
      " 23  species_full          5393 non-null   object \n",
      " 24  identity_trunc        5717 non-null   float64\n",
      " 25  UNITE_id_trunc        5717 non-null   object \n",
      " 26  kingdom_trunc         5717 non-null   object \n",
      " 27  phylum_trunc          5717 non-null   object \n",
      " 28  class_trunc           5717 non-null   object \n",
      " 29  order_trunc           5717 non-null   object \n",
      " 30  family_trunc          5717 non-null   object \n",
      " 31  genus_trunc           5717 non-null   object \n",
      " 32  species_trunc         5717 non-null   object \n",
      " 33  tax_missing_full      65595 non-null  bool   \n",
      " 34  tax_missing_trunc     65595 non-null  bool   \n",
      "dtypes: bool(5), float64(3), object(27)\n",
      "memory usage: 15.3+ MB\n"
     ]
    },
    {
     "data": {
      "text/plain": [
       "None"
      ]
     },
     "metadata": {},
     "output_type": "display_data"
    }
   ],
   "source": [
    "# Merged table for analyzing results\n",
    "df = df_sample_mapping.merge(df_truncate_mapping, on=[\"srr_name\"], how=\"right\")\n",
    "df = df.merge(df_filter_mapping_full, on=[\"srr_name\", \"zotu_id\"], how=\"left\")\n",
    "df = df.merge(df_filter_mapping.rename(columns={\"zotu_id\": \"trunc_zotu_id\"}), on=[\"srr_name\", \"trunc_zotu_id\"],\n",
    "              suffixes=(\"_full\", \"_trunc\"), how=\"left\")\n",
    "df = df.merge(df_refseq_srr_mapping_full, on=[\"srr_name\", \"zotu_id\"], how=\"left\")\n",
    "df = df.merge(df_refseq_srr_mapping.rename(columns={\"zotu_id\": \"trunc_zotu_id\"}),\n",
    "                                                        on=[\"srr_name\", \"trunc_zotu_id\"], suffixes=(\"_full\", \"_trunc\"), how=\"left\")\n",
    "df = df.merge(df_refseq_tax_full.rename(columns={\"refsequence_pk\": \"refsequence_pk_full\"}), on=[\"refsequence_pk_full\"], how=\"left\")\n",
    "df = df.merge(df_refseq_tax.rename(\n",
    "    columns={\"refsequence_pk\": \"refsequence_pk_trunc\"}),on=[\"refsequence_pk_trunc\"], suffixes=(\"_full\", \"_trunc\"), how=\"left\")\n",
    "df[\"tax_missing_full\"] = df[\"UNITE_id_full\"].isna()\n",
    "df[\"tax_missing_trunc\"] = df[\"UNITE_id_trunc\"].isna()\n",
    "\n",
    "\n",
    "display(df.info())"
   ]
  },
  {
   "cell_type": "markdown",
   "metadata": {},
   "source": [
    "# Filter results within samples"
   ]
  },
  {
   "cell_type": "code",
   "execution_count": 5,
   "metadata": {},
   "outputs": [
    {
     "data": {
      "text/markdown": [
       "## Filter results on full length ZOTUs"
      ],
      "text/plain": [
       "<IPython.core.display.Markdown object>"
      ]
     },
     "metadata": {},
     "output_type": "display_data"
    },
    {
     "data": {
      "text/markdown": [
       "Of all 65595 full length ZOTUs found across all samples:"
      ],
      "text/plain": [
       "<IPython.core.display.Markdown object>"
      ]
     },
     "metadata": {},
     "output_type": "display_data"
    },
    {
     "data": {
      "text/html": [
       "<div>\n",
       "<style scoped>\n",
       "    .dataframe tbody tr th:only-of-type {\n",
       "        vertical-align: middle;\n",
       "    }\n",
       "\n",
       "    .dataframe tbody tr th {\n",
       "        vertical-align: top;\n",
       "    }\n",
       "\n",
       "    .dataframe thead th {\n",
       "        text-align: right;\n",
       "    }\n",
       "</style>\n",
       "<table border=\"1\" class=\"dataframe\">\n",
       "  <thead>\n",
       "    <tr style=\"text-align: right;\">\n",
       "      <th></th>\n",
       "      <th></th>\n",
       "      <th>count</th>\n",
       "      <th>proportion</th>\n",
       "    </tr>\n",
       "    <tr>\n",
       "      <th>passed_abun_full</th>\n",
       "      <th>passed_contam_full</th>\n",
       "      <th></th>\n",
       "      <th></th>\n",
       "    </tr>\n",
       "  </thead>\n",
       "  <tbody>\n",
       "    <tr>\n",
       "      <th>False</th>\n",
       "      <th>False</th>\n",
       "      <td>59470.0</td>\n",
       "      <td>0.906624</td>\n",
       "    </tr>\n",
       "    <tr>\n",
       "      <th rowspan=\"3\" valign=\"top\">True</th>\n",
       "      <th>True</th>\n",
       "      <td>6033.0</td>\n",
       "      <td>0.091973</td>\n",
       "    </tr>\n",
       "    <tr>\n",
       "      <th>False</th>\n",
       "      <td>92.0</td>\n",
       "      <td>0.001403</td>\n",
       "    </tr>\n",
       "    <tr>\n",
       "      <th></th>\n",
       "      <td>6125.0</td>\n",
       "      <td>0.093376</td>\n",
       "    </tr>\n",
       "  </tbody>\n",
       "</table>\n",
       "</div>"
      ],
      "text/plain": [
       "                                       count  proportion\n",
       "passed_abun_full passed_contam_full                     \n",
       "False            False               59470.0    0.906624\n",
       "True             True                 6033.0    0.091973\n",
       "                 False                  92.0    0.001403\n",
       "                                      6125.0    0.093376"
      ]
     },
     "metadata": {},
     "output_type": "display_data"
    },
    {
     "data": {
      "text/markdown": [
       "- 6125.0 (9.34%) passed the abundance filter\n",
       "- 6033.0 (9.20% of all, 98.50% of abundant) passed the contamination filter"
      ],
      "text/plain": [
       "<IPython.core.display.Markdown object>"
      ]
     },
     "metadata": {},
     "output_type": "display_data"
    }
   ],
   "source": [
    "#Filter results on full length ZOTUs\n",
    "df_filter_counts = pd.DataFrame.join(\n",
    "    df.value_counts(subset=['passed_abun_full', 'passed_contam_full']),\n",
    "    df.value_counts(subset=['passed_abun_full', 'passed_contam_full'], normalize=True))\n",
    "df_filter_counts.loc[(True,\"\"),:] = df_filter_counts.loc[(True, slice(None))][['count', 'proportion']].sum()\n",
    "display(md(\"## Filter results on full length ZOTUs\"))\n",
    "display(md(f\"Of all {df.shape[0]} full length ZOTUs found across all samples:\"))\n",
    "display(df_filter_counts)\n",
    "\n",
    "num_passed_abun = df_filter_counts.loc[(True, '')]['count']\n",
    "prop_passed_abun = df_filter_counts.loc[(True, '')]['proportion']\n",
    "num_passed_contam = df_filter_counts.loc[(True, True)]['count']\n",
    "prop_passed_contam = df_filter_counts.loc[(True, True)]['proportion']\n",
    "prop_passed_contam_abun = prop_passed_contam / prop_passed_abun\n",
    "display(md(f\"- {num_passed_abun} ({prop_passed_abun:.2%}) passed the abundance filter\\n\"\n",
    "           f\"- {num_passed_contam} ({prop_passed_contam:.2%} of all, {prop_passed_contam_abun:.2%} of abundant) passed the contamination filter\"))"
   ]
  },
  {
   "cell_type": "code",
   "execution_count": 6,
   "metadata": {},
   "outputs": [
    {
     "data": {
      "text/markdown": [
       "## Truncation results on full length ZOTUs"
      ],
      "text/plain": [
       "<IPython.core.display.Markdown object>"
      ]
     },
     "metadata": {},
     "output_type": "display_data"
    },
    {
     "data": {
      "text/markdown": [
       "Of all 65595 full length ZOTUs found across all samples:"
      ],
      "text/plain": [
       "<IPython.core.display.Markdown object>"
      ]
     },
     "metadata": {},
     "output_type": "display_data"
    },
    {
     "data": {
      "text/html": [
       "<div>\n",
       "<style scoped>\n",
       "    .dataframe tbody tr th:only-of-type {\n",
       "        vertical-align: middle;\n",
       "    }\n",
       "\n",
       "    .dataframe tbody tr th {\n",
       "        vertical-align: top;\n",
       "    }\n",
       "\n",
       "    .dataframe thead th {\n",
       "        text-align: right;\n",
       "    }\n",
       "</style>\n",
       "<table border=\"1\" class=\"dataframe\">\n",
       "  <thead>\n",
       "    <tr style=\"text-align: right;\">\n",
       "      <th></th>\n",
       "      <th>count</th>\n",
       "      <th>proportion</th>\n",
       "      <th>count derep</th>\n",
       "    </tr>\n",
       "    <tr>\n",
       "      <th>passed_trunc</th>\n",
       "      <th></th>\n",
       "      <th></th>\n",
       "      <th></th>\n",
       "    </tr>\n",
       "  </thead>\n",
       "  <tbody>\n",
       "    <tr>\n",
       "      <th>True</th>\n",
       "      <td>64279</td>\n",
       "      <td>0.979937</td>\n",
       "      <td>61373.0</td>\n",
       "    </tr>\n",
       "    <tr>\n",
       "      <th>False</th>\n",
       "      <td>1316</td>\n",
       "      <td>0.020063</td>\n",
       "      <td>NaN</td>\n",
       "    </tr>\n",
       "  </tbody>\n",
       "</table>\n",
       "</div>"
      ],
      "text/plain": [
       "              count  proportion  count derep\n",
       "passed_trunc                                \n",
       "True          64279    0.979937      61373.0\n",
       "False          1316    0.020063          NaN"
      ]
     },
     "metadata": {},
     "output_type": "display_data"
    },
    {
     "data": {
      "text/markdown": [
       "- 64279.0 (97.99%) passed truncation\n",
       "\t- 61373.0 after dereplication within samples\n",
       "- 1316.0 (2.01%) did not pass truncation (<250bp) and are discarded"
      ],
      "text/plain": [
       "<IPython.core.display.Markdown object>"
      ]
     },
     "metadata": {},
     "output_type": "display_data"
    }
   ],
   "source": [
    "# Truncation results on full length ZOTUs\n",
    "df_trunc = df[df[\"passed_trunc\"] == True]\n",
    "df_trunc_derep = df_trunc.drop_duplicates(subset=['srr_name', 'trunc_zotu_id'])\n",
    "df_trunc_counts = pd.DataFrame.join(\n",
    "    df.value_counts(subset=\"passed_trunc\"),\n",
    "    df.value_counts(subset=\"passed_trunc\", normalize=True))\n",
    "df_trunc_counts = df_trunc_counts.join(\n",
    "    df_trunc_derep.value_counts(subset=\"passed_trunc\"), rsuffix=\" derep\")\n",
    "display(md(\"## Truncation results on full length ZOTUs\"))\n",
    "display(md(f\"Of all {df.shape[0]} full length ZOTUs found across all samples:\"))\n",
    "display(df_trunc_counts)\n",
    "\n",
    "num_passed_trunc = df_trunc_counts.loc[True]['count']\n",
    "prop_passed_trunc = df_trunc_counts.loc[True]['proportion']\n",
    "num_not_passed_trunc = df_trunc_counts.loc[False]['count']\n",
    "prop_not_passed_trunc = df_trunc_counts.loc[False]['proportion']\n",
    "display(md(f\"- {num_passed_trunc} ({prop_passed_trunc:.2%}) passed truncation\\n\"\n",
    "           f\"\\t- {df_trunc_counts.loc[True]['count derep']} after dereplication within samples\\n\"\n",
    "           f\"- {num_not_passed_trunc} ({prop_not_passed_trunc:.2%}) did not pass truncation (<250bp) and are discarded\"))"
   ]
  },
  {
   "cell_type": "code",
   "execution_count": 7,
   "metadata": {},
   "outputs": [
    {
     "data": {
      "text/markdown": [
       "## Filter results on discarded ZOTUs"
      ],
      "text/plain": [
       "<IPython.core.display.Markdown object>"
      ]
     },
     "metadata": {},
     "output_type": "display_data"
    },
    {
     "data": {
      "text/markdown": [
       "Of the 1316 full length ZOTUs that do not pass truncation (<250bp):"
      ],
      "text/plain": [
       "<IPython.core.display.Markdown object>"
      ]
     },
     "metadata": {},
     "output_type": "display_data"
    },
    {
     "data": {
      "text/html": [
       "<div>\n",
       "<style scoped>\n",
       "    .dataframe tbody tr th:only-of-type {\n",
       "        vertical-align: middle;\n",
       "    }\n",
       "\n",
       "    .dataframe tbody tr th {\n",
       "        vertical-align: top;\n",
       "    }\n",
       "\n",
       "    .dataframe thead th {\n",
       "        text-align: right;\n",
       "    }\n",
       "</style>\n",
       "<table border=\"1\" class=\"dataframe\">\n",
       "  <thead>\n",
       "    <tr style=\"text-align: right;\">\n",
       "      <th></th>\n",
       "      <th></th>\n",
       "      <th>count</th>\n",
       "      <th>proportion</th>\n",
       "    </tr>\n",
       "    <tr>\n",
       "      <th>passed_abun_full</th>\n",
       "      <th>passed_contam_full</th>\n",
       "      <th></th>\n",
       "      <th></th>\n",
       "    </tr>\n",
       "  </thead>\n",
       "  <tbody>\n",
       "    <tr>\n",
       "      <th>False</th>\n",
       "      <th>False</th>\n",
       "      <td>1254.0</td>\n",
       "      <td>0.952888</td>\n",
       "    </tr>\n",
       "    <tr>\n",
       "      <th rowspan=\"3\" valign=\"top\">True</th>\n",
       "      <th>True</th>\n",
       "      <td>47.0</td>\n",
       "      <td>0.035714</td>\n",
       "    </tr>\n",
       "    <tr>\n",
       "      <th>False</th>\n",
       "      <td>15.0</td>\n",
       "      <td>0.011398</td>\n",
       "    </tr>\n",
       "    <tr>\n",
       "      <th></th>\n",
       "      <td>62.0</td>\n",
       "      <td>0.047112</td>\n",
       "    </tr>\n",
       "  </tbody>\n",
       "</table>\n",
       "</div>"
      ],
      "text/plain": [
       "                                      count  proportion\n",
       "passed_abun_full passed_contam_full                    \n",
       "False            False               1254.0    0.952888\n",
       "True             True                  47.0    0.035714\n",
       "                 False                 15.0    0.011398\n",
       "                                       62.0    0.047112"
      ]
     },
     "metadata": {},
     "output_type": "display_data"
    },
    {
     "data": {
      "text/markdown": [
       "- 62.0 (4.71%) would have passed the abundance filter\n",
       "- 47.0 (3.57% of all, 75.81% of abundant) would have passed the contamination filter"
      ],
      "text/plain": [
       "<IPython.core.display.Markdown object>"
      ]
     },
     "metadata": {},
     "output_type": "display_data"
    }
   ],
   "source": [
    "# Filter results on discarded ZOTUs\n",
    "df_discard = df[df[\"passed_trunc\"] == False]\n",
    "df_discard_filter_counts = pd.DataFrame.join(\n",
    "    df_discard.value_counts(subset=['passed_abun_full', 'passed_contam_full']),\n",
    "    df_discard.value_counts(subset=['passed_abun_full', 'passed_contam_full'], normalize=True))\n",
    "df_discard_filter_counts.loc[(True,\"\"),:] = df_discard_filter_counts.loc[(True, slice(None))][['count', 'proportion']].sum()\n",
    "display(md(\"## Filter results on discarded ZOTUs\"))\n",
    "display(md(f\"Of the {df_discard.shape[0]} full length ZOTUs that do not pass truncation (<250bp):\"))\n",
    "display(df_discard_filter_counts)\n",
    "\n",
    "num_passed_abun = df_discard_filter_counts.loc[(True, '')]['count']\n",
    "prop_passed_abun = df_discard_filter_counts.loc[(True, '')]['proportion']\n",
    "num_passed_contam = df_discard_filter_counts.loc[(True, True)]['count']\n",
    "prop_passed_contam = df_discard_filter_counts.loc[(True, True)]['proportion']\n",
    "prop_passed_contam_abun = prop_passed_contam / prop_passed_abun\n",
    "display(md(f\"- {num_passed_abun} ({prop_passed_abun:.2%}) would have passed the abundance filter\\n\"\n",
    "           f\"- {num_passed_contam} ({prop_passed_contam:.2%} of all, {prop_passed_contam_abun:.2%} of abundant) would have passed the contamination filter\"))"
   ]
  },
  {
   "cell_type": "code",
   "execution_count": 8,
   "metadata": {},
   "outputs": [
    {
     "data": {
      "text/markdown": [
       "## Filter results on truncated ZOTUs"
      ],
      "text/plain": [
       "<IPython.core.display.Markdown object>"
      ]
     },
     "metadata": {},
     "output_type": "display_data"
    },
    {
     "data": {
      "text/markdown": [
       "Of all 64279 truncated ZOTUs (61373 after dereplication within samples) found across all samples:"
      ],
      "text/plain": [
       "<IPython.core.display.Markdown object>"
      ]
     },
     "metadata": {},
     "output_type": "display_data"
    },
    {
     "data": {
      "text/html": [
       "<div>\n",
       "<style scoped>\n",
       "    .dataframe tbody tr th:only-of-type {\n",
       "        vertical-align: middle;\n",
       "    }\n",
       "\n",
       "    .dataframe tbody tr th {\n",
       "        vertical-align: top;\n",
       "    }\n",
       "\n",
       "    .dataframe thead th {\n",
       "        text-align: right;\n",
       "    }\n",
       "</style>\n",
       "<table border=\"1\" class=\"dataframe\">\n",
       "  <thead>\n",
       "    <tr style=\"text-align: right;\">\n",
       "      <th></th>\n",
       "      <th></th>\n",
       "      <th>count</th>\n",
       "      <th>proportion</th>\n",
       "      <th>count derep</th>\n",
       "      <th>proportion derep</th>\n",
       "    </tr>\n",
       "    <tr>\n",
       "      <th>passed_abun_trunc</th>\n",
       "      <th>passed_contam_trunc</th>\n",
       "      <th></th>\n",
       "      <th></th>\n",
       "      <th></th>\n",
       "      <th></th>\n",
       "    </tr>\n",
       "  </thead>\n",
       "  <tbody>\n",
       "    <tr>\n",
       "      <th>False</th>\n",
       "      <th>False</th>\n",
       "      <td>57652.0</td>\n",
       "      <td>0.896903</td>\n",
       "      <td>55247.0</td>\n",
       "      <td>0.900184</td>\n",
       "    </tr>\n",
       "    <tr>\n",
       "      <th rowspan=\"3\" valign=\"top\">True</th>\n",
       "      <th>True</th>\n",
       "      <td>6532.0</td>\n",
       "      <td>0.101620</td>\n",
       "      <td>6051.0</td>\n",
       "      <td>0.098594</td>\n",
       "    </tr>\n",
       "    <tr>\n",
       "      <th>False</th>\n",
       "      <td>95.0</td>\n",
       "      <td>0.001478</td>\n",
       "      <td>75.0</td>\n",
       "      <td>0.001222</td>\n",
       "    </tr>\n",
       "    <tr>\n",
       "      <th></th>\n",
       "      <td>6627.0</td>\n",
       "      <td>0.103097</td>\n",
       "      <td>6126.0</td>\n",
       "      <td>0.099816</td>\n",
       "    </tr>\n",
       "  </tbody>\n",
       "</table>\n",
       "</div>"
      ],
      "text/plain": [
       "                                         count  proportion  count derep  \\\n",
       "passed_abun_trunc passed_contam_trunc                                     \n",
       "False             False                57652.0    0.896903      55247.0   \n",
       "True              True                  6532.0    0.101620       6051.0   \n",
       "                  False                   95.0    0.001478         75.0   \n",
       "                                        6627.0    0.103097       6126.0   \n",
       "\n",
       "                                       proportion derep  \n",
       "passed_abun_trunc passed_contam_trunc                    \n",
       "False             False                        0.900184  \n",
       "True              True                         0.098594  \n",
       "                  False                        0.001222  \n",
       "                                               0.099816  "
      ]
     },
     "metadata": {},
     "output_type": "display_data"
    },
    {
     "data": {
      "text/markdown": [
       "- 6627.0 (10.31%) passed the abundance filter\n",
       "\t- 6126.0 (9.98%) after dereplication within samples\n",
       "- 6532.0 (10.16% of all, 98.57% of abundant) passed the contamination filter\n",
       "\t- 6051.0 (9.86% of all, 98.78% of abundant) after dereplication within samples"
      ],
      "text/plain": [
       "<IPython.core.display.Markdown object>"
      ]
     },
     "metadata": {},
     "output_type": "display_data"
    }
   ],
   "source": [
    "# Filter results on truncated ZOTUs\n",
    "df_trunc_filter_counts = pd.DataFrame.join(\n",
    "    df_trunc.value_counts(subset=['passed_abun_trunc','passed_contam_trunc']),\n",
    "    df_trunc.value_counts(subset=['passed_abun_trunc','passed_contam_trunc'], normalize=True))\n",
    "df_trunc_filter_counts = df_trunc_filter_counts.join(\n",
    "    df_trunc_derep.value_counts(subset=['passed_abun_trunc','passed_contam_trunc']), rsuffix=\" derep\")\n",
    "df_trunc_filter_counts = df_trunc_filter_counts.join(\n",
    "    df_trunc_derep.value_counts(subset=['passed_abun_trunc','passed_contam_trunc'], normalize=True), rsuffix=\" derep\")\n",
    "df_trunc_filter_counts.loc[(True,\"\"),:] = df_trunc_filter_counts.loc[(True, slice(None))][['count', 'proportion', 'count derep', 'proportion derep']].sum()\n",
    "display(md(\"## Filter results on truncated ZOTUs\"))\n",
    "display(md(f\"Of all {df_trunc.shape[0]} truncated ZOTUs ({df_trunc_derep.shape[0]} after dereplication within samples) found across all samples:\"))\n",
    "display(df_trunc_filter_counts)\n",
    "\n",
    "num_passed_abun = df_trunc_filter_counts.loc[(True, '')]['count']\n",
    "prop_passed_abun = df_trunc_filter_counts.loc[(True, '')]['proportion']\n",
    "num_passed_abun_derep = df_trunc_filter_counts.loc[(True, '')]['count derep']\n",
    "prop_passed_abun_derep = df_trunc_filter_counts.loc[(True, '')]['proportion derep']\n",
    "num_passed_contam = df_trunc_filter_counts.loc[(True, True)]['count']\n",
    "prop_passed_contam = df_trunc_filter_counts.loc[(True, True)]['proportion']\n",
    "prop_passed_contam_abun = prop_passed_contam / prop_passed_abun\n",
    "num_passed_contam_derep = df_trunc_filter_counts.loc[(True, True)]['count derep']\n",
    "prop_passed_contam_derep = df_trunc_filter_counts.loc[(True, True)]['proportion derep']\n",
    "prop_passed_contam_abun_derep = prop_passed_contam_derep / prop_passed_abun_derep\n",
    "display(md(f\"- {num_passed_abun} ({prop_passed_abun:.2%}) passed the abundance filter\\n\"\n",
    "           f\"\\t- {num_passed_abun_derep} ({prop_passed_abun_derep:.2%}) after dereplication within samples\\n\"\n",
    "           f\"- {num_passed_contam} ({prop_passed_contam:.2%} of all, {prop_passed_contam_abun:.2%} of abundant) passed the contamination filter\\n\"\n",
    "           f\"\\t- {num_passed_contam_derep} ({prop_passed_contam_derep:.2%} of all, {prop_passed_contam_abun_derep:.2%} of abundant) after dereplication within samples\"))"
   ]
  },
  {
   "cell_type": "code",
   "execution_count": 9,
   "metadata": {},
   "outputs": [
    {
     "data": {
      "text/markdown": [
       "## Comparing filter results before and after truncation"
      ],
      "text/plain": [
       "<IPython.core.display.Markdown object>"
      ]
     },
     "metadata": {},
     "output_type": "display_data"
    },
    {
     "data": {
      "text/markdown": [
       "Of all 64279 truncated ZOTUs (61373 after dereplication within samples) found across all samples:"
      ],
      "text/plain": [
       "<IPython.core.display.Markdown object>"
      ]
     },
     "metadata": {},
     "output_type": "display_data"
    },
    {
     "data": {
      "text/html": [
       "<div>\n",
       "<style scoped>\n",
       "    .dataframe tbody tr th:only-of-type {\n",
       "        vertical-align: middle;\n",
       "    }\n",
       "\n",
       "    .dataframe tbody tr th {\n",
       "        vertical-align: top;\n",
       "    }\n",
       "\n",
       "    .dataframe thead th {\n",
       "        text-align: right;\n",
       "    }\n",
       "</style>\n",
       "<table border=\"1\" class=\"dataframe\">\n",
       "  <thead>\n",
       "    <tr style=\"text-align: right;\">\n",
       "      <th></th>\n",
       "      <th></th>\n",
       "      <th></th>\n",
       "      <th></th>\n",
       "      <th>count</th>\n",
       "      <th>proportion</th>\n",
       "    </tr>\n",
       "    <tr>\n",
       "      <th>passed_abun_full</th>\n",
       "      <th>passed_abun_trunc</th>\n",
       "      <th>passed_contam_full</th>\n",
       "      <th>passed_contam_trunc</th>\n",
       "      <th></th>\n",
       "      <th></th>\n",
       "    </tr>\n",
       "  </thead>\n",
       "  <tbody>\n",
       "    <tr>\n",
       "      <th>False</th>\n",
       "      <th>False</th>\n",
       "      <th>False</th>\n",
       "      <th>False</th>\n",
       "      <td>57652.0</td>\n",
       "      <td>0.896903</td>\n",
       "    </tr>\n",
       "    <tr>\n",
       "      <th>True</th>\n",
       "      <th>True</th>\n",
       "      <th>True</th>\n",
       "      <th>True</th>\n",
       "      <td>5986.0</td>\n",
       "      <td>0.093125</td>\n",
       "    </tr>\n",
       "    <tr>\n",
       "      <th>False</th>\n",
       "      <th>True</th>\n",
       "      <th>False</th>\n",
       "      <th>True</th>\n",
       "      <td>546.0</td>\n",
       "      <td>0.008494</td>\n",
       "    </tr>\n",
       "    <tr>\n",
       "      <th>True</th>\n",
       "      <th>True</th>\n",
       "      <th>False</th>\n",
       "      <th>False</th>\n",
       "      <td>77.0</td>\n",
       "      <td>0.001198</td>\n",
       "    </tr>\n",
       "    <tr>\n",
       "      <th>False</th>\n",
       "      <th>True</th>\n",
       "      <th>False</th>\n",
       "      <th>False</th>\n",
       "      <td>18.0</td>\n",
       "      <td>0.000280</td>\n",
       "    </tr>\n",
       "    <tr>\n",
       "      <th>True</th>\n",
       "      <th>True</th>\n",
       "      <th></th>\n",
       "      <th></th>\n",
       "      <td>6063.0</td>\n",
       "      <td>0.094323</td>\n",
       "    </tr>\n",
       "    <tr>\n",
       "      <th>False</th>\n",
       "      <th>True</th>\n",
       "      <th></th>\n",
       "      <th></th>\n",
       "      <td>564.0</td>\n",
       "      <td>0.008774</td>\n",
       "    </tr>\n",
       "  </tbody>\n",
       "</table>\n",
       "</div>"
      ],
      "text/plain": [
       "                                                                             count  \\\n",
       "passed_abun_full passed_abun_trunc passed_contam_full passed_contam_trunc            \n",
       "False            False             False              False                57652.0   \n",
       "True             True              True               True                  5986.0   \n",
       "False            True              False              True                   546.0   \n",
       "True             True              False              False                   77.0   \n",
       "False            True              False              False                   18.0   \n",
       "True             True                                                       6063.0   \n",
       "False            True                                                        564.0   \n",
       "\n",
       "                                                                           proportion  \n",
       "passed_abun_full passed_abun_trunc passed_contam_full passed_contam_trunc              \n",
       "False            False             False              False                  0.896903  \n",
       "True             True              True               True                   0.093125  \n",
       "False            True              False              True                   0.008494  \n",
       "True             True              False              False                  0.001198  \n",
       "False            True              False              False                  0.000280  \n",
       "True             True                                                        0.094323  \n",
       "False            True                                                        0.008774  "
      ]
     },
     "metadata": {},
     "output_type": "display_data"
    },
    {
     "data": {
      "text/markdown": [
       "- 6063.0 passed the abundance filter both at full length and truncated\n",
       "- 564.0 passed the abundance filter only when truncated\n",
       "- 546.0 passed the contamination filter only when truncated\n",
       " (only because they would not have passed the abundance filter at full length)\n",
       "- None no longer pass the contamination filter after truncation when they would have passed at full length"
      ],
      "text/plain": [
       "<IPython.core.display.Markdown object>"
      ]
     },
     "metadata": {},
     "output_type": "display_data"
    },
    {
     "data": {
      "text/markdown": [
       "Of the 564.0 truncated ZOTUs that passed the abundance filter only when truncated:"
      ],
      "text/plain": [
       "<IPython.core.display.Markdown object>"
      ]
     },
     "metadata": {},
     "output_type": "display_data"
    },
    {
     "data": {
      "text/html": [
       "<div>\n",
       "<style scoped>\n",
       "    .dataframe tbody tr th:only-of-type {\n",
       "        vertical-align: middle;\n",
       "    }\n",
       "\n",
       "    .dataframe tbody tr th {\n",
       "        vertical-align: top;\n",
       "    }\n",
       "\n",
       "    .dataframe thead th {\n",
       "        text-align: right;\n",
       "    }\n",
       "</style>\n",
       "<table border=\"1\" class=\"dataframe\">\n",
       "  <thead>\n",
       "    <tr style=\"text-align: right;\">\n",
       "      <th></th>\n",
       "      <th></th>\n",
       "      <th>count</th>\n",
       "      <th>count derep</th>\n",
       "    </tr>\n",
       "    <tr>\n",
       "      <th>new_zotu_trunc</th>\n",
       "      <th>passed_contam_trunc</th>\n",
       "      <th></th>\n",
       "      <th></th>\n",
       "    </tr>\n",
       "  </thead>\n",
       "  <tbody>\n",
       "    <tr>\n",
       "      <th>False</th>\n",
       "      <th>True</th>\n",
       "      <td>317.0</td>\n",
       "      <td>252.0</td>\n",
       "    </tr>\n",
       "    <tr>\n",
       "      <th>True</th>\n",
       "      <th>True</th>\n",
       "      <td>229.0</td>\n",
       "      <td>129.0</td>\n",
       "    </tr>\n",
       "    <tr>\n",
       "      <th>False</th>\n",
       "      <th>False</th>\n",
       "      <td>14.0</td>\n",
       "      <td>10.0</td>\n",
       "    </tr>\n",
       "    <tr>\n",
       "      <th rowspan=\"2\" valign=\"top\">True</th>\n",
       "      <th>False</th>\n",
       "      <td>4.0</td>\n",
       "      <td>2.0</td>\n",
       "    </tr>\n",
       "    <tr>\n",
       "      <th></th>\n",
       "      <td>233.0</td>\n",
       "      <td>131.0</td>\n",
       "    </tr>\n",
       "  </tbody>\n",
       "</table>\n",
       "</div>"
      ],
      "text/plain": [
       "                                    count  count derep\n",
       "new_zotu_trunc passed_contam_trunc                    \n",
       "False          True                 317.0        252.0\n",
       "True           True                 229.0        129.0\n",
       "False          False                 14.0         10.0\n",
       "True           False                  4.0          2.0\n",
       "                                    233.0        131.0"
      ]
     },
     "metadata": {},
     "output_type": "display_data"
    },
    {
     "data": {
      "text/markdown": [
       "- 233.0 are \"new\", meaning that truncated they are not equal to a ZOTU that also passed the abundance filter at full length\n",
       "\t- 131.0 after dereplication within samples\n",
       "- 229.0 are \"new\" and also pass the contamination filter\n",
       "\t- 129.0 after dereplication within samples"
      ],
      "text/plain": [
       "<IPython.core.display.Markdown object>"
      ]
     },
     "metadata": {},
     "output_type": "display_data"
    }
   ],
   "source": [
    "# Comparing filter results before and after truncation\n",
    "df_abun_compare_counts = pd.DataFrame.join(\n",
    "    df_trunc.value_counts(subset=['passed_abun_full', 'passed_abun_trunc', 'passed_contam_full', 'passed_contam_trunc']),\n",
    "    df_trunc.value_counts(subset=['passed_abun_full', 'passed_abun_trunc', 'passed_contam_full', 'passed_contam_trunc'], normalize=True))\n",
    "df_abun_compare_counts.loc[(True,True,\"\",\"\"),:] = df_abun_compare_counts.loc[(True, True, slice(None), slice(None))][['count', 'proportion']].sum()\n",
    "df_abun_compare_counts.loc[(False,True,\"\",\"\"),:] = df_abun_compare_counts.loc[(False, True, slice(None), slice(None))][['count', 'proportion']].sum()\n",
    "display(md(\"## Comparing filter results before and after truncation\"))\n",
    "display(md(f\"Of all {df_trunc.shape[0]} truncated ZOTUs ({df_trunc_derep.shape[0]} after dereplication within samples) found across all samples:\"))\n",
    "display(df_abun_compare_counts)\n",
    "\n",
    "num_passed_abun_both = df_abun_compare_counts.loc[(True, True, '', '')]['count']\n",
    "num_passed_abun = df_abun_compare_counts.loc[(False, True, '', '')]['count']\n",
    "num_passed_contam = df_abun_compare_counts.loc[(slice(None), slice(None), False, True)]['count'].sum()\n",
    "display(md(f\"- {num_passed_abun_both} passed the abundance filter both at full length and truncated\\n\"\n",
    "           f\"- {num_passed_abun} passed the abundance filter only when truncated\\n\"\n",
    "           f\"- {num_passed_contam} passed the contamination filter only when truncated\\n (only because they would not have passed the abundance filter at full length)\\n\"\n",
    "           \"- None no longer pass the contamination filter after truncation when they would have passed at full length\"))\n",
    "\n",
    "df_abun_trunc_only = df[(df['passed_abun_full'] == False) & (df['passed_abun_trunc'] == True)]\n",
    "df_abun_full_unique_trunc = df[df['passed_abun_full'] == True][['srr_name', 'trunc_zotu_id']].drop_duplicates()\n",
    "df_abun_trunc_only = df_abun_trunc_only.merge(df_abun_full_unique_trunc,\n",
    "                                on=['srr_name', 'trunc_zotu_id'], how='left', indicator=True).set_index(df_abun_trunc_only.index)\n",
    "df_abun_trunc_only['new_zotu_trunc'] = df_abun_trunc_only['_merge'] == 'left_only'\n",
    "df_abun_trunc_only = df_abun_trunc_only.drop(columns=['_merge'])\n",
    "df_abun_trunc_only_counts = pd.DataFrame.join(\n",
    "    df_abun_trunc_only.value_counts(subset=['new_zotu_trunc', 'passed_contam_trunc']),\n",
    "    df_abun_trunc_only.drop_duplicates(subset=['srr_name', 'trunc_zotu_id']).value_counts(subset=['new_zotu_trunc', 'passed_contam_trunc']), rsuffix=\" derep\")\n",
    "df_abun_trunc_only_counts.loc[(True,\"\"),:] = df_abun_trunc_only_counts.loc[(True, slice(None))][['count', 'count derep']].sum()\n",
    "display(md(f\"Of the {num_passed_abun} truncated ZOTUs that passed the abundance filter only when truncated:\"))\n",
    "display(df_abun_trunc_only_counts)\n",
    "\n",
    "num_abun_trunc_only = df_abun_trunc_only_counts.loc[(True,'')]['count']\n",
    "num_abun_trunc_only_derep = df_abun_trunc_only_counts.loc[(True,'')]['count derep']\n",
    "num_contam_trunc_only = df_abun_trunc_only_counts.loc[(True,True)]['count']\n",
    "num_contam_trunc_only_derep = df_abun_trunc_only_counts.loc[(True,True)]['count derep']\n",
    "display(md(f\"- {num_abun_trunc_only} are \\\"new\\\", meaning that truncated they are not equal to a ZOTU that also passed the abundance filter at full length\\n\"\n",
    "           f\"\\t- {num_abun_trunc_only_derep} after dereplication within samples\\n\"\n",
    "           f\"- {num_contam_trunc_only} are \\\"new\\\" and also pass the contamination filter\\n\"\n",
    "           f\"\\t- {num_contam_trunc_only_derep} after dereplication within samples\"))"
   ]
  },
  {
   "cell_type": "markdown",
   "metadata": {},
   "source": [
    "# Reference table results"
   ]
  },
  {
   "cell_type": "code",
   "execution_count": 10,
   "metadata": {},
   "outputs": [
    {
     "data": {
      "text/markdown": [
       "## Comparing reference sequences before and after truncation"
      ],
      "text/plain": [
       "<IPython.core.display.Markdown object>"
      ]
     },
     "metadata": {},
     "output_type": "display_data"
    },
    {
     "data": {
      "text/markdown": [
       "The number of reference sequences (unique ZOTUs across all samples) is:\n",
       "- 1856 at full length\n",
       "- 1767 when truncating"
      ],
      "text/plain": [
       "<IPython.core.display.Markdown object>"
      ]
     },
     "metadata": {},
     "output_type": "display_data"
    },
    {
     "data": {
      "text/markdown": [
       "The 47 discarded ZOTUs that would have passed the contamination filter at full length include:"
      ],
      "text/plain": [
       "<IPython.core.display.Markdown object>"
      ]
     },
     "metadata": {},
     "output_type": "display_data"
    },
    {
     "data": {
      "text/html": [
       "<div>\n",
       "<style scoped>\n",
       "    .dataframe tbody tr th:only-of-type {\n",
       "        vertical-align: middle;\n",
       "    }\n",
       "\n",
       "    .dataframe tbody tr th {\n",
       "        vertical-align: top;\n",
       "    }\n",
       "\n",
       "    .dataframe thead th {\n",
       "        text-align: right;\n",
       "    }\n",
       "</style>\n",
       "<table border=\"1\" class=\"dataframe\">\n",
       "  <thead>\n",
       "    <tr style=\"text-align: right;\">\n",
       "      <th></th>\n",
       "      <th></th>\n",
       "      <th>count</th>\n",
       "    </tr>\n",
       "    <tr>\n",
       "      <th>location</th>\n",
       "      <th>refseq_full_exclusive_to_loc</th>\n",
       "      <th></th>\n",
       "    </tr>\n",
       "  </thead>\n",
       "  <tbody>\n",
       "    <tr>\n",
       "      <th>A</th>\n",
       "      <th>True</th>\n",
       "      <td>25</td>\n",
       "    </tr>\n",
       "    <tr>\n",
       "      <th>B</th>\n",
       "      <th>True</th>\n",
       "      <td>6</td>\n",
       "    </tr>\n",
       "  </tbody>\n",
       "</table>\n",
       "</div>"
      ],
      "text/plain": [
       "                                       count\n",
       "location refseq_full_exclusive_to_loc       \n",
       "A        True                             25\n",
       "B        True                              6"
      ]
     },
     "metadata": {},
     "output_type": "display_data"
    },
    {
     "data": {
      "text/markdown": [
       "- 31 reference sequences that are therefore not included after truncation\n",
       "\t- None of them apear in both location A and B"
      ],
      "text/plain": [
       "<IPython.core.display.Markdown object>"
      ]
     },
     "metadata": {},
     "output_type": "display_data"
    },
    {
     "data": {
      "text/markdown": [
       "The 5986 ZOTUs (5922 after dereplication within samples) that passed truncation and passed the contamination filter at full length (and therefore also after truncation as previously shown) include:"
      ],
      "text/plain": [
       "<IPython.core.display.Markdown object>"
      ]
     },
     "metadata": {},
     "output_type": "display_data"
    },
    {
     "data": {
      "text/html": [
       "<div>\n",
       "<style scoped>\n",
       "    .dataframe tbody tr th:only-of-type {\n",
       "        vertical-align: middle;\n",
       "    }\n",
       "\n",
       "    .dataframe tbody tr th {\n",
       "        vertical-align: top;\n",
       "    }\n",
       "\n",
       "    .dataframe thead th {\n",
       "        text-align: right;\n",
       "    }\n",
       "</style>\n",
       "<table border=\"1\" class=\"dataframe\">\n",
       "  <thead>\n",
       "    <tr style=\"text-align: right;\">\n",
       "      <th></th>\n",
       "      <th></th>\n",
       "      <th></th>\n",
       "      <th>count_full</th>\n",
       "      <th>count_trunc</th>\n",
       "    </tr>\n",
       "    <tr>\n",
       "      <th>location</th>\n",
       "      <th>refseq_full_exclusive_to_loc</th>\n",
       "      <th>refseq_trunc_exclusive_to_loc</th>\n",
       "      <th></th>\n",
       "      <th></th>\n",
       "    </tr>\n",
       "  </thead>\n",
       "  <tbody>\n",
       "    <tr>\n",
       "      <th>A</th>\n",
       "      <th>True</th>\n",
       "      <th>True</th>\n",
       "      <td>971</td>\n",
       "      <td>934</td>\n",
       "    </tr>\n",
       "    <tr>\n",
       "      <th rowspan=\"2\" valign=\"top\">B</th>\n",
       "      <th>True</th>\n",
       "      <th>True</th>\n",
       "      <td>789</td>\n",
       "      <td>750</td>\n",
       "    </tr>\n",
       "    <tr>\n",
       "      <th>False</th>\n",
       "      <th>False</th>\n",
       "      <td>53</td>\n",
       "      <td>51</td>\n",
       "    </tr>\n",
       "    <tr>\n",
       "      <th>A</th>\n",
       "      <th>False</th>\n",
       "      <th>False</th>\n",
       "      <td>53</td>\n",
       "      <td>52</td>\n",
       "    </tr>\n",
       "    <tr>\n",
       "      <th>B</th>\n",
       "      <th>True</th>\n",
       "      <th>False</th>\n",
       "      <td>8</td>\n",
       "      <td>2</td>\n",
       "    </tr>\n",
       "    <tr>\n",
       "      <th>A</th>\n",
       "      <th>True</th>\n",
       "      <th>False</th>\n",
       "      <td>4</td>\n",
       "      <td>1</td>\n",
       "    </tr>\n",
       "  </tbody>\n",
       "</table>\n",
       "</div>"
      ],
      "text/plain": [
       "                                                                     count_full  \\\n",
       "location refseq_full_exclusive_to_loc refseq_trunc_exclusive_to_loc               \n",
       "A        True                         True                                  971   \n",
       "B        True                         True                                  789   \n",
       "         False                        False                                  53   \n",
       "A        False                        False                                  53   \n",
       "B        True                         False                                   8   \n",
       "A        True                         False                                   4   \n",
       "\n",
       "                                                                     count_trunc  \n",
       "location refseq_full_exclusive_to_loc refseq_trunc_exclusive_to_loc               \n",
       "A        True                         True                                   934  \n",
       "B        True                         True                                   750  \n",
       "         False                        False                                   51  \n",
       "A        False                        False                                   52  \n",
       "B        True                         False                                    2  \n",
       "A        True                         False                                    1  "
      ]
     },
     "metadata": {},
     "output_type": "display_data"
    },
    {
     "data": {
      "text/markdown": [
       "- 1772 full length reference sequences that only appear in one location\n",
       "\t- of which 1760 also only apear in one location after truncation\n",
       "\t\t- resulting in 1684 truncated reference sequences\n",
       "\t- of which 4 are no longer exclusive to location A after truncation\n",
       "\t\t- resulting in 1 truncated reference sequences\n",
       "\t- of which 8 are no longer exclusive to location B after truncation\n",
       "\t\t- resulting in 2 truncated reference sequences\n",
       "- 53 full length reference sequences appear in both locations"
      ],
      "text/plain": [
       "<IPython.core.display.Markdown object>"
      ]
     },
     "metadata": {},
     "output_type": "display_data"
    },
    {
     "data": {
      "text/markdown": [
       "The 229 new ZOTUs (129 after dereplication within samples) that passed the contamination filter after truncation include:"
      ],
      "text/plain": [
       "<IPython.core.display.Markdown object>"
      ]
     },
     "metadata": {},
     "output_type": "display_data"
    },
    {
     "data": {
      "text/html": [
       "<div>\n",
       "<style scoped>\n",
       "    .dataframe tbody tr th:only-of-type {\n",
       "        vertical-align: middle;\n",
       "    }\n",
       "\n",
       "    .dataframe tbody tr th {\n",
       "        vertical-align: top;\n",
       "    }\n",
       "\n",
       "    .dataframe thead th {\n",
       "        text-align: right;\n",
       "    }\n",
       "</style>\n",
       "<table border=\"1\" class=\"dataframe\">\n",
       "  <thead>\n",
       "    <tr style=\"text-align: right;\">\n",
       "      <th></th>\n",
       "      <th></th>\n",
       "      <th></th>\n",
       "      <th>count</th>\n",
       "    </tr>\n",
       "    <tr>\n",
       "      <th>location</th>\n",
       "      <th>new_refseq_trunc_within_loc</th>\n",
       "      <th>new_refseq_trunc_outside_loc</th>\n",
       "      <th></th>\n",
       "    </tr>\n",
       "  </thead>\n",
       "  <tbody>\n",
       "    <tr>\n",
       "      <th>A</th>\n",
       "      <th>False</th>\n",
       "      <th>False</th>\n",
       "      <td>50</td>\n",
       "    </tr>\n",
       "    <tr>\n",
       "      <th>B</th>\n",
       "      <th>False</th>\n",
       "      <th>False</th>\n",
       "      <td>22</td>\n",
       "    </tr>\n",
       "    <tr>\n",
       "      <th>A</th>\n",
       "      <th>True</th>\n",
       "      <th>True</th>\n",
       "      <td>21</td>\n",
       "    </tr>\n",
       "    <tr>\n",
       "      <th>B</th>\n",
       "      <th>True</th>\n",
       "      <th>True</th>\n",
       "      <td>9</td>\n",
       "    </tr>\n",
       "    <tr>\n",
       "      <th>A</th>\n",
       "      <th>True</th>\n",
       "      <th>False</th>\n",
       "      <td>1</td>\n",
       "    </tr>\n",
       "    <tr>\n",
       "      <th>B</th>\n",
       "      <th>True</th>\n",
       "      <th>False</th>\n",
       "      <td>1</td>\n",
       "    </tr>\n",
       "  </tbody>\n",
       "</table>\n",
       "</div>"
      ],
      "text/plain": [
       "                                                                   count\n",
       "location new_refseq_trunc_within_loc new_refseq_trunc_outside_loc       \n",
       "A        False                       False                            50\n",
       "B        False                       False                            22\n",
       "A        True                        True                             21\n",
       "B        True                        True                              9\n",
       "A        True                        False                             1\n",
       "B        True                        False                             1"
      ]
     },
     "metadata": {},
     "output_type": "display_data"
    },
    {
     "data": {
      "text/markdown": [
       "- 102 reference sequences, of which 30 are only found among the new ZOTUs\n",
       "\t- 1 reference sequence is new among the ZOTUs in location A but not in B\n",
       "\t- 1 reference sequence is new among the ZOTUs in location B but not in A"
      ],
      "text/plain": [
       "<IPython.core.display.Markdown object>"
      ]
     },
     "metadata": {},
     "output_type": "display_data"
    }
   ],
   "source": [
    "#Comparing reference sequences before and after truncation\n",
    "num_ref_full = df_refseq_full.shape[0]\n",
    "num_ref_trunc = df_refseq.shape[0]\n",
    "\n",
    "display(md(\"## Comparing reference sequences before and after truncation\"))\n",
    "display(md(f\"The number of reference sequences (unique ZOTUs across all samples) is:\\n\"\n",
    "           f\"- {num_ref_full} at full length\\n\"\n",
    "           f\"- {num_ref_trunc} when truncating\"))\n",
    "\n",
    "# ---\n",
    "\n",
    "df_discard_contam_full = df_discard[df_discard[\"passed_contam_full\"] == True]\n",
    "df_discard_refseq_full = df_discard_contam_full.drop_duplicates(subset=[\"location\", \"refsequence_pk_full\"]).copy()\n",
    "\n",
    "df_discard_refseq_full[\"refseq_full_exclusive_to_loc\"] = ~(\n",
    "    df_discard_refseq_full[\"refsequence_pk_full\"].isin(df_discard_refseq_full[df_discard_refseq_full[\"location\"] == \"A\"][\"refsequence_pk_full\"]) &\n",
    "    df_discard_refseq_full[\"refsequence_pk_full\"].isin(df_discard_refseq_full[df_discard_refseq_full[\"location\"] == \"B\"][\"refsequence_pk_full\"])\n",
    ")\n",
    "\n",
    "df_discard_refseq_full_count = pd.DataFrame(df_discard_refseq_full.value_counts(subset=[\"location\", \"refseq_full_exclusive_to_loc\"]))\n",
    "\n",
    "num_discard_contam_full = df_discard_contam_full.shape[0]\n",
    "num_discard_refseq_full = df_discard_contam_full.drop_duplicates(subset=\"refsequence_pk_full\").shape[0]\n",
    "display(md(f\"The {num_discard_contam_full} discarded ZOTUs that would have passed the contamination filter at full length include:\"))\n",
    "display(df_discard_refseq_full_count)\n",
    "display(md(f\"- {num_discard_refseq_full} reference sequences that are therefore not included after truncation\\n\"\n",
    "           f\"\\t- None of them apear in both location A and B\"))\n",
    "\n",
    "\n",
    "#---\n",
    "\n",
    "df_trunc_contam_full = df_trunc[df_trunc[\"passed_contam_full\"] == True]\n",
    "df_trunc_refseq_both = df_trunc_contam_full.drop_duplicates(subset=[\"location\", \"refsequence_pk_full\", \"refsequence_pk_trunc\"]).copy()\n",
    "\n",
    "df_trunc_refseq_both[\"refseq_full_exclusive_to_loc\"] = ~(\n",
    "    df_trunc_refseq_both[\"refsequence_pk_full\"].isin(df_trunc_refseq_both[df_trunc_refseq_both[\"location\"] == \"A\"][\"refsequence_pk_full\"]) &\n",
    "    df_trunc_refseq_both[\"refsequence_pk_full\"].isin(df_trunc_refseq_both[df_trunc_refseq_both[\"location\"] == \"B\"][\"refsequence_pk_full\"]\n",
    "))\n",
    "df_trunc_refseq_both[\"refseq_trunc_exclusive_to_loc\"] = ~(\n",
    "    df_trunc_refseq_both[\"refsequence_pk_trunc\"].isin(df_trunc_refseq_both[df_trunc_refseq_both[\"location\"] == \"A\"][\"refsequence_pk_trunc\"]) &\n",
    "    df_trunc_refseq_both[\"refsequence_pk_trunc\"].isin(df_trunc_refseq_both[df_trunc_refseq_both[\"location\"] == \"B\"][\"refsequence_pk_trunc\"]\n",
    "))\n",
    "\n",
    "df_trunc_refseq_both_count = pd.DataFrame.join(\n",
    "    df_trunc_refseq_both.value_counts(subset=[\"location\", \"refseq_full_exclusive_to_loc\", \"refseq_trunc_exclusive_to_loc\"]),\n",
    "    df_trunc_refseq_both.drop_duplicates(subset=[\"location\", \"refsequence_pk_trunc\"]).value_counts(subset=[\"location\", \"refseq_full_exclusive_to_loc\", \"refseq_trunc_exclusive_to_loc\"]),\n",
    "    lsuffix=\"_full\", rsuffix=\"_trunc\")\n",
    "\n",
    "num_trunc_contam_full = df_trunc_contam_full.shape[0]\n",
    "num_trunc_contam_full_trunc_derep = df_trunc_contam_full.drop_duplicates(subset=[\"srr_name\", \"trunc_zotu_id\"]).shape[0]\n",
    "num_trunc_refseq_full_exclusive_full = df_trunc_refseq_both_count.loc[(slice(None), True, slice(None))][\"count_full\"].sum()\n",
    "num_trunc_refseq_both_exclusive_full = df_trunc_refseq_both_count.loc[(slice(None), True, True)][\"count_full\"].sum()\n",
    "num_trunc_refseq_both_exclusive_trunc = df_trunc_refseq_both_count.loc[(slice(None), True, True)][\"count_trunc\"].sum()\n",
    "num_trunc_refseq_full_exclusive_A_full = df_trunc_refseq_both_count.loc[(\"A\", True, False)][\"count_full\"].sum()\n",
    "num_trunc_refseq_full_exclusive_A_trunc = df_trunc_refseq_both_count.loc[(\"A\", True, False)][\"count_trunc\"].sum()\n",
    "num_trunc_refseq_full_exclusive_B_full = df_trunc_refseq_both_count.loc[(\"B\", True, False)][\"count_full\"].sum()\n",
    "num_trunc_refseq_full_exclusive_B_trunc = df_trunc_refseq_both_count.loc[(\"B\", True, False)][\"count_trunc\"].sum()\n",
    "num_trunc_refseq_not_exclusive_full = df_trunc_refseq_both_count.loc[\"A\", False, slice(None)][\"count_full\"].sum()\n",
    "\n",
    "display(md(f\"The {num_trunc_contam_full} ZOTUs ({num_trunc_contam_full_trunc_derep} after dereplication within samples) that passed truncation and passed the contamination filter at full length (and therefore also after truncation as previously shown) include:\"))\n",
    "display(df_trunc_refseq_both_count)\n",
    "display(md(f\"- {num_trunc_refseq_full_exclusive_full} full length reference sequences that only appear in one location\\n\"\n",
    "           f\"\\t- of which {num_trunc_refseq_both_exclusive_full} also only apear in one location after truncation\\n\"\n",
    "           f\"\\t\\t- resulting in {num_trunc_refseq_both_exclusive_trunc} truncated reference sequences\\n\"\n",
    "           f\"\\t- of which {num_trunc_refseq_full_exclusive_A_full} are no longer exclusive to location A after truncation\\n\"\n",
    "           f\"\\t\\t- resulting in {num_trunc_refseq_full_exclusive_A_trunc} truncated reference sequences\\n\"\n",
    "           f\"\\t- of which {num_trunc_refseq_full_exclusive_B_full} are no longer exclusive to location B after truncation\\n\"\n",
    "           f\"\\t\\t- resulting in {num_trunc_refseq_full_exclusive_B_trunc} truncated reference sequences\\n\"\n",
    "           f\"- {num_trunc_refseq_not_exclusive_full} full length reference sequences appear in both locations\"\n",
    "           ))\n",
    "\n",
    "\n",
    "# ---\n",
    "\n",
    "df_trunc_new_contam = df_abun_trunc_only[(df_abun_trunc_only[\"new_zotu_trunc\"] == True) & (df_abun_trunc_only['passed_contam_trunc'] == True)]\n",
    "df_trunc_refseq_new_zotu = df_trunc_new_contam.drop_duplicates(subset=[\"location\", \"refsequence_pk_trunc\"])\n",
    "df_trunc_refseq_both_trunc = df_trunc_refseq_both.drop_duplicates(subset=[\"location\", \"refsequence_pk_trunc\"])\n",
    "\n",
    "df_trunc_refseq_new_zotu= df_trunc_refseq_new_zotu.merge(\n",
    "    df_trunc_refseq_both_trunc[[\"location\", \"refsequence_pk_trunc\"]],\n",
    "    on=[\"location\", \"refsequence_pk_trunc\"], how=\"left\", indicator=True).set_index(df_trunc_refseq_new_zotu.index)\n",
    "df_trunc_refseq_new_zotu[\"new_refseq_trunc_within_loc\"] = df_trunc_refseq_new_zotu[\"_merge\"] == \"left_only\"\n",
    "df_trunc_refseq_new_zotu = df_trunc_refseq_new_zotu.drop(columns=['_merge'])\n",
    "\n",
    "df_trunc_refseq_new_zotu[\"new_refseq_trunc_outside_loc\"] = ~(\n",
    "    df_trunc_refseq_new_zotu[\"refsequence_pk_trunc\"].isin(df_trunc_refseq_both_trunc[\"refsequence_pk_trunc\"])\n",
    ")\n",
    "\n",
    "df_trunc_refseq_new_zotu_count = pd.DataFrame(df_trunc_refseq_new_zotu.value_counts(subset=[\"location\", \"new_refseq_trunc_within_loc\", \"new_refseq_trunc_outside_loc\"]))\n",
    "\n",
    "num_trunc_new_contam = df_trunc_new_contam.shape[0]\n",
    "num_trunc_new_contam_derep = df_trunc_new_contam.drop_duplicates(subset=[\"srr_name\", \"trunc_zotu_id\"]).shape[0]\n",
    "num_trunc_refseq_new_zotu_not_new_refseq = df_trunc_refseq_new_zotu_count.loc[(slice(None), False, False)][\"count\"].sum()\n",
    "num_trunc_refseq_new_zotu_new_refseq = df_trunc_refseq_new_zotu_count.loc[(slice(None), True, True)][\"count\"].sum()\n",
    "num_trunc_refseq_new_zotu = num_trunc_refseq_new_zotu_not_new_refseq + num_trunc_refseq_new_zotu_new_refseq\n",
    "num_trunc_refseq_new_zotu_newA = df_trunc_refseq_new_zotu_count.loc[(\"A\", True, False)][\"count\"]\n",
    "num_trunc_refseq_new_zotu_newB = df_trunc_refseq_new_zotu_count.loc[(\"B\", True, False)][\"count\"]\n",
    "display(md(f\"The {num_trunc_new_contam} new ZOTUs ({num_trunc_new_contam_derep} after dereplication within samples) that passed the contamination filter after truncation include:\"))\n",
    "display(df_trunc_refseq_new_zotu_count)\n",
    "display(md(f\"- {num_trunc_refseq_new_zotu} reference sequences, of which {num_trunc_refseq_new_zotu_new_refseq} are only found among the new ZOTUs\\n\"\n",
    "           f\"\\t- {num_trunc_refseq_new_zotu_newA} reference sequence is new among the ZOTUs in location A but not in B\\n\"\n",
    "           f\"\\t- {num_trunc_refseq_new_zotu_newB} reference sequence is new among the ZOTUs in location B but not in A\"))\n",
    "\n",
    "\n",
    "\n"
   ]
  },
  {
   "cell_type": "markdown",
   "metadata": {},
   "source": [
    "# Taxonomy table results"
   ]
  },
  {
   "cell_type": "code",
   "execution_count": 31,
   "metadata": {},
   "outputs": [
    {
     "data": {
      "text/markdown": [
       "Of the 31 discarded reference sequences:"
      ],
      "text/plain": [
       "<IPython.core.display.Markdown object>"
      ]
     },
     "metadata": {},
     "output_type": "display_data"
    },
    {
     "data": {
      "text/html": [
       "<div>\n",
       "<style scoped>\n",
       "    .dataframe tbody tr th:only-of-type {\n",
       "        vertical-align: middle;\n",
       "    }\n",
       "\n",
       "    .dataframe tbody tr th {\n",
       "        vertical-align: top;\n",
       "    }\n",
       "\n",
       "    .dataframe thead th {\n",
       "        text-align: right;\n",
       "    }\n",
       "</style>\n",
       "<table border=\"1\" class=\"dataframe\">\n",
       "  <thead>\n",
       "    <tr style=\"text-align: right;\">\n",
       "      <th></th>\n",
       "      <th></th>\n",
       "      <th></th>\n",
       "      <th>count</th>\n",
       "    </tr>\n",
       "    <tr>\n",
       "      <th>location</th>\n",
       "      <th>refseq_full_exclusive_to_loc</th>\n",
       "      <th>tax_missing_full</th>\n",
       "      <th></th>\n",
       "    </tr>\n",
       "  </thead>\n",
       "  <tbody>\n",
       "    <tr>\n",
       "      <th rowspan=\"2\" valign=\"top\">A</th>\n",
       "      <th rowspan=\"2\" valign=\"top\">True</th>\n",
       "      <th>False</th>\n",
       "      <td>19</td>\n",
       "    </tr>\n",
       "    <tr>\n",
       "      <th>True</th>\n",
       "      <td>6</td>\n",
       "    </tr>\n",
       "    <tr>\n",
       "      <th rowspan=\"2\" valign=\"top\">B</th>\n",
       "      <th rowspan=\"2\" valign=\"top\">True</th>\n",
       "      <th>True</th>\n",
       "      <td>4</td>\n",
       "    </tr>\n",
       "    <tr>\n",
       "      <th>False</th>\n",
       "      <td>2</td>\n",
       "    </tr>\n",
       "  </tbody>\n",
       "</table>\n",
       "</div>"
      ],
      "text/plain": [
       "                                                        count\n",
       "location refseq_full_exclusive_to_loc tax_missing_full       \n",
       "A        True                         False                19\n",
       "                                      True                  6\n",
       "B        True                         True                  4\n",
       "                                      False                 2"
      ]
     },
     "metadata": {},
     "output_type": "display_data"
    },
    {
     "data": {
      "text/markdown": [
       "- 10 did not have a UNITE hit"
      ],
      "text/plain": [
       "<IPython.core.display.Markdown object>"
      ]
     },
     "metadata": {},
     "output_type": "display_data"
    },
    {
     "data": {
      "text/html": [
       "<div>\n",
       "<style scoped>\n",
       "    .dataframe tbody tr th:only-of-type {\n",
       "        vertical-align: middle;\n",
       "    }\n",
       "\n",
       "    .dataframe tbody tr th {\n",
       "        vertical-align: top;\n",
       "    }\n",
       "\n",
       "    .dataframe thead th {\n",
       "        text-align: right;\n",
       "    }\n",
       "</style>\n",
       "<table border=\"1\" class=\"dataframe\">\n",
       "  <thead>\n",
       "    <tr style=\"text-align: right;\">\n",
       "      <th></th>\n",
       "      <th></th>\n",
       "      <th></th>\n",
       "      <th></th>\n",
       "      <th>count</th>\n",
       "    </tr>\n",
       "    <tr>\n",
       "      <th>location</th>\n",
       "      <th>UNITE_id_in_refseq_both_full</th>\n",
       "      <th>UNITE_id_in_refseq_both_trunc</th>\n",
       "      <th>UNITE_id_in_new_refseq</th>\n",
       "      <th></th>\n",
       "    </tr>\n",
       "  </thead>\n",
       "  <tbody>\n",
       "    <tr>\n",
       "      <th rowspan=\"2\" valign=\"top\">A</th>\n",
       "      <th>False</th>\n",
       "      <th>False</th>\n",
       "      <th>False</th>\n",
       "      <td>13</td>\n",
       "    </tr>\n",
       "    <tr>\n",
       "      <th>True</th>\n",
       "      <th>True</th>\n",
       "      <th>False</th>\n",
       "      <td>1</td>\n",
       "    </tr>\n",
       "    <tr>\n",
       "      <th>B</th>\n",
       "      <th>False</th>\n",
       "      <th>False</th>\n",
       "      <th>False</th>\n",
       "      <td>1</td>\n",
       "    </tr>\n",
       "  </tbody>\n",
       "</table>\n",
       "</div>"
      ],
      "text/plain": [
       "                                                                                            count\n",
       "location UNITE_id_in_refseq_both_full UNITE_id_in_refseq_both_trunc UNITE_id_in_new_refseq       \n",
       "A        False                        False                         False                      13\n",
       "         True                         True                          False                       1\n",
       "B        False                        False                         False                       1"
      ]
     },
     "metadata": {},
     "output_type": "display_data"
    },
    {
     "data": {
      "text/markdown": [
       "- The remaining 21 map to 15 unique UNITE hits within locations\n",
       "\t- 14 of these hits are no longer present within locations after truncating"
      ],
      "text/plain": [
       "<IPython.core.display.Markdown object>"
      ]
     },
     "metadata": {},
     "output_type": "display_data"
    },
    {
     "data": {
      "text/html": [
       "<div>\n",
       "<style scoped>\n",
       "    .dataframe tbody tr th:only-of-type {\n",
       "        vertical-align: middle;\n",
       "    }\n",
       "\n",
       "    .dataframe tbody tr th {\n",
       "        vertical-align: top;\n",
       "    }\n",
       "\n",
       "    .dataframe thead th {\n",
       "        text-align: right;\n",
       "    }\n",
       "</style>\n",
       "<table border=\"1\" class=\"dataframe\">\n",
       "  <thead>\n",
       "    <tr style=\"text-align: right;\">\n",
       "      <th></th>\n",
       "      <th>count</th>\n",
       "    </tr>\n",
       "    <tr>\n",
       "      <th>phylum_full</th>\n",
       "      <th></th>\n",
       "    </tr>\n",
       "  </thead>\n",
       "  <tbody>\n",
       "    <tr>\n",
       "      <th>Rozellomycota</th>\n",
       "      <td>7</td>\n",
       "    </tr>\n",
       "    <tr>\n",
       "      <th>Fungi_phy_Incertae_sedis</th>\n",
       "      <td>4</td>\n",
       "    </tr>\n",
       "    <tr>\n",
       "      <th>Ascomycota</th>\n",
       "      <td>3</td>\n",
       "    </tr>\n",
       "  </tbody>\n",
       "</table>\n",
       "</div>"
      ],
      "text/plain": [
       "                          count\n",
       "phylum_full                    \n",
       "Rozellomycota                 7\n",
       "Fungi_phy_Incertae_sedis      4\n",
       "Ascomycota                    3"
      ]
     },
     "metadata": {},
     "output_type": "display_data"
    },
    {
     "ename": "NameError",
     "evalue": "name 'df_trunc_refseq_full_loc' is not defined",
     "output_type": "error",
     "traceback": [
      "\u001b[0;31m---------------------------------------------------------------------------\u001b[0m",
      "\u001b[0;31mNameError\u001b[0m                                 Traceback (most recent call last)",
      "Cell \u001b[0;32mIn[31], line 53\u001b[0m\n\u001b[1;32m     48\u001b[0m display(df_discard_unite_full_elsewhere_tax_count)\n\u001b[1;32m     51\u001b[0m \u001b[38;5;66;03m#Taxonomic differences on ZOTUs that pass at full length and after truncation\u001b[39;00m\n\u001b[0;32m---> 53\u001b[0m df_trunc_refseq_full_loc_tax_missing_count \u001b[38;5;241m=\u001b[39m pd\u001b[38;5;241m.\u001b[39mDataFrame(\u001b[43mdf_trunc_refseq_full_loc\u001b[49m\u001b[38;5;241m.\u001b[39mvalue_counts(subset\u001b[38;5;241m=\u001b[39m[\u001b[38;5;124m\"\u001b[39m\u001b[38;5;124mlocation\u001b[39m\u001b[38;5;124m\"\u001b[39m, \u001b[38;5;124m\"\u001b[39m\u001b[38;5;124mexclusive_to_loc\u001b[39m\u001b[38;5;124m\"\u001b[39m, \u001b[38;5;124m\"\u001b[39m\u001b[38;5;124mtax_missing_full\u001b[39m\u001b[38;5;124m\"\u001b[39m, \u001b[38;5;124m\"\u001b[39m\u001b[38;5;124mtax_missing_trunc\u001b[39m\u001b[38;5;124m\"\u001b[39m]))\n\u001b[1;32m     54\u001b[0m display(df_trunc_refseq_full_loc_tax_missing_count)\n\u001b[1;32m     56\u001b[0m df_trunc_unite_full_new \u001b[38;5;241m=\u001b[39m df_trunc_refseq_full_loc[df_trunc_refseq_full_loc[\u001b[38;5;124m\"\u001b[39m\u001b[38;5;124mtax_missing_full\u001b[39m\u001b[38;5;124m\"\u001b[39m] \u001b[38;5;241m!=\u001b[39m df_trunc_refseq_full_loc[\u001b[38;5;124m\"\u001b[39m\u001b[38;5;124mtax_missing_trunc\u001b[39m\u001b[38;5;124m\"\u001b[39m]]\u001b[38;5;241m.\u001b[39mdrop_duplicates(subset\u001b[38;5;241m=\u001b[39m[\u001b[38;5;124m\"\u001b[39m\u001b[38;5;124mlocation\u001b[39m\u001b[38;5;124m\"\u001b[39m, \u001b[38;5;124m\"\u001b[39m\u001b[38;5;124mUNITE_id_trunc\u001b[39m\u001b[38;5;124m\"\u001b[39m])\n",
      "\u001b[0;31mNameError\u001b[0m: name 'df_trunc_refseq_full_loc' is not defined"
     ]
    }
   ],
   "source": [
    "#Taxonomic results on the discarded sequences\n",
    "df_discard_refseq_full_tax_missing_count = pd.DataFrame(df_discard_refseq_full.value_counts(subset=[\"location\", \"refseq_full_exclusive_to_loc\", \"tax_missing_full\"]))\n",
    "\n",
    "df_discard_unite_full = df_discard_refseq_full[df_discard_refseq_full[\"tax_missing_full\"] == False].drop_duplicates(subset=[\"location\", \"UNITE_id_full\"])\n",
    "\n",
    "df_trunc_unite_refseq_both = df_trunc_refseq_both[df_trunc_refseq_both[\"tax_missing_trunc\"] == False].drop_duplicates(subset=[\"location\", \"UNITE_id_full\", \"UNITE_id_trunc\"])\n",
    "df_trunc_unite_refseq_both_full = df_trunc_unite_refseq_both.drop_duplicates(subset=[\"location\", \"UNITE_id_full\"])\n",
    "df_trunc_unite_refseq_both_trunc = df_trunc_unite_refseq_both.drop_duplicates(subset=[\"location\", \"UNITE_id_trunc\"])\n",
    "\n",
    "df_trunc_unite_new_refseq = df_trunc_refseq_new_zotu[\n",
    "    (df_trunc_refseq_new_zotu[\"new_refseq_trunc_within_loc\"] == True) & (df_trunc_refseq_new_zotu[\"tax_missing_trunc\"] == True)].drop_duplicates(subset=[\"location\", \"UNITE_id_trunc\"])\n",
    "\n",
    "df_discard_unite_full = df_discard_unite_full.merge(\n",
    "    df_trunc_unite_refseq_both_full[[\"location\", \"UNITE_id_full\"]],\n",
    "    on=[\"location\",\"UNITE_id_full\"], how=\"left\", indicator=True).set_index(df_discard_unite_full.index)\n",
    "df_discard_unite_full[\"UNITE_id_in_refseq_both_full\"] = df_discard_unite_full[\"_merge\"] == \"both\"\n",
    "df_discard_unite_full = df_discard_unite_full.drop(columns=[\"_merge\"])\n",
    "\n",
    "df_discard_unite_full = df_discard_unite_full.merge(\n",
    "    df_trunc_unite_refseq_both_trunc[[\"location\", \"UNITE_id_trunc\"]].rename(columns={\"UNITE_id_trunc\": \"UNITE_id_full\"}),\n",
    "    on=[\"location\",\"UNITE_id_full\"], how=\"left\", indicator=True).set_index(df_discard_unite_full.index)\n",
    "df_discard_unite_full[\"UNITE_id_in_refseq_both_trunc\"] = df_discard_unite_full[\"_merge\"] == \"both\"\n",
    "df_discard_unite_full = df_discard_unite_full.drop(columns=[\"_merge\"])\n",
    "\n",
    "df_discard_unite_full = df_discard_unite_full.merge(\n",
    "    df_trunc_unite_new_refseq[[\"location\", \"UNITE_id_trunc\"]].rename(columns={\"UNITE_id_trunc\": \"UNITE_id_full\"}),\n",
    "    on=[\"location\",\"UNITE_id_full\"], how=\"left\", indicator=True).set_index(df_discard_unite_full.index)\n",
    "df_discard_unite_full[\"UNITE_id_in_new_refseq\"] = df_discard_unite_full[\"_merge\"] == \"both\"\n",
    "df_discard_unite_full = df_discard_unite_full.drop(columns=[\"_merge\"])\n",
    "\n",
    "df_discard_unite_full_counts = pd.DataFrame(df_discard_unite_full.value_counts(\n",
    "    subset=[\"location\", \"UNITE_id_in_refseq_both_full\", \"UNITE_id_in_refseq_both_trunc\", \"UNITE_id_in_new_refseq\"]))\n",
    "\n",
    "num_discard_refseq_full_unite_na = df_discard_refseq_full[df_discard_refseq_full[\"tax_missing_full\"] == True].shape[0]\n",
    "num_discard_refseq_full_unite = df_discard_refseq_full[df_discard_refseq_full[\"tax_missing_full\"] == False].shape[0]\n",
    "num_discard_unite_full = df_discard_unite_full.shape[0]\n",
    "num_discard_unite_full_not_elsewhere = df_discard_unite_full_counts.loc[(slice(None), slice(None), False, False)][\"count\"].sum()\n",
    "display(md(f\"Of the {num_discard_refseq_full} discarded reference sequences:\"))\n",
    "display(df_discard_refseq_full_tax_missing_count)\n",
    "display(md(f\"- {num_discard_refseq_full_unite_na} did not have a UNITE hit\"))\n",
    "display(df_discard_unite_full_counts)\n",
    "display(md(f\"- The remaining {num_discard_refseq_full_unite} map to {num_discard_unite_full} unique UNITE hits within locations\\n\"\n",
    "           f\"\\t- {num_discard_unite_full_not_elsewhere} of these hits are no longer present within locations after truncating\"))\n",
    "\n",
    "df_discard_unite_full_elsewhere = df_discard_unite_full[\n",
    "    (df_discard_unite_full[\"UNITE_id_in_refseq_both_trunc\"] == False) & (df_discard_unite_full[\"UNITE_id_in_new_refseq\"] == False)]\n",
    "df_discard_unite_full_elsewhere_tax_count = pd.DataFrame(df_discard_unite_full_elsewhere.value_counts(subset=\"phylum_full\"))\n",
    "display(df_discard_unite_full_elsewhere_tax_count)\n",
    "\n",
    "\n",
    "#Taxonomic differences on ZOTUs that pass at full length and after truncation\n",
    "\n",
    "df_trunc_refseq_full_loc_tax_missing_count = pd.DataFrame(df_trunc_refseq_full_loc.value_counts(subset=[\"location\", \"exclusive_to_loc\", \"tax_missing_full\", \"tax_missing_trunc\"]))\n",
    "display(df_trunc_refseq_full_loc_tax_missing_count)\n",
    "\n",
    "df_trunc_unite_full_new = df_trunc_refseq_full_loc[df_trunc_refseq_full_loc[\"tax_missing_full\"] != df_trunc_refseq_full_loc[\"tax_missing_trunc\"]].drop_duplicates(subset=[\"location\", \"UNITE_id_trunc\"])\n",
    "\n",
    "df_trunc_unite_full_new[\"UNITE_id_in_trunc\"] = df_trunc_unite_full_new[\"UNITE_id_trunc\"].isin(df_trunc_refseq_full_loc[df_trunc_refseq_full_loc[\"tax_missing_full\"] == False][\"UNITE_id_trunc\"])\n",
    "df_trunc_unite_full_new[\"UNITE_id_in_full\"] = df_trunc_unite_full_new[\"UNITE_id_trunc\"].isin(df_trunc_refseq_full_loc[df_trunc_refseq_full_loc[\"tax_missing_full\"] == False][\"UNITE_id_full\"])\n",
    "\n",
    "display(df_trunc_unite_full_new[[\"location\", \"UNITE_id_trunc\", \"UNITE_id_in_trunc\", \"UNITE_id_in_full\"]])\n",
    "\n",
    "df_trunc_unite_full_both = df_trunc_refseq_full_loc[(df_trunc_refseq_full_loc[\"tax_missing_full\"] == False) & (df_trunc_refseq_full_loc[\"tax_missing_trunc\"] == False)]\n",
    "df_trunc_unite_full_both[\"UNITE_id_equal\"] = df_trunc_unite_full_both[\"UNITE_id_full\"] == df_trunc_unite_full_both[\"UNITE_id_trunc\"]\n",
    "\n",
    "display(pd.DataFrame.join(df_trunc_unite_full_both.value_counts(subset=[\"location\", \"exclusive_to_loc\", \"UNITE_id_equal\"]),\n",
    "                          df_trunc_unite_full_both.drop_duplicates(subset=[\"location\", \"UNITE_id_full\", \"UNITE_id_trunc\"]).value_counts(subset=[\"location\", \"exclusive_to_loc\", \"UNITE_id_equal\"]), lsuffix=\"_refseq\", rsuffix=\"_UNITE_id\"))\n",
    "\n",
    "levels = [\"phylum\", \"class\", \"order\", \"family\", \"genus\", \"species\"]\n",
    "for level in levels:\n",
    "    df_trunc_unite_full_both[f\"{level}_equal\"] = df_trunc_unite_full_both[f\"{level}_full\"] == df_trunc_unite_full_both[f\"{level}_trunc\"]\n",
    "\n",
    "df_trunc_unite_full_both_not_equal_count = pd.DataFrame(df_trunc_unite_full_both[df_trunc_unite_full_both[\"UNITE_id_equal\"] == False].value_counts(subset=[f\"{level}_equal\" for level in levels]))\n",
    "display(df_trunc_unite_full_both_not_equal_count)\n",
    "\n"
   ]
  },
  {
   "cell_type": "code",
   "execution_count": null,
   "metadata": {},
   "outputs": [
    {
     "data": {
      "image/png": "[encoded data removed]",
      "text/plain": [
       "<Figure size 640x480 with 1 Axes>"
      ]
     },
     "metadata": {},
     "output_type": "display_data"
    }
   ],
   "source": [
    "value_counts = df_refseq_tax_full[\"phylum\"].value_counts()\n",
    "proportions = value_counts / value_counts.sum()\n",
    "ax = value_counts.plot.barh(xlim=(0, value_counts.max() * 1.3))\n",
    "\n",
    "for index, (count, proportion) in enumerate(zip(value_counts, proportions)):\n",
    "    ax.text(count + 10, index, f\"{count} ({proportion:.1%})\", va='center')\n",
    "\n",
    "ax.set_xlabel(\"Counts\")\n",
    "ax.set_ylabel(\"Phylum\")\n",
    "ax.set_title(\"Phylum Distribution of reference sequences (full length)\")\n",
    "\n",
    "plt.show()"
   ]
  },
  {
   "cell_type": "code",
   "execution_count": null,
   "metadata": {},
   "outputs": [
    {
     "data": {
      "image/png": "[encoded data removed]",
      "text/plain": [
       "<Figure size 640x480 with 1 Axes>"
      ]
     },
     "metadata": {},
     "output_type": "display_data"
    }
   ],
   "source": [
    "value_counts = df_refseq_tax[\"phylum\"].value_counts()\n",
    "proportions = value_counts / value_counts.sum()\n",
    "ax = value_counts.plot.barh(xlim=(0, value_counts.max() * 1.3))\n",
    "\n",
    "for index, (count, proportion) in enumerate(zip(value_counts, proportions)):\n",
    "    ax.text(count + 10, index, f\"{count} ({proportion:.1%})\", va='center')\n",
    "\n",
    "ax.set_xlabel(\"Counts\")\n",
    "ax.set_ylabel(\"Phylum\")\n",
    "ax.set_title(\"Phylum Distribution of reference sequences (truncated)\")\n",
    "\n",
    "plt.show()"
   ]
  },
  {
   "cell_type": "markdown",
   "metadata": {},
   "source": [
    "# Full length reference table"
   ]
  },
  {
   "cell_type": "code",
   "execution_count": null,
   "metadata": {},
   "outputs": [
    {
     "data": {
      "text/markdown": [
       "## Sequence length of reference ZOTUs"
      ],
      "text/plain": [
       "<IPython.core.display.Markdown object>"
      ]
     },
     "metadata": {},
     "output_type": "display_data"
    },
    {
     "data": {
      "text/html": [
       "<div>\n",
       "<style scoped>\n",
       "    .dataframe tbody tr th:only-of-type {\n",
       "        vertical-align: middle;\n",
       "    }\n",
       "\n",
       "    .dataframe tbody tr th {\n",
       "        vertical-align: top;\n",
       "    }\n",
       "\n",
       "    .dataframe thead th {\n",
       "        text-align: right;\n",
       "    }\n",
       "</style>\n",
       "<table border=\"1\" class=\"dataframe\">\n",
       "  <thead>\n",
       "    <tr style=\"text-align: right;\">\n",
       "      <th></th>\n",
       "      <th>refseq_length</th>\n",
       "    </tr>\n",
       "  </thead>\n",
       "  <tbody>\n",
       "    <tr>\n",
       "      <th>count</th>\n",
       "      <td>1856.000000</td>\n",
       "    </tr>\n",
       "    <tr>\n",
       "      <th>mean</th>\n",
       "      <td>322.687500</td>\n",
       "    </tr>\n",
       "    <tr>\n",
       "      <th>std</th>\n",
       "      <td>35.298212</td>\n",
       "    </tr>\n",
       "    <tr>\n",
       "      <th>min</th>\n",
       "      <td>204.000000</td>\n",
       "    </tr>\n",
       "    <tr>\n",
       "      <th>25%</th>\n",
       "      <td>298.750000</td>\n",
       "    </tr>\n",
       "    <tr>\n",
       "      <th>50%</th>\n",
       "      <td>312.000000</td>\n",
       "    </tr>\n",
       "    <tr>\n",
       "      <th>75%</th>\n",
       "      <td>342.000000</td>\n",
       "    </tr>\n",
       "    <tr>\n",
       "      <th>max</th>\n",
       "      <td>478.000000</td>\n",
       "    </tr>\n",
       "  </tbody>\n",
       "</table>\n",
       "</div>"
      ],
      "text/plain": [
       "       refseq_length\n",
       "count    1856.000000\n",
       "mean      322.687500\n",
       "std        35.298212\n",
       "min       204.000000\n",
       "25%       298.750000\n",
       "50%       312.000000\n",
       "75%       342.000000\n",
       "max       478.000000"
      ]
     },
     "metadata": {},
     "output_type": "display_data"
    },
    {
     "data": {
      "image/png": "[encoded data removed]",
      "text/plain": [
       "<Figure size 640x480 with 1 Axes>"
      ]
     },
     "metadata": {},
     "output_type": "display_data"
    }
   ],
   "source": [
    "# Length of full length reference ZOTUs\n",
    "display(md(\"## Sequence length of reference ZOTUs\"))\n",
    "display(df_refseq_full.describe())\n",
    "ax = df_refseq_full['refseq_length'].plot.hist(bins=20, xlim=(200, 450), edgecolor = \"black\")\n",
    "ax.set_title(\"Length distribution of full length reference ZOTUs\")\n",
    "ax.set_xlabel(\"Length in bp\")\n",
    "\n",
    "plt.show()\n"
   ]
  }
 ],
 "metadata": {
  "kernelspec": {
   "display_name": ".venv",
   "language": "python",
   "name": "python3"
  },
  "language_info": {
   "codemirror_mode": {
    "name": "ipython",
    "version": 3
   },
   "file_extension": ".py",
   "mimetype": "text/x-python",
   "name": "python",
   "nbconvert_exporter": "python",
   "pygments_lexer": "ipython3",
   "version": "3.10.12"
  }
 },
 "nbformat": 4,
 "nbformat_minor": 2
}
