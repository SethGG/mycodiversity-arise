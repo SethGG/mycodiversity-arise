{
 "cells": [
  {
   "cell_type": "markdown",
   "metadata": {},
   "source": [
    "# Load dependencies and tables"
   ]
  },
  {
   "cell_type": "code",
   "execution_count": 3,
   "metadata": {},
   "outputs": [],
   "source": [
    "import pandas as pd\n",
    "import numpy as np\n",
    "import matplotlib.pyplot as plt\n",
    "import os\n",
    "from IPython.display import Markdown as md\n",
    "from collections import Counter"
   ]
  },
  {
   "cell_type": "code",
   "execution_count": 4,
   "metadata": {},
   "outputs": [],
   "source": [
    "output_tables = \"output_tables\"\n",
    "run_dir_name = \"2024_11_18_16_07_output\"\n",
    "run_dir = os.path.join(output_tables, run_dir_name)\n",
    "\n",
    "df_sample_mapping = pd.read_csv(os.path.join(output_tables, \"sample_mapping.csv\"))\n",
    "\n",
    "df_filter_mapping_full = pd.read_csv(os.path.join(run_dir, \"filter_mapping_full.csv\"))\n",
    "df_filter_mapping = pd.read_csv(os.path.join(run_dir, \"filter_mapping.csv\"))\n",
    "df_truncate_mapping = pd.read_csv(os.path.join(run_dir, \"truncate_mapping.csv\"))\n",
    "\n",
    "df_refseq_full = pd.read_csv(os.path.join(run_dir, \"refseq_table_pk_full.csv\"))\n",
    "df_refseq = pd.read_csv(os.path.join(run_dir, \"refseq_table_pk.csv\"))\n",
    "\n",
    "df_refseq_srr_mapping_full = pd.read_csv(os.path.join(run_dir, \"mapping_table_pk_zotu_srr_full.csv\"))\n",
    "df_refseq_srr_mapping = pd.read_csv(os.path.join(run_dir, \"mapping_table_pk_zotu_srr.csv\"))\n",
    "\n",
    "df_refseq_tax_full = pd.read_csv(os.path.join(run_dir, \"tax_refseq_table_pk_full.csv\"))\n",
    "df_refseq_tax = pd.read_csv(os.path.join(run_dir, \"tax_refseq_table_pk.csv\"))\n",
    "\n",
    "df_phylo_blast_full = pd.read_csv(os.path.join(run_dir, \"phylo_blast_refseq_table_pk_full.csv\"))\n",
    "df_phylo_blast = pd.read_csv(os.path.join(run_dir, \"phylo_blast_refseq_table_pk.csv\"))\n",
    "\n",
    "latex_tables = \"latex_tables\"\n",
    "os.makedirs(latex_tables, exist_ok=True)"
   ]
  },
  {
   "cell_type": "code",
   "execution_count": 104,
   "metadata": {},
   "outputs": [],
   "source": [
    "# plotting globals\n",
    "xlim_low, xlim_high = 200, 450\n",
    "bin_space = 10\n",
    "bins = [xlim_low + i*bin_space for i in range(int((xlim_high-xlim_low)/bin_space))]"
   ]
  },
  {
   "cell_type": "code",
   "execution_count": 105,
   "metadata": {},
   "outputs": [
    {
     "name": "stdout",
     "output_type": "stream",
     "text": [
      "<class 'pandas.core.frame.DataFrame'>\n",
      "RangeIndex: 65595 entries, 0 to 65594\n",
      "Data columns (total 39 columns):\n",
      " #   Column                Non-Null Count  Dtype  \n",
      "---  ------                --------------  -----  \n",
      " 0   srr_name              65595 non-null  object \n",
      " 1   plot                  65595 non-null  object \n",
      " 2   subplot               65588 non-null  float64\n",
      " 3   location              65595 non-null  object \n",
      " 4   zotu_id               65595 non-null  object \n",
      " 5   trunc_zotu_id         64279 non-null  object \n",
      " 6   passed_trunc          65595 non-null  bool   \n",
      " 7   passed_abun_full      65595 non-null  bool   \n",
      " 8   passed_contam_full    65595 non-null  bool   \n",
      " 9   passed_abun_trunc     64279 non-null  object \n",
      " 10  passed_contam_trunc   64279 non-null  object \n",
      " 11  refsequence_pk_full   6033 non-null   object \n",
      " 12  sequence_full         6033 non-null   object \n",
      " 13  refsequence_pk_trunc  6532 non-null   object \n",
      " 14  sequence_trunc        6532 non-null   object \n",
      " 15  marker_type_full      6033 non-null   object \n",
      " 16  refseq_length_full    6033 non-null   float64\n",
      " 17  identity_full         5365 non-null   float64\n",
      " 18  UNITE_id_full         5365 non-null   object \n",
      " 19  kingdom_full          5365 non-null   object \n",
      " 20  phylum_full           5365 non-null   object \n",
      " 21  class_full            5365 non-null   object \n",
      " 22  order_full            5365 non-null   object \n",
      " 23  family_full           5365 non-null   object \n",
      " 24  genus_full            5365 non-null   object \n",
      " 25  species_full          5365 non-null   object \n",
      " 26  tax_missing_full      6033 non-null   object \n",
      " 27  marker_type_trunc     6532 non-null   object \n",
      " 28  refseq_length_trunc   6532 non-null   float64\n",
      " 29  identity_trunc        5701 non-null   float64\n",
      " 30  UNITE_id_trunc        5701 non-null   object \n",
      " 31  kingdom_trunc         5701 non-null   object \n",
      " 32  phylum_trunc          5701 non-null   object \n",
      " 33  class_trunc           5701 non-null   object \n",
      " 34  order_trunc           5701 non-null   object \n",
      " 35  family_trunc          5701 non-null   object \n",
      " 36  genus_trunc           5701 non-null   object \n",
      " 37  species_trunc         5701 non-null   object \n",
      " 38  tax_missing_trunc     6532 non-null   object \n",
      "dtypes: bool(3), float64(5), object(31)\n",
      "memory usage: 18.2+ MB\n"
     ]
    },
    {
     "data": {
      "text/plain": [
       "None"
      ]
     },
     "metadata": {},
     "output_type": "display_data"
    }
   ],
   "source": [
    "# Merged table for analyzing results\n",
    "df = df_sample_mapping.merge(df_truncate_mapping, on=[\"srr_name\"], how=\"right\")\n",
    "df = df.merge(df_filter_mapping_full, on=[\"srr_name\", \"zotu_id\"], how=\"left\")\n",
    "df = df.merge(df_filter_mapping.rename(columns={\"zotu_id\": \"trunc_zotu_id\"}), on=[\"srr_name\", \"trunc_zotu_id\"],\n",
    "              suffixes=(\"_full\", \"_trunc\"), how=\"left\")\n",
    "df = df.merge(df_refseq_srr_mapping_full, on=[\"srr_name\", \"zotu_id\"], how=\"left\")\n",
    "df = df.merge(df_refseq_srr_mapping.rename(columns={\"zotu_id\": \"trunc_zotu_id\"}),\n",
    "                                                        on=[\"srr_name\", \"trunc_zotu_id\"], suffixes=(\"_full\", \"_trunc\"), how=\"left\")\n",
    "\n",
    "df_refseq_tax_merged = df_refseq.merge(df_refseq_tax, on=[\"refsequence_pk\"], how=\"left\", indicator=True)\n",
    "df_refseq_tax_merged[\"tax_missing\"] = df_refseq_tax_merged[\"UNITE_id\"].isna()\n",
    "df_refseq_tax_merged = df_refseq_tax_merged.drop(columns=[\"_merge\"])\n",
    "\n",
    "df_refseq_tax_merged_full = df_refseq_full.merge(df_refseq_tax_full, on=[\"refsequence_pk\"], how=\"left\", indicator=True)\n",
    "df_refseq_tax_merged_full[\"tax_missing\"] = df_refseq_tax_merged_full[\"UNITE_id\"].isna()\n",
    "df_refseq_tax_merged_full = df_refseq_tax_merged_full.drop(columns=[\"_merge\"])\n",
    "\n",
    "df = df.merge(df_refseq_tax_merged_full.rename(\n",
    "    columns={\"refsequence_pk\": \"refsequence_pk_full\", \"sequence\": \"sequence_full\"}),\n",
    "    on=[\"refsequence_pk_full\", \"sequence_full\"], how=\"left\")\n",
    "df = df.merge(df_refseq_tax_merged.rename(\n",
    "    columns={\"refsequence_pk\": \"refsequence_pk_trunc\", \"sequence\": \"sequence_trunc\"}),\n",
    "    on=[\"refsequence_pk_trunc\", \"sequence_trunc\"], suffixes=(\"_full\", \"_trunc\"), how=\"left\")\n",
    "\n",
    "display(df.info())"
   ]
  },
  {
   "cell_type": "markdown",
   "metadata": {},
   "source": [
    "# Filter results within samples"
   ]
  },
  {
   "cell_type": "code",
   "execution_count": 106,
   "metadata": {},
   "outputs": [
    {
     "data": {
      "text/markdown": [
       "## Filter results on full length ZOTUs"
      ],
      "text/plain": [
       "<IPython.core.display.Markdown object>"
      ]
     },
     "metadata": {},
     "output_type": "display_data"
    },
    {
     "data": {
      "text/markdown": [
       "Of all 65595 full length ZOTUs found across all samples:"
      ],
      "text/plain": [
       "<IPython.core.display.Markdown object>"
      ]
     },
     "metadata": {},
     "output_type": "display_data"
    },
    {
     "data": {
      "text/html": [
       "<div>\n",
       "<style scoped>\n",
       "    .dataframe tbody tr th:only-of-type {\n",
       "        vertical-align: middle;\n",
       "    }\n",
       "\n",
       "    .dataframe tbody tr th {\n",
       "        vertical-align: top;\n",
       "    }\n",
       "\n",
       "    .dataframe thead th {\n",
       "        text-align: right;\n",
       "    }\n",
       "</style>\n",
       "<table border=\"1\" class=\"dataframe\">\n",
       "  <thead>\n",
       "    <tr style=\"text-align: right;\">\n",
       "      <th></th>\n",
       "      <th></th>\n",
       "      <th>count</th>\n",
       "      <th>proportion</th>\n",
       "    </tr>\n",
       "    <tr>\n",
       "      <th>passed_abun_full</th>\n",
       "      <th>passed_contam_full</th>\n",
       "      <th></th>\n",
       "      <th></th>\n",
       "    </tr>\n",
       "  </thead>\n",
       "  <tbody>\n",
       "    <tr>\n",
       "      <th>False</th>\n",
       "      <th>False</th>\n",
       "      <td>59470</td>\n",
       "      <td>0.9066</td>\n",
       "    </tr>\n",
       "    <tr>\n",
       "      <th rowspan=\"3\" valign=\"top\">True</th>\n",
       "      <th>True</th>\n",
       "      <td>6033</td>\n",
       "      <td>0.0920</td>\n",
       "    </tr>\n",
       "    <tr>\n",
       "      <th>False</th>\n",
       "      <td>92</td>\n",
       "      <td>0.0014</td>\n",
       "    </tr>\n",
       "    <tr>\n",
       "      <th></th>\n",
       "      <td>6125</td>\n",
       "      <td>0.0934</td>\n",
       "    </tr>\n",
       "  </tbody>\n",
       "</table>\n",
       "</div>"
      ],
      "text/plain": [
       "                                     count  proportion\n",
       "passed_abun_full passed_contam_full                   \n",
       "False            False               59470      0.9066\n",
       "True             True                 6033      0.0920\n",
       "                 False                  92      0.0014\n",
       "                                      6125      0.0934"
      ]
     },
     "metadata": {},
     "output_type": "display_data"
    },
    {
     "data": {
      "text/markdown": [
       "- 6125.0 (9.34%) passed the abundance filter\n",
       "- 6033.0 (9.20% of all, 98.50% of abundant) passed the contamination filter"
      ],
      "text/plain": [
       "<IPython.core.display.Markdown object>"
      ]
     },
     "metadata": {},
     "output_type": "display_data"
    }
   ],
   "source": [
    "#Filter results on full length ZOTUs\n",
    "df_filter_counts = pd.DataFrame.join(\n",
    "    df.value_counts(subset=['passed_abun_full', 'passed_contam_full']),\n",
    "    df.value_counts(subset=['passed_abun_full', 'passed_contam_full'], normalize=True).round(4))\n",
    "df_filter_counts.loc[(True,\"\"),:] = df_filter_counts.loc[(True, slice(None))][['count', 'proportion']].sum()\n",
    "df_filter_counts[\"count\"] = df_filter_counts[\"count\"].astype(int)\n",
    "\n",
    "display(md(\"## Filter results on full length ZOTUs\"))\n",
    "display(md(f\"Of all {df.shape[0]} full length ZOTUs found across all samples:\"))\n",
    "display(df_filter_counts)\n",
    "\n",
    "num_passed_abun = df_filter_counts.loc[(True, '')]['count']\n",
    "prop_passed_abun = df_filter_counts.loc[(True, '')]['proportion']\n",
    "num_passed_contam = df_filter_counts.loc[(True, True)]['count']\n",
    "prop_passed_contam = df_filter_counts.loc[(True, True)]['proportion']\n",
    "prop_passed_contam_abun = prop_passed_contam / prop_passed_abun\n",
    "display(md(f\"- {num_passed_abun} ({prop_passed_abun:.2%}) passed the abundance filter\\n\"\n",
    "           f\"- {num_passed_contam} ({prop_passed_contam:.2%} of all, {prop_passed_contam_abun:.2%} of abundant) passed the contamination filter\"))\n",
    "\n",
    "df_filter_counts.to_latex(os.path.join(latex_tables, \"filter_results_full.tex\"), escape=True)"
   ]
  },
  {
   "cell_type": "code",
   "execution_count": 107,
   "metadata": {},
   "outputs": [
    {
     "data": {
      "text/markdown": [
       "## Truncation results on full length ZOTUs"
      ],
      "text/plain": [
       "<IPython.core.display.Markdown object>"
      ]
     },
     "metadata": {},
     "output_type": "display_data"
    },
    {
     "data": {
      "text/markdown": [
       "Of all 65595 full length ZOTUs found across all samples:"
      ],
      "text/plain": [
       "<IPython.core.display.Markdown object>"
      ]
     },
     "metadata": {},
     "output_type": "display_data"
    },
    {
     "data": {
      "text/html": [
       "<div>\n",
       "<style scoped>\n",
       "    .dataframe tbody tr th:only-of-type {\n",
       "        vertical-align: middle;\n",
       "    }\n",
       "\n",
       "    .dataframe tbody tr th {\n",
       "        vertical-align: top;\n",
       "    }\n",
       "\n",
       "    .dataframe thead th {\n",
       "        text-align: right;\n",
       "    }\n",
       "</style>\n",
       "<table border=\"1\" class=\"dataframe\">\n",
       "  <thead>\n",
       "    <tr style=\"text-align: right;\">\n",
       "      <th></th>\n",
       "      <th>count</th>\n",
       "      <th>proportion</th>\n",
       "      <th>count derep</th>\n",
       "    </tr>\n",
       "    <tr>\n",
       "      <th>passed_trunc</th>\n",
       "      <th></th>\n",
       "      <th></th>\n",
       "      <th></th>\n",
       "    </tr>\n",
       "  </thead>\n",
       "  <tbody>\n",
       "    <tr>\n",
       "      <th>True</th>\n",
       "      <td>64279</td>\n",
       "      <td>0.9799</td>\n",
       "      <td>61373</td>\n",
       "    </tr>\n",
       "    <tr>\n",
       "      <th>False</th>\n",
       "      <td>1316</td>\n",
       "      <td>0.0201</td>\n",
       "      <td>&lt;NA&gt;</td>\n",
       "    </tr>\n",
       "  </tbody>\n",
       "</table>\n",
       "</div>"
      ],
      "text/plain": [
       "              count  proportion  count derep\n",
       "passed_trunc                                \n",
       "True          64279      0.9799        61373\n",
       "False          1316      0.0201         <NA>"
      ]
     },
     "metadata": {},
     "output_type": "display_data"
    },
    {
     "data": {
      "text/markdown": [
       "- 64279.0 (97.99%) passed truncation\n",
       "\t- 61373.0 after dereplication within samples\n",
       "- 1316.0 (2.01%) did not pass truncation (<250bp) and are discarded"
      ],
      "text/plain": [
       "<IPython.core.display.Markdown object>"
      ]
     },
     "metadata": {},
     "output_type": "display_data"
    }
   ],
   "source": [
    "# Truncation results on full length ZOTUs\n",
    "df_trunc = df[df[\"passed_trunc\"] == True]\n",
    "df_trunc_derep = df_trunc.drop_duplicates(subset=['srr_name', 'trunc_zotu_id'])\n",
    "df_trunc_counts = pd.DataFrame.join(\n",
    "    df.value_counts(subset=\"passed_trunc\"),\n",
    "    df.value_counts(subset=\"passed_trunc\", normalize=True).round(4))\n",
    "df_trunc_counts = df_trunc_counts.join(\n",
    "    df_trunc_derep.value_counts(subset=\"passed_trunc\"), rsuffix=\" derep\")\n",
    "df_trunc_counts[\"count derep\"] = df_trunc_counts[\"count derep\"].astype('Int64')\n",
    "display(md(\"## Truncation results on full length ZOTUs\"))\n",
    "display(md(f\"Of all {df.shape[0]} full length ZOTUs found across all samples:\"))\n",
    "display(df_trunc_counts)\n",
    "\n",
    "num_passed_trunc = df_trunc_counts.loc[True]['count']\n",
    "prop_passed_trunc = df_trunc_counts.loc[True]['proportion']\n",
    "num_not_passed_trunc = df_trunc_counts.loc[False]['count']\n",
    "prop_not_passed_trunc = df_trunc_counts.loc[False]['proportion']\n",
    "display(md(f\"- {num_passed_trunc} ({prop_passed_trunc:.2%}) passed truncation\\n\"\n",
    "           f\"\\t- {df_trunc_counts.loc[True]['count derep']} after dereplication within samples\\n\"\n",
    "           f\"- {num_not_passed_trunc} ({prop_not_passed_trunc:.2%}) did not pass truncation (<250bp) and are discarded\"))\n",
    "\n",
    "df_trunc_counts.to_latex(os.path.join(latex_tables, \"trunc_results.tex\"), escape=True)"
   ]
  },
  {
   "cell_type": "code",
   "execution_count": 108,
   "metadata": {},
   "outputs": [
    {
     "data": {
      "text/markdown": [
       "## Filter results on discarded ZOTUs"
      ],
      "text/plain": [
       "<IPython.core.display.Markdown object>"
      ]
     },
     "metadata": {},
     "output_type": "display_data"
    },
    {
     "data": {
      "text/markdown": [
       "Of the 1316 full length ZOTUs that do not pass truncation (<250bp):"
      ],
      "text/plain": [
       "<IPython.core.display.Markdown object>"
      ]
     },
     "metadata": {},
     "output_type": "display_data"
    },
    {
     "data": {
      "text/html": [
       "<div>\n",
       "<style scoped>\n",
       "    .dataframe tbody tr th:only-of-type {\n",
       "        vertical-align: middle;\n",
       "    }\n",
       "\n",
       "    .dataframe tbody tr th {\n",
       "        vertical-align: top;\n",
       "    }\n",
       "\n",
       "    .dataframe thead th {\n",
       "        text-align: right;\n",
       "    }\n",
       "</style>\n",
       "<table border=\"1\" class=\"dataframe\">\n",
       "  <thead>\n",
       "    <tr style=\"text-align: right;\">\n",
       "      <th></th>\n",
       "      <th></th>\n",
       "      <th>count</th>\n",
       "      <th>proportion</th>\n",
       "    </tr>\n",
       "    <tr>\n",
       "      <th>passed_abun_full</th>\n",
       "      <th>passed_contam_full</th>\n",
       "      <th></th>\n",
       "      <th></th>\n",
       "    </tr>\n",
       "  </thead>\n",
       "  <tbody>\n",
       "    <tr>\n",
       "      <th>False</th>\n",
       "      <th>False</th>\n",
       "      <td>1254</td>\n",
       "      <td>0.9529</td>\n",
       "    </tr>\n",
       "    <tr>\n",
       "      <th rowspan=\"3\" valign=\"top\">True</th>\n",
       "      <th>True</th>\n",
       "      <td>47</td>\n",
       "      <td>0.0357</td>\n",
       "    </tr>\n",
       "    <tr>\n",
       "      <th>False</th>\n",
       "      <td>15</td>\n",
       "      <td>0.0114</td>\n",
       "    </tr>\n",
       "    <tr>\n",
       "      <th></th>\n",
       "      <td>62</td>\n",
       "      <td>0.0471</td>\n",
       "    </tr>\n",
       "  </tbody>\n",
       "</table>\n",
       "</div>"
      ],
      "text/plain": [
       "                                     count  proportion\n",
       "passed_abun_full passed_contam_full                   \n",
       "False            False                1254      0.9529\n",
       "True             True                   47      0.0357\n",
       "                 False                  15      0.0114\n",
       "                                        62      0.0471"
      ]
     },
     "metadata": {},
     "output_type": "display_data"
    },
    {
     "data": {
      "text/markdown": [
       "- 62.0 (4.71%) would have passed the abundance filter\n",
       "- 47.0 (3.57% of all, 75.80% of abundant) would have passed the contamination filter"
      ],
      "text/plain": [
       "<IPython.core.display.Markdown object>"
      ]
     },
     "metadata": {},
     "output_type": "display_data"
    }
   ],
   "source": [
    "# Filter results on discarded ZOTUs\n",
    "df_discard = df[df[\"passed_trunc\"] == False]\n",
    "df_discard_filter_counts = pd.DataFrame.join(\n",
    "    df_discard.value_counts(subset=['passed_abun_full', 'passed_contam_full']),\n",
    "    df_discard.value_counts(subset=['passed_abun_full', 'passed_contam_full'], normalize=True).round(4))\n",
    "df_discard_filter_counts.loc[(True,\"\"),:] = df_discard_filter_counts.loc[(True, slice(None))][['count', 'proportion']].sum()\n",
    "df_discard_filter_counts[\"count\"] = df_discard_filter_counts[\"count\"].astype(int)\n",
    "display(md(\"## Filter results on discarded ZOTUs\"))\n",
    "display(md(f\"Of the {df_discard.shape[0]} full length ZOTUs that do not pass truncation (<250bp):\"))\n",
    "display(df_discard_filter_counts)\n",
    "\n",
    "num_passed_abun = df_discard_filter_counts.loc[(True, '')]['count']\n",
    "prop_passed_abun = df_discard_filter_counts.loc[(True, '')]['proportion']\n",
    "num_passed_contam = df_discard_filter_counts.loc[(True, True)]['count']\n",
    "prop_passed_contam = df_discard_filter_counts.loc[(True, True)]['proportion']\n",
    "prop_passed_contam_abun = prop_passed_contam / prop_passed_abun\n",
    "display(md(f\"- {num_passed_abun} ({prop_passed_abun:.2%}) would have passed the abundance filter\\n\"\n",
    "           f\"- {num_passed_contam} ({prop_passed_contam:.2%} of all, {prop_passed_contam_abun:.2%} of abundant) would have passed the contamination filter\"))\n",
    "\n",
    "df_discard_filter_counts.to_latex(os.path.join(latex_tables, \"discard_filter_results.tex\"), escape=True)"
   ]
  },
  {
   "cell_type": "code",
   "execution_count": 109,
   "metadata": {},
   "outputs": [
    {
     "data": {
      "text/markdown": [
       "## Filter results on truncated ZOTUs"
      ],
      "text/plain": [
       "<IPython.core.display.Markdown object>"
      ]
     },
     "metadata": {},
     "output_type": "display_data"
    },
    {
     "data": {
      "text/markdown": [
       "Of all 64279 truncated ZOTUs (61373 after dereplication within samples) found across all samples:"
      ],
      "text/plain": [
       "<IPython.core.display.Markdown object>"
      ]
     },
     "metadata": {},
     "output_type": "display_data"
    },
    {
     "data": {
      "text/html": [
       "<div>\n",
       "<style scoped>\n",
       "    .dataframe tbody tr th:only-of-type {\n",
       "        vertical-align: middle;\n",
       "    }\n",
       "\n",
       "    .dataframe tbody tr th {\n",
       "        vertical-align: top;\n",
       "    }\n",
       "\n",
       "    .dataframe thead th {\n",
       "        text-align: right;\n",
       "    }\n",
       "</style>\n",
       "<table border=\"1\" class=\"dataframe\">\n",
       "  <thead>\n",
       "    <tr style=\"text-align: right;\">\n",
       "      <th></th>\n",
       "      <th></th>\n",
       "      <th>count</th>\n",
       "      <th>proportion</th>\n",
       "      <th>count derep</th>\n",
       "      <th>proportion derep</th>\n",
       "    </tr>\n",
       "    <tr>\n",
       "      <th>passed_abun_trunc</th>\n",
       "      <th>passed_contam_trunc</th>\n",
       "      <th></th>\n",
       "      <th></th>\n",
       "      <th></th>\n",
       "      <th></th>\n",
       "    </tr>\n",
       "  </thead>\n",
       "  <tbody>\n",
       "    <tr>\n",
       "      <th>False</th>\n",
       "      <th>False</th>\n",
       "      <td>57652</td>\n",
       "      <td>0.8969</td>\n",
       "      <td>55247</td>\n",
       "      <td>0.9002</td>\n",
       "    </tr>\n",
       "    <tr>\n",
       "      <th rowspan=\"3\" valign=\"top\">True</th>\n",
       "      <th>True</th>\n",
       "      <td>6532</td>\n",
       "      <td>0.1016</td>\n",
       "      <td>6051</td>\n",
       "      <td>0.0986</td>\n",
       "    </tr>\n",
       "    <tr>\n",
       "      <th>False</th>\n",
       "      <td>95</td>\n",
       "      <td>0.0015</td>\n",
       "      <td>75</td>\n",
       "      <td>0.0012</td>\n",
       "    </tr>\n",
       "    <tr>\n",
       "      <th></th>\n",
       "      <td>6627</td>\n",
       "      <td>0.1031</td>\n",
       "      <td>6126</td>\n",
       "      <td>0.0998</td>\n",
       "    </tr>\n",
       "  </tbody>\n",
       "</table>\n",
       "</div>"
      ],
      "text/plain": [
       "                                       count  proportion  count derep  \\\n",
       "passed_abun_trunc passed_contam_trunc                                   \n",
       "False             False                57652      0.8969        55247   \n",
       "True              True                  6532      0.1016         6051   \n",
       "                  False                   95      0.0015           75   \n",
       "                                        6627      0.1031         6126   \n",
       "\n",
       "                                       proportion derep  \n",
       "passed_abun_trunc passed_contam_trunc                    \n",
       "False             False                          0.9002  \n",
       "True              True                           0.0986  \n",
       "                  False                          0.0012  \n",
       "                                                 0.0998  "
      ]
     },
     "metadata": {},
     "output_type": "display_data"
    },
    {
     "data": {
      "text/markdown": [
       "- 6627.0 (10.31%) passed the abundance filter\n",
       "\t- 6126.0 (9.98%) after dereplication within samples\n",
       "- 6532.0 (10.16% of all, 98.55% of abundant) passed the contamination filter\n",
       "\t- 6051.0 (9.86% of all, 98.80% of abundant) after dereplication within samples"
      ],
      "text/plain": [
       "<IPython.core.display.Markdown object>"
      ]
     },
     "metadata": {},
     "output_type": "display_data"
    }
   ],
   "source": [
    "# Filter results on truncated ZOTUs\n",
    "df_trunc_filter_counts = pd.DataFrame.join(\n",
    "    df_trunc.value_counts(subset=['passed_abun_trunc','passed_contam_trunc']),\n",
    "    df_trunc.value_counts(subset=['passed_abun_trunc','passed_contam_trunc'], normalize=True).round(4))\n",
    "df_trunc_filter_counts = df_trunc_filter_counts.join(\n",
    "    df_trunc_derep.value_counts(subset=['passed_abun_trunc','passed_contam_trunc']), rsuffix=\" derep\")\n",
    "df_trunc_filter_counts = df_trunc_filter_counts.join(\n",
    "    df_trunc_derep.value_counts(subset=['passed_abun_trunc','passed_contam_trunc'], normalize=True).round(4), rsuffix=\" derep\")\n",
    "df_trunc_filter_counts.loc[(True,\"\"),:] = df_trunc_filter_counts.loc[(True, slice(None))][['count', 'proportion', 'count derep', 'proportion derep']].sum()\n",
    "df_trunc_filter_counts[\"count\"] = df_trunc_filter_counts[\"count\"].astype(int)\n",
    "df_trunc_filter_counts[\"count derep\"] = df_trunc_filter_counts[\"count derep\"].astype(int)\n",
    "\n",
    "display(md(\"## Filter results on truncated ZOTUs\"))\n",
    "display(md(f\"Of all {df_trunc.shape[0]} truncated ZOTUs ({df_trunc_derep.shape[0]} after dereplication within samples) found across all samples:\"))\n",
    "display(df_trunc_filter_counts)\n",
    "\n",
    "num_passed_abun = df_trunc_filter_counts.loc[(True, '')]['count']\n",
    "prop_passed_abun = df_trunc_filter_counts.loc[(True, '')]['proportion']\n",
    "num_passed_abun_derep = df_trunc_filter_counts.loc[(True, '')]['count derep']\n",
    "prop_passed_abun_derep = df_trunc_filter_counts.loc[(True, '')]['proportion derep']\n",
    "num_passed_contam = df_trunc_filter_counts.loc[(True, True)]['count']\n",
    "prop_passed_contam = df_trunc_filter_counts.loc[(True, True)]['proportion']\n",
    "prop_passed_contam_abun = prop_passed_contam / prop_passed_abun\n",
    "num_passed_contam_derep = df_trunc_filter_counts.loc[(True, True)]['count derep']\n",
    "prop_passed_contam_derep = df_trunc_filter_counts.loc[(True, True)]['proportion derep']\n",
    "prop_passed_contam_abun_derep = prop_passed_contam_derep / prop_passed_abun_derep\n",
    "display(md(f\"- {num_passed_abun} ({prop_passed_abun:.2%}) passed the abundance filter\\n\"\n",
    "           f\"\\t- {num_passed_abun_derep} ({prop_passed_abun_derep:.2%}) after dereplication within samples\\n\"\n",
    "           f\"- {num_passed_contam} ({prop_passed_contam:.2%} of all, {prop_passed_contam_abun:.2%} of abundant) passed the contamination filter\\n\"\n",
    "           f\"\\t- {num_passed_contam_derep} ({prop_passed_contam_derep:.2%} of all, {prop_passed_contam_abun_derep:.2%} of abundant) after dereplication within samples\"))\n",
    "\n",
    "df_trunc_filter_counts.to_latex(os.path.join(latex_tables, \"filter_results_trunc.tex\"), escape=True)"
   ]
  },
  {
   "cell_type": "code",
   "execution_count": 110,
   "metadata": {},
   "outputs": [
    {
     "data": {
      "text/markdown": [
       "## Comparing filter results before and after truncation"
      ],
      "text/plain": [
       "<IPython.core.display.Markdown object>"
      ]
     },
     "metadata": {},
     "output_type": "display_data"
    },
    {
     "data": {
      "text/markdown": [
       "Of all 64279 truncated ZOTUs (61373 after dereplication within samples) found across all samples:"
      ],
      "text/plain": [
       "<IPython.core.display.Markdown object>"
      ]
     },
     "metadata": {},
     "output_type": "display_data"
    },
    {
     "data": {
      "text/html": [
       "<div>\n",
       "<style scoped>\n",
       "    .dataframe tbody tr th:only-of-type {\n",
       "        vertical-align: middle;\n",
       "    }\n",
       "\n",
       "    .dataframe tbody tr th {\n",
       "        vertical-align: top;\n",
       "    }\n",
       "\n",
       "    .dataframe thead th {\n",
       "        text-align: right;\n",
       "    }\n",
       "</style>\n",
       "<table border=\"1\" class=\"dataframe\">\n",
       "  <thead>\n",
       "    <tr style=\"text-align: right;\">\n",
       "      <th></th>\n",
       "      <th></th>\n",
       "      <th></th>\n",
       "      <th></th>\n",
       "      <th>count</th>\n",
       "      <th>proportion</th>\n",
       "    </tr>\n",
       "    <tr>\n",
       "      <th>passed_abun_full</th>\n",
       "      <th>passed_abun_trunc</th>\n",
       "      <th>passed_contam_full</th>\n",
       "      <th>passed_contam_trunc</th>\n",
       "      <th></th>\n",
       "      <th></th>\n",
       "    </tr>\n",
       "  </thead>\n",
       "  <tbody>\n",
       "    <tr>\n",
       "      <th rowspan=\"4\" valign=\"top\">False</th>\n",
       "      <th>False</th>\n",
       "      <th>False</th>\n",
       "      <th>False</th>\n",
       "      <td>57652</td>\n",
       "      <td>0.8969</td>\n",
       "    </tr>\n",
       "    <tr>\n",
       "      <th rowspan=\"3\" valign=\"top\">True</th>\n",
       "      <th rowspan=\"2\" valign=\"top\">False</th>\n",
       "      <th>True</th>\n",
       "      <td>546</td>\n",
       "      <td>0.0085</td>\n",
       "    </tr>\n",
       "    <tr>\n",
       "      <th>False</th>\n",
       "      <td>18</td>\n",
       "      <td>0.0003</td>\n",
       "    </tr>\n",
       "    <tr>\n",
       "      <th></th>\n",
       "      <th></th>\n",
       "      <td>564</td>\n",
       "      <td>0.0088</td>\n",
       "    </tr>\n",
       "    <tr>\n",
       "      <th rowspan=\"3\" valign=\"top\">True</th>\n",
       "      <th rowspan=\"3\" valign=\"top\">True</th>\n",
       "      <th>True</th>\n",
       "      <th>True</th>\n",
       "      <td>5986</td>\n",
       "      <td>0.0931</td>\n",
       "    </tr>\n",
       "    <tr>\n",
       "      <th>False</th>\n",
       "      <th>False</th>\n",
       "      <td>77</td>\n",
       "      <td>0.0012</td>\n",
       "    </tr>\n",
       "    <tr>\n",
       "      <th></th>\n",
       "      <th></th>\n",
       "      <td>6063</td>\n",
       "      <td>0.0943</td>\n",
       "    </tr>\n",
       "  </tbody>\n",
       "</table>\n",
       "</div>"
      ],
      "text/plain": [
       "                                                                           count  \\\n",
       "passed_abun_full passed_abun_trunc passed_contam_full passed_contam_trunc          \n",
       "False            False             False              False                57652   \n",
       "                 True              False              True                   546   \n",
       "                                                      False                   18   \n",
       "                                                                             564   \n",
       "True             True              True               True                  5986   \n",
       "                                   False              False                   77   \n",
       "                                                                            6063   \n",
       "\n",
       "                                                                           proportion  \n",
       "passed_abun_full passed_abun_trunc passed_contam_full passed_contam_trunc              \n",
       "False            False             False              False                    0.8969  \n",
       "                 True              False              True                     0.0085  \n",
       "                                                      False                    0.0003  \n",
       "                                                                               0.0088  \n",
       "True             True              True               True                     0.0931  \n",
       "                                   False              False                    0.0012  \n",
       "                                                                               0.0943  "
      ]
     },
     "metadata": {},
     "output_type": "display_data"
    },
    {
     "data": {
      "text/markdown": [
       "- 6063 passed the abundance filter both at full length and truncated\n",
       "\t- mapping to 5995 dereplicated truncated ZOTUs\n",
       "- 5986 passed the contamination filter both at full length and truncated\n",
       "\t- mapping to 5922 dereplicated truncated ZOTUs\n",
       "- 564 passed the abundance filter only when truncated\n",
       "\t- mapping to 393 dereplicated truncated ZOTUs\n",
       "- 546 passed the contamination filter only when truncated\n",
       "\t- mapping to 381 dereplicated truncated ZOTUs\n",
       "- None no longer pass the contamination filter after truncation when they would have passed at full length"
      ],
      "text/plain": [
       "<IPython.core.display.Markdown object>"
      ]
     },
     "metadata": {},
     "output_type": "display_data"
    },
    {
     "data": {
      "text/markdown": [
       "Of the 564 truncated ZOTUs that passed the abundance filter only when truncated:"
      ],
      "text/plain": [
       "<IPython.core.display.Markdown object>"
      ]
     },
     "metadata": {},
     "output_type": "display_data"
    },
    {
     "data": {
      "text/html": [
       "<div>\n",
       "<style scoped>\n",
       "    .dataframe tbody tr th:only-of-type {\n",
       "        vertical-align: middle;\n",
       "    }\n",
       "\n",
       "    .dataframe tbody tr th {\n",
       "        vertical-align: top;\n",
       "    }\n",
       "\n",
       "    .dataframe thead th {\n",
       "        text-align: right;\n",
       "    }\n",
       "</style>\n",
       "<table border=\"1\" class=\"dataframe\">\n",
       "  <thead>\n",
       "    <tr style=\"text-align: right;\">\n",
       "      <th></th>\n",
       "      <th></th>\n",
       "      <th>count</th>\n",
       "      <th>count derep</th>\n",
       "    </tr>\n",
       "    <tr>\n",
       "      <th>new_zotu_trunc</th>\n",
       "      <th>passed_contam_trunc</th>\n",
       "      <th></th>\n",
       "      <th></th>\n",
       "    </tr>\n",
       "  </thead>\n",
       "  <tbody>\n",
       "    <tr>\n",
       "      <th rowspan=\"2\" valign=\"top\">False</th>\n",
       "      <th>True</th>\n",
       "      <td>317</td>\n",
       "      <td>252</td>\n",
       "    </tr>\n",
       "    <tr>\n",
       "      <th>False</th>\n",
       "      <td>14</td>\n",
       "      <td>10</td>\n",
       "    </tr>\n",
       "    <tr>\n",
       "      <th rowspan=\"3\" valign=\"top\">True</th>\n",
       "      <th>True</th>\n",
       "      <td>229</td>\n",
       "      <td>129</td>\n",
       "    </tr>\n",
       "    <tr>\n",
       "      <th>False</th>\n",
       "      <td>4</td>\n",
       "      <td>2</td>\n",
       "    </tr>\n",
       "    <tr>\n",
       "      <th></th>\n",
       "      <td>233</td>\n",
       "      <td>131</td>\n",
       "    </tr>\n",
       "  </tbody>\n",
       "</table>\n",
       "</div>"
      ],
      "text/plain": [
       "                                    count  count derep\n",
       "new_zotu_trunc passed_contam_trunc                    \n",
       "False          True                   317          252\n",
       "               False                   14           10\n",
       "True           True                   229          129\n",
       "               False                    4            2\n",
       "                                      233          131"
      ]
     },
     "metadata": {},
     "output_type": "display_data"
    },
    {
     "data": {
      "text/markdown": [
       "- 233 are \"new\", meaning that truncated they are not equal to a ZOTU that also passed the abundance filter at full length\n",
       "\t- 131 after dereplication within samples\n",
       "- 229 are \"new\" and also pass the contamination filter\n",
       "\t- 129 after dereplication within samples"
      ],
      "text/plain": [
       "<IPython.core.display.Markdown object>"
      ]
     },
     "metadata": {},
     "output_type": "display_data"
    }
   ],
   "source": [
    "# Comparing filter results before and after truncation\n",
    "df_abun_compare_counts = pd.DataFrame.join(\n",
    "    df_trunc.value_counts(subset=['passed_abun_full', 'passed_abun_trunc', 'passed_contam_full', 'passed_contam_trunc']),\n",
    "    df_trunc.value_counts(subset=['passed_abun_full', 'passed_abun_trunc', 'passed_contam_full', 'passed_contam_trunc'], normalize=True).round(4))\n",
    "df_abun_compare_counts.loc[(True,True,\"\",\"\"),:] = df_abun_compare_counts.loc[(True, True, slice(None), slice(None))][['count', 'proportion']].sum()\n",
    "df_abun_compare_counts.loc[(False,True,\"\",\"\"),:] = df_abun_compare_counts.loc[(False, True, slice(None), slice(None))][['count', 'proportion']].sum()\n",
    "df_abun_compare_counts[\"count\"] = df_abun_compare_counts[\"count\"].astype(int)\n",
    "df_abun_compare_counts = df_abun_compare_counts.sort_index(level=\"passed_abun_full\", sort_remaining=False)\n",
    "\n",
    "df_trunc_abun_both = df_trunc[(df_trunc['passed_abun_full'] == True) & (df_trunc['passed_abun_trunc'] == True)]\n",
    "df_trunc_abun_both_derep = df_trunc_abun_both.drop_duplicates(subset=['srr_name', 'trunc_zotu_id'])\n",
    "\n",
    "df_trunc_abun_trunc_only = df_trunc[(df_trunc['passed_abun_full'] == False) & (df_trunc['passed_abun_trunc'] == True)]\n",
    "df_trunc_abun_trunc_only = df_trunc_abun_trunc_only.merge(\n",
    "    df_trunc_abun_both_derep[['srr_name', 'trunc_zotu_id']], how='left', indicator=True).set_index(df_trunc_abun_trunc_only.index)\n",
    "df_trunc_abun_trunc_only['new_zotu_trunc'] = df_trunc_abun_trunc_only['_merge'] == 'left_only'\n",
    "df_trunc_abun_trunc_only = df_trunc_abun_trunc_only.drop(columns=['_merge'])\n",
    "df_trunc_abun_trunc_only_derep = df_trunc_abun_trunc_only.drop_duplicates(subset=[\"srr_name\", \"trunc_zotu_id\"])\n",
    "\n",
    "df_trunc_contam_both = df_trunc_abun_both[(df_trunc_abun_both['passed_contam_full'] == True) & (df_trunc_abun_both['passed_contam_trunc'] == True)]\n",
    "df_trunc_contam_both_derep = df_trunc_contam_both.drop_duplicates(subset=['srr_name', 'trunc_zotu_id'])\n",
    "\n",
    "df_trunc_contam_trunc_only = df_trunc_abun_trunc_only[df_trunc_abun_trunc_only['passed_contam_trunc'] == True]\n",
    "df_trunc_contam_trunc_only_derep = df_trunc_contam_trunc_only.drop_duplicates(subset=['srr_name', 'trunc_zotu_id'])\n",
    "\n",
    "display(md(\"## Comparing filter results before and after truncation\"))\n",
    "display(md(f\"Of all {df_trunc.shape[0]} truncated ZOTUs ({df_trunc_derep.shape[0]} after dereplication within samples) found across all samples:\"))\n",
    "display(df_abun_compare_counts)\n",
    "display(md(f\"- {df_trunc_abun_both.shape[0]} passed the abundance filter both at full length and truncated\\n\"\n",
    "           f\"\\t- mapping to {df_trunc_abun_both_derep.shape[0]} dereplicated truncated ZOTUs\\n\"\n",
    "           f\"- {df_trunc_contam_both.shape[0]} passed the contamination filter both at full length and truncated\\n\"\n",
    "           f\"\\t- mapping to {df_trunc_contam_both_derep.shape[0]} dereplicated truncated ZOTUs\\n\"\n",
    "           f\"- {df_trunc_abun_trunc_only.shape[0]} passed the abundance filter only when truncated\\n\"\n",
    "           f\"\\t- mapping to {df_trunc_abun_trunc_only_derep.shape[0]} dereplicated truncated ZOTUs\\n\"\n",
    "           f\"- {df_trunc_contam_trunc_only.shape[0]} passed the contamination filter only when truncated\\n\"\n",
    "           f\"\\t- mapping to {df_trunc_contam_trunc_only_derep.shape[0]} dereplicated truncated ZOTUs\\n\"\n",
    "           \"- None no longer pass the contamination filter after truncation when they would have passed at full length\"))\n",
    "\n",
    "df_abun_compare_counts.to_latex(os.path.join(latex_tables, \"filter_comp.tex\"), escape=True)\n",
    "\n",
    "df_trunc_abun_trunc_only_counts = pd.DataFrame.join(\n",
    "    df_trunc_abun_trunc_only.value_counts(subset=['new_zotu_trunc', 'passed_contam_trunc']),\n",
    "    df_trunc_abun_trunc_only_derep.value_counts(subset=['new_zotu_trunc', 'passed_contam_trunc']), rsuffix=\" derep\")\n",
    "df_trunc_abun_trunc_only_counts.loc[(True,\"\"),:] = df_trunc_abun_trunc_only_counts.loc[(True, slice(None))][['count', 'count derep']].sum()\n",
    "df_trunc_abun_trunc_only_counts = df_trunc_abun_trunc_only_counts.astype(int)\n",
    "df_trunc_abun_trunc_only_counts = df_trunc_abun_trunc_only_counts.sort_index(level=\"new_zotu_trunc\", sort_remaining=False)\n",
    "\n",
    "df_trunc_abun_trunc_only_new = df_trunc_abun_trunc_only[df_trunc_abun_trunc_only['new_zotu_trunc'] == True]\n",
    "df_trunc_abun_trunc_only_derep_new = df_trunc_abun_trunc_only_derep[df_trunc_abun_trunc_only_derep['new_zotu_trunc'] == True]\n",
    "\n",
    "df_trunc_contam_trunc_only_new = df_trunc_contam_trunc_only[df_trunc_contam_trunc_only['new_zotu_trunc'] == True]\n",
    "df_trunc_contam_trunc_only_derep_new = df_trunc_contam_trunc_only_derep[df_trunc_contam_trunc_only_derep['new_zotu_trunc'] == True]\n",
    "\n",
    "display(md(f\"Of the {df_trunc_abun_trunc_only.shape[0]} truncated ZOTUs that passed the abundance filter only when truncated:\"))\n",
    "display(df_trunc_abun_trunc_only_counts)\n",
    "display(md(f\"- {df_trunc_abun_trunc_only_new.shape[0]} are \\\"new\\\", meaning that truncated they are not equal to a ZOTU that also passed the abundance filter at full length\\n\"\n",
    "           f\"\\t- {df_trunc_abun_trunc_only_derep_new.shape[0]} after dereplication within samples\\n\"\n",
    "           f\"- {df_trunc_contam_trunc_only_new.shape[0]} are \\\"new\\\" and also pass the contamination filter\\n\"\n",
    "           f\"\\t- {df_trunc_contam_trunc_only_derep_new.shape[0]} after dereplication within samples\"))\n",
    "\n",
    "df_trunc_abun_trunc_only_counts.to_latex(os.path.join(latex_tables, \"filter_trunc_only.tex\"), escape=True)\n"
   ]
  },
  {
   "cell_type": "markdown",
   "metadata": {},
   "source": [
    "# Positive control results"
   ]
  },
  {
   "cell_type": "code",
   "execution_count": 111,
   "metadata": {},
   "outputs": [
    {
     "data": {
      "text/html": [
       "<div>\n",
       "<style scoped>\n",
       "    .dataframe tbody tr th:only-of-type {\n",
       "        vertical-align: middle;\n",
       "    }\n",
       "\n",
       "    .dataframe tbody tr th {\n",
       "        vertical-align: top;\n",
       "    }\n",
       "\n",
       "    .dataframe thead th {\n",
       "        text-align: right;\n",
       "    }\n",
       "</style>\n",
       "<table border=\"1\" class=\"dataframe\">\n",
       "  <thead>\n",
       "    <tr style=\"text-align: right;\">\n",
       "      <th></th>\n",
       "      <th>identity_full</th>\n",
       "      <th>UNITE_id_full</th>\n",
       "      <th>identity_trunc</th>\n",
       "      <th>UNITE_id_trunc</th>\n",
       "      <th>species_trunc</th>\n",
       "    </tr>\n",
       "  </thead>\n",
       "  <tbody>\n",
       "    <tr>\n",
       "      <th>47372</th>\n",
       "      <td>99.7</td>\n",
       "      <td>SH0854870.10FU</td>\n",
       "      <td>100.0</td>\n",
       "      <td>SH0854870.10FU</td>\n",
       "      <td>s__Lactarius_aurantiolamellatus</td>\n",
       "    </tr>\n",
       "    <tr>\n",
       "      <th>47373</th>\n",
       "      <td>NaN</td>\n",
       "      <td>NaN</td>\n",
       "      <td>NaN</td>\n",
       "      <td>NaN</td>\n",
       "      <td>NaN</td>\n",
       "    </tr>\n",
       "    <tr>\n",
       "      <th>47374</th>\n",
       "      <td>NaN</td>\n",
       "      <td>NaN</td>\n",
       "      <td>NaN</td>\n",
       "      <td>NaN</td>\n",
       "      <td>NaN</td>\n",
       "    </tr>\n",
       "    <tr>\n",
       "      <th>47375</th>\n",
       "      <td>NaN</td>\n",
       "      <td>NaN</td>\n",
       "      <td>NaN</td>\n",
       "      <td>NaN</td>\n",
       "      <td>NaN</td>\n",
       "    </tr>\n",
       "    <tr>\n",
       "      <th>47376</th>\n",
       "      <td>NaN</td>\n",
       "      <td>NaN</td>\n",
       "      <td>NaN</td>\n",
       "      <td>NaN</td>\n",
       "      <td>NaN</td>\n",
       "    </tr>\n",
       "    <tr>\n",
       "      <th>47377</th>\n",
       "      <td>NaN</td>\n",
       "      <td>NaN</td>\n",
       "      <td>NaN</td>\n",
       "      <td>NaN</td>\n",
       "      <td>NaN</td>\n",
       "    </tr>\n",
       "    <tr>\n",
       "      <th>47378</th>\n",
       "      <td>NaN</td>\n",
       "      <td>NaN</td>\n",
       "      <td>NaN</td>\n",
       "      <td>NaN</td>\n",
       "      <td>NaN</td>\n",
       "    </tr>\n",
       "  </tbody>\n",
       "</table>\n",
       "</div>"
      ],
      "text/plain": [
       "       identity_full   UNITE_id_full  identity_trunc  UNITE_id_trunc  \\\n",
       "47372           99.7  SH0854870.10FU           100.0  SH0854870.10FU   \n",
       "47373            NaN             NaN             NaN             NaN   \n",
       "47374            NaN             NaN             NaN             NaN   \n",
       "47375            NaN             NaN             NaN             NaN   \n",
       "47376            NaN             NaN             NaN             NaN   \n",
       "47377            NaN             NaN             NaN             NaN   \n",
       "47378            NaN             NaN             NaN             NaN   \n",
       "\n",
       "                         species_trunc  \n",
       "47372  s__Lactarius_aurantiolamellatus  \n",
       "47373                              NaN  \n",
       "47374                              NaN  \n",
       "47375                              NaN  \n",
       "47376                              NaN  \n",
       "47377                              NaN  \n",
       "47378                              NaN  "
      ]
     },
     "metadata": {},
     "output_type": "display_data"
    }
   ],
   "source": [
    "#Extract positive control ZOTUs\n",
    "\n",
    "df_pc = df[df[\"plot\"] == \"PC\"]\n",
    "display(df_pc[[\"identity_full\", \"UNITE_id_full\", \"identity_trunc\", \"UNITE_id_trunc\", \"species_trunc\"]])\n",
    "df = df.drop(df_pc.index)"
   ]
  },
  {
   "cell_type": "markdown",
   "metadata": {},
   "source": [
    "# Reference table results"
   ]
  },
  {
   "cell_type": "code",
   "execution_count": 124,
   "metadata": {},
   "outputs": [
    {
     "data": {
      "text/markdown": [
       "## Comparing reference sequences before and after truncation"
      ],
      "text/plain": [
       "<IPython.core.display.Markdown object>"
      ]
     },
     "metadata": {},
     "output_type": "display_data"
    },
    {
     "data": {
      "text/markdown": [
       "The number of reference sequences (unique ZOTUs across all samples) is:\n",
       "- 1856 at full length\n",
       "- 1767 when truncating"
      ],
      "text/plain": [
       "<IPython.core.display.Markdown object>"
      ]
     },
     "metadata": {},
     "output_type": "display_data"
    },
    {
     "data": {
      "text/markdown": [
       "Of the full length reference sequences:"
      ],
      "text/plain": [
       "<IPython.core.display.Markdown object>"
      ]
     },
     "metadata": {},
     "output_type": "display_data"
    },
    {
     "data": {
      "text/html": [
       "<div>\n",
       "<style scoped>\n",
       "    .dataframe tbody tr th:only-of-type {\n",
       "        vertical-align: middle;\n",
       "    }\n",
       "\n",
       "    .dataframe tbody tr th {\n",
       "        vertical-align: top;\n",
       "    }\n",
       "\n",
       "    .dataframe thead th {\n",
       "        text-align: right;\n",
       "    }\n",
       "</style>\n",
       "<table border=\"1\" class=\"dataframe\">\n",
       "  <thead>\n",
       "    <tr style=\"text-align: right;\">\n",
       "      <th></th>\n",
       "      <th></th>\n",
       "      <th></th>\n",
       "      <th>count</th>\n",
       "    </tr>\n",
       "    <tr>\n",
       "      <th>passed_trunc</th>\n",
       "      <th>refseq_full_exclusive_to_loc</th>\n",
       "      <th>refseq_trunc_exclusive_to_loc</th>\n",
       "      <th></th>\n",
       "    </tr>\n",
       "  </thead>\n",
       "  <tbody>\n",
       "    <tr>\n",
       "      <th>False</th>\n",
       "      <th>True</th>\n",
       "      <th>False</th>\n",
       "      <td>31</td>\n",
       "    </tr>\n",
       "    <tr>\n",
       "      <th rowspan=\"3\" valign=\"top\">True</th>\n",
       "      <th>False</th>\n",
       "      <th>False</th>\n",
       "      <td>52</td>\n",
       "    </tr>\n",
       "    <tr>\n",
       "      <th rowspan=\"2\" valign=\"top\">True</th>\n",
       "      <th>True</th>\n",
       "      <td>1758</td>\n",
       "    </tr>\n",
       "    <tr>\n",
       "      <th>False</th>\n",
       "      <td>15</td>\n",
       "    </tr>\n",
       "  </tbody>\n",
       "</table>\n",
       "</div>"
      ],
      "text/plain": [
       "                                                                         count\n",
       "passed_trunc refseq_full_exclusive_to_loc refseq_trunc_exclusive_to_loc       \n",
       "False        True                         False                             31\n",
       "True         False                        False                             52\n",
       "             True                         True                            1758\n",
       "                                          False                             15"
      ]
     },
     "metadata": {},
     "output_type": "display_data"
    },
    {
     "data": {
      "text/markdown": [
       "- 31 get discarded (<250bp)\n",
       "- 1758 are exclusive to their location both before and after truncation\n",
       "- 52 are found in both locations before and after truncation\n",
       "- 15 are no longer exclusive to their location after truncation"
      ],
      "text/plain": [
       "<IPython.core.display.Markdown object>"
      ]
     },
     "metadata": {},
     "output_type": "display_data"
    },
    {
     "data": {
      "text/markdown": [
       "Of the truncated reference sequences:"
      ],
      "text/plain": [
       "<IPython.core.display.Markdown object>"
      ]
     },
     "metadata": {},
     "output_type": "display_data"
    },
    {
     "data": {
      "text/html": [
       "<div>\n",
       "<style scoped>\n",
       "    .dataframe tbody tr th:only-of-type {\n",
       "        vertical-align: middle;\n",
       "    }\n",
       "\n",
       "    .dataframe tbody tr th {\n",
       "        vertical-align: top;\n",
       "    }\n",
       "\n",
       "    .dataframe thead th {\n",
       "        text-align: right;\n",
       "    }\n",
       "</style>\n",
       "<table border=\"1\" class=\"dataframe\">\n",
       "  <thead>\n",
       "    <tr style=\"text-align: right;\">\n",
       "      <th></th>\n",
       "      <th></th>\n",
       "      <th></th>\n",
       "      <th>count</th>\n",
       "    </tr>\n",
       "    <tr>\n",
       "      <th>passed_contam_full</th>\n",
       "      <th>refseq_trunc_exclusive_to_loc</th>\n",
       "      <th>refseq_trunc_new_to_loc</th>\n",
       "      <th></th>\n",
       "    </tr>\n",
       "  </thead>\n",
       "  <tbody>\n",
       "    <tr>\n",
       "      <th rowspan=\"4\" valign=\"top\">False</th>\n",
       "      <th rowspan=\"2\" valign=\"top\">True</th>\n",
       "      <th>False</th>\n",
       "      <td>185</td>\n",
       "    </tr>\n",
       "    <tr>\n",
       "      <th>True</th>\n",
       "      <td>30</td>\n",
       "    </tr>\n",
       "    <tr>\n",
       "      <th rowspan=\"2\" valign=\"top\">False</th>\n",
       "      <th>False</th>\n",
       "      <td>16</td>\n",
       "    </tr>\n",
       "    <tr>\n",
       "      <th>True</th>\n",
       "      <td>2</td>\n",
       "    </tr>\n",
       "    <tr>\n",
       "      <th rowspan=\"2\" valign=\"top\">True</th>\n",
       "      <th>True</th>\n",
       "      <th>False</th>\n",
       "      <td>1683</td>\n",
       "    </tr>\n",
       "    <tr>\n",
       "      <th>False</th>\n",
       "      <th>False</th>\n",
       "      <td>54</td>\n",
       "    </tr>\n",
       "  </tbody>\n",
       "</table>\n",
       "</div>"
      ],
      "text/plain": [
       "                                                                          count\n",
       "passed_contam_full refseq_trunc_exclusive_to_loc refseq_trunc_new_to_loc       \n",
       "False              True                          False                      185\n",
       "                                                 True                        30\n",
       "                   False                         False                       16\n",
       "                                                 True                         2\n",
       "True               True                          False                     1683\n",
       "                   False                         False                       54"
      ]
     },
     "metadata": {},
     "output_type": "display_data"
    },
    {
     "data": {
      "text/markdown": [
       "- 30 are new to their location, resulting from the new ZOTUs, and exclusive to their location\n",
       "- 2 are new to their location, but were already present in the other location\n",
       "- 1683 are exclusive to their location both before and after truncation\n",
       "- 54 are found in both locations before and after truncation\n",
       "- 54 are no longer exclusive to their location after truncation\n"
      ],
      "text/plain": [
       "<IPython.core.display.Markdown object>"
      ]
     },
     "metadata": {},
     "output_type": "display_data"
    }
   ],
   "source": [
    "#Comparing reference sequences before and after truncation\n",
    "\n",
    "df_refseq_both = df[(df[\"passed_contam_full\"]) | (df[\"passed_contam_trunc\"])].drop_duplicates(\n",
    "    subset=[\"location\", \"refsequence_pk_full\", \"refsequence_pk_trunc\"])\n",
    "df_refseq_both[\"refseq_full_exclusive_to_loc\"] = ~(\n",
    "    df_refseq_both[\"refsequence_pk_full\"].isin(df_refseq_both[df_refseq_both[\"location\"] == \"A\"][\"refsequence_pk_full\"]) &\n",
    "    df_refseq_both[\"refsequence_pk_full\"].isin(df_refseq_both[df_refseq_both[\"location\"] == \"B\"][\"refsequence_pk_full\"]\n",
    "))\n",
    "df_refseq_both[\"refseq_trunc_exclusive_to_loc\"] = ~(\n",
    "    df_refseq_both[\"refsequence_pk_trunc\"].isin(df_refseq_both[df_refseq_both[\"location\"] == \"A\"][\"refsequence_pk_trunc\"]) &\n",
    "    df_refseq_both[\"refsequence_pk_trunc\"].isin(df_refseq_both[df_refseq_both[\"location\"] == \"B\"][\"refsequence_pk_trunc\"]\n",
    "))\n",
    "df_refseq_both = df_refseq_both.merge(\n",
    "    df_refseq_both[(df_refseq_both[\"passed_contam_full\"] == True) & (df_refseq_both[\"passed_contam_trunc\"] == True)][[\"location\", \"refsequence_pk_trunc\"]].drop_duplicates(),\n",
    "    how=\"left\", indicator=True\n",
    ").set_index(df_refseq_both.index)\n",
    "df_refseq_both[\"refseq_trunc_new_to_loc\"] = df_refseq_both[\"_merge\"] == \"left_only\"\n",
    "df_refseq_both = df_refseq_both.drop(columns=[\"_merge\"])\n",
    "\n",
    "df_refseq_both_full = df_refseq_both[df_refseq_both[\"passed_contam_full\"] == True].drop_duplicates(subset=[\"refsequence_pk_full\", \"refsequence_pk_trunc\"])\n",
    "df_refseq_both_trunc = df_refseq_both[df_refseq_both[\"passed_contam_trunc\"] == True].sort_values(\n",
    "    by=[\"refseq_full_exclusive_to_loc\", \"refseq_trunc_new_to_loc\"], ascending=False).drop_duplicates(subset=[\"passed_contam_full\", \"refsequence_pk_trunc\"])\n",
    "\n",
    "df_refseq_both_full_count = pd.DataFrame(\n",
    "    df_refseq_both_full.value_counts(\n",
    "        subset=[\"passed_trunc\", \"refseq_full_exclusive_to_loc\", \"refseq_trunc_exclusive_to_loc\"])\n",
    ").sort_index(level=[\"passed_trunc\"], sort_remaining=False)\n",
    "df_refseq_both_full_count = df_refseq_both_full_count.sort_index(level=[\"passed_trunc\", \"refseq_full_exclusive_to_loc\"], sort_remaining=False)\n",
    "\n",
    "df_refseq_both_trunc_count = pd.DataFrame(\n",
    "    df_refseq_both_trunc.value_counts(\n",
    "        subset=[\"passed_contam_full\", \"refseq_trunc_exclusive_to_loc\", \"refseq_trunc_new_to_loc\"])\n",
    ").sort_index(level=[\"passed_contam_full\"], sort_remaining=False)\n",
    "df_refseq_both_trunc_count = df_refseq_both_trunc_count.sort_index(level=[\"passed_contam_full\"], sort_remaining=False)\n",
    "\n",
    "\n",
    "num_ref_full = df_refseq_full.shape[0]\n",
    "num_ref_trunc = df_refseq.shape[0]\n",
    "\n",
    "num_ref_full_discarded = df_refseq_both_full_count.loc[(False, slice(None), False)][\"count\"].sum()\n",
    "num_ref_full_exclusive_both = df_refseq_both_full_count.loc[(True, True, True)][\"count\"].sum()\n",
    "num_ref_full_not_exclusive_both = df_refseq_both_full_count.loc[(True, False, False)][\"count\"].sum()\n",
    "num_ref_full_no_longer_exclusive = df_refseq_both_full_count.loc[(True, True, False)][\"count\"].sum()\n",
    "\n",
    "num_ref_trunc_exclusive_new = df_refseq_both_trunc_count.loc[(False, True, True)][\"count\"].sum()\n",
    "num_ref_trunc_not_exclusive_new = df_refseq_both_trunc_count.loc[(False, False, True)][\"count\"].sum()\n",
    "num_ref_trunc_exclusive_both = df_refseq_both_trunc_count.loc[(True, True, False)][\"count\"].sum()\n",
    "num_ref_trunc_not_exclusive_both = df_refseq_both_trunc_count.loc[(True, False, False)][\"count\"].sum()\n",
    "num_ref_trunc_no_longer_exclusive = df_refseq_both_trunc_count.loc[(True, False, False)][\"count\"].sum()\n",
    "\n",
    "display(md(\"## Comparing reference sequences before and after truncation\"))\n",
    "display(md(f\"The number of reference sequences (unique ZOTUs across all samples) is:\\n\"\n",
    "           f\"- {num_ref_full} at full length\\n\"\n",
    "           f\"- {num_ref_trunc} when truncating\"))\n",
    "display(md(\"Of the full length reference sequences:\"))\n",
    "display(df_refseq_both_full_count)\n",
    "display(md(f\"- {num_ref_full_discarded} get discarded (<250bp)\\n\"\n",
    "           f\"- {num_ref_full_exclusive_both} are exclusive to their location both before and after truncation\\n\"\n",
    "           f\"- {num_ref_full_not_exclusive_both} are found in both locations before and after truncation\\n\"\n",
    "           f\"- {num_ref_full_no_longer_exclusive} are no longer exclusive to their location after truncation\"))\n",
    "display(md(\"Of the truncated reference sequences:\"))\n",
    "display(df_refseq_both_trunc_count)\n",
    "display(md(f\"- {num_ref_trunc_exclusive_new} are new to their location, resulting from the new ZOTUs, and exclusive to their location\\n\"\n",
    "           f\"- {num_ref_trunc_not_exclusive_new} are new to their location, but were already present in the other location\\n\"\n",
    "           f\"- {num_ref_trunc_exclusive_both} are exclusive to their location both before and after truncation\\n\"\n",
    "           f\"- {num_ref_trunc_not_exclusive_both} are found in both locations before and after truncation\\n\"\n",
    "           f\"- {num_ref_trunc_no_longer_exclusive} are no longer exclusive to their location after truncation\\n\"\n",
    "           ))\n",
    "\n",
    "df_refseq_both_full_count.to_latex(os.path.join(latex_tables, \"refseq_full.tex\"), escape=True)\n",
    "df_refseq_both_trunc_count.to_latex(os.path.join(latex_tables, \"refseq_trunc.tex\"), escape=True)"
   ]
  },
  {
   "cell_type": "markdown",
   "metadata": {},
   "source": [
    "# Taxonomy table results"
   ]
  },
  {
   "cell_type": "code",
   "execution_count": 113,
   "metadata": {},
   "outputs": [],
   "source": [
    "# Taxonomic ranks array\n",
    "ranks = [\"phylum\", \"class\", \"order\", \"family\", \"genus\", \"species\"]"
   ]
  },
  {
   "cell_type": "code",
   "execution_count": 114,
   "metadata": {},
   "outputs": [
    {
     "data": {
      "text/markdown": [
       "## Reference sequences missing a taxonomy hit"
      ],
      "text/plain": [
       "<IPython.core.display.Markdown object>"
      ]
     },
     "metadata": {},
     "output_type": "display_data"
    },
    {
     "data": {
      "text/html": [
       "<div>\n",
       "<style scoped>\n",
       "    .dataframe tbody tr th:only-of-type {\n",
       "        vertical-align: middle;\n",
       "    }\n",
       "\n",
       "    .dataframe tbody tr th {\n",
       "        vertical-align: top;\n",
       "    }\n",
       "\n",
       "    .dataframe thead th {\n",
       "        text-align: right;\n",
       "    }\n",
       "</style>\n",
       "<table border=\"1\" class=\"dataframe\">\n",
       "  <thead>\n",
       "    <tr style=\"text-align: right;\">\n",
       "      <th></th>\n",
       "      <th></th>\n",
       "      <th></th>\n",
       "      <th></th>\n",
       "      <th>count full</th>\n",
       "      <th>count trunc</th>\n",
       "    </tr>\n",
       "    <tr>\n",
       "      <th>passed_trunc</th>\n",
       "      <th>tax_missing_full</th>\n",
       "      <th>tax_missing_trunc</th>\n",
       "      <th>refseq_full_exclusive_to_loc</th>\n",
       "      <th></th>\n",
       "      <th></th>\n",
       "    </tr>\n",
       "  </thead>\n",
       "  <tbody>\n",
       "    <tr>\n",
       "      <th rowspan=\"2\" valign=\"top\">False</th>\n",
       "      <th>False</th>\n",
       "      <th>NaN</th>\n",
       "      <th>True</th>\n",
       "      <td>20</td>\n",
       "      <td>&lt;NA&gt;</td>\n",
       "    </tr>\n",
       "    <tr>\n",
       "      <th>True</th>\n",
       "      <th>NaN</th>\n",
       "      <th>True</th>\n",
       "      <td>11</td>\n",
       "      <td>&lt;NA&gt;</td>\n",
       "    </tr>\n",
       "    <tr>\n",
       "      <th rowspan=\"6\" valign=\"top\">True</th>\n",
       "      <th rowspan=\"3\" valign=\"top\">False</th>\n",
       "      <th rowspan=\"2\" valign=\"top\">False</th>\n",
       "      <th>True</th>\n",
       "      <td>1532</td>\n",
       "      <td>1477</td>\n",
       "    </tr>\n",
       "    <tr>\n",
       "      <th>False</th>\n",
       "      <td>49</td>\n",
       "      <td>48</td>\n",
       "    </tr>\n",
       "    <tr>\n",
       "      <th>True</th>\n",
       "      <th>True</th>\n",
       "      <td>1</td>\n",
       "      <td>1</td>\n",
       "    </tr>\n",
       "    <tr>\n",
       "      <th rowspan=\"3\" valign=\"top\">True</th>\n",
       "      <th>False</th>\n",
       "      <th>True</th>\n",
       "      <td>11</td>\n",
       "      <td>10</td>\n",
       "    </tr>\n",
       "    <tr>\n",
       "      <th rowspan=\"2\" valign=\"top\">True</th>\n",
       "      <th>True</th>\n",
       "      <td>229</td>\n",
       "      <td>206</td>\n",
       "    </tr>\n",
       "    <tr>\n",
       "      <th>False</th>\n",
       "      <td>3</td>\n",
       "      <td>3</td>\n",
       "    </tr>\n",
       "  </tbody>\n",
       "</table>\n",
       "</div>"
      ],
      "text/plain": [
       "                                                                              count full  \\\n",
       "passed_trunc tax_missing_full tax_missing_trunc refseq_full_exclusive_to_loc               \n",
       "False        False            NaN               True                                  20   \n",
       "             True             NaN               True                                  11   \n",
       "True         False            False             True                                1532   \n",
       "                                                False                                 49   \n",
       "                              True              True                                   1   \n",
       "             True             False             True                                  11   \n",
       "                              True              True                                 229   \n",
       "                                                False                                  3   \n",
       "\n",
       "                                                                              count trunc  \n",
       "passed_trunc tax_missing_full tax_missing_trunc refseq_full_exclusive_to_loc               \n",
       "False        False            NaN               True                                 <NA>  \n",
       "             True             NaN               True                                 <NA>  \n",
       "True         False            False             True                                 1477  \n",
       "                                                False                                  48  \n",
       "                              True              True                                    1  \n",
       "             True             False             True                                   10  \n",
       "                              True              True                                  206  \n",
       "                                                False                                   3  "
      ]
     },
     "metadata": {},
     "output_type": "display_data"
    },
    {
     "data": {
      "text/markdown": [
       "- 254 are missing a UNITE hit (13.69%)\n",
       "\t- 11 of these are discarded reference sequences (35.48% of total discarded)\n",
       "\t- 11 of these do have a UNITE hit after truncation (0.60% of reference sequences that pass truncation)\n",
       "\t- 3 of these are are found in both locations (5.77% of reference sequences found in both locations)"
      ],
      "text/plain": [
       "<IPython.core.display.Markdown object>"
      ]
     },
     "metadata": {},
     "output_type": "display_data"
    },
    {
     "data": {
      "image/png": "[encoded data removed]",
      "text/plain": [
       "<Figure size 1000x600 with 1 Axes>"
      ]
     },
     "metadata": {},
     "output_type": "display_data"
    },
    {
     "data": {
      "text/html": [
       "<div>\n",
       "<style scoped>\n",
       "    .dataframe tbody tr th:only-of-type {\n",
       "        vertical-align: middle;\n",
       "    }\n",
       "\n",
       "    .dataframe tbody tr th {\n",
       "        vertical-align: top;\n",
       "    }\n",
       "\n",
       "    .dataframe thead th {\n",
       "        text-align: right;\n",
       "    }\n",
       "</style>\n",
       "<table border=\"1\" class=\"dataframe\">\n",
       "  <thead>\n",
       "    <tr style=\"text-align: right;\">\n",
       "      <th></th>\n",
       "      <th></th>\n",
       "      <th></th>\n",
       "      <th></th>\n",
       "      <th></th>\n",
       "      <th>count</th>\n",
       "    </tr>\n",
       "    <tr>\n",
       "      <th>passed_contam_full</th>\n",
       "      <th>tax_missing_full</th>\n",
       "      <th>tax_missing_trunc</th>\n",
       "      <th>refseq_trunc_exclusive_to_loc</th>\n",
       "      <th>refseq_trunc_new_to_loc</th>\n",
       "      <th></th>\n",
       "    </tr>\n",
       "  </thead>\n",
       "  <tbody>\n",
       "    <tr>\n",
       "      <th rowspan=\"7\" valign=\"top\">False</th>\n",
       "      <th rowspan=\"7\" valign=\"top\">NaN</th>\n",
       "      <th rowspan=\"4\" valign=\"top\">False</th>\n",
       "      <th rowspan=\"2\" valign=\"top\">True</th>\n",
       "      <th>False</th>\n",
       "      <td>137</td>\n",
       "    </tr>\n",
       "    <tr>\n",
       "      <th>True</th>\n",
       "      <td>23</td>\n",
       "    </tr>\n",
       "    <tr>\n",
       "      <th rowspan=\"2\" valign=\"top\">False</th>\n",
       "      <th>False</th>\n",
       "      <td>14</td>\n",
       "    </tr>\n",
       "    <tr>\n",
       "      <th>True</th>\n",
       "      <td>2</td>\n",
       "    </tr>\n",
       "    <tr>\n",
       "      <th rowspan=\"3\" valign=\"top\">True</th>\n",
       "      <th rowspan=\"2\" valign=\"top\">True</th>\n",
       "      <th>False</th>\n",
       "      <td>48</td>\n",
       "    </tr>\n",
       "    <tr>\n",
       "      <th>True</th>\n",
       "      <td>7</td>\n",
       "    </tr>\n",
       "    <tr>\n",
       "      <th>False</th>\n",
       "      <th>False</th>\n",
       "      <td>2</td>\n",
       "    </tr>\n",
       "    <tr>\n",
       "      <th rowspan=\"6\" valign=\"top\">True</th>\n",
       "      <th rowspan=\"3\" valign=\"top\">False</th>\n",
       "      <th rowspan=\"2\" valign=\"top\">False</th>\n",
       "      <th>True</th>\n",
       "      <th>False</th>\n",
       "      <td>1466</td>\n",
       "    </tr>\n",
       "    <tr>\n",
       "      <th>False</th>\n",
       "      <th>False</th>\n",
       "      <td>51</td>\n",
       "    </tr>\n",
       "    <tr>\n",
       "      <th>True</th>\n",
       "      <th>True</th>\n",
       "      <th>False</th>\n",
       "      <td>1</td>\n",
       "    </tr>\n",
       "    <tr>\n",
       "      <th rowspan=\"3\" valign=\"top\">True</th>\n",
       "      <th>False</th>\n",
       "      <th>True</th>\n",
       "      <th>False</th>\n",
       "      <td>10</td>\n",
       "    </tr>\n",
       "    <tr>\n",
       "      <th rowspan=\"2\" valign=\"top\">True</th>\n",
       "      <th>True</th>\n",
       "      <th>False</th>\n",
       "      <td>206</td>\n",
       "    </tr>\n",
       "    <tr>\n",
       "      <th>False</th>\n",
       "      <th>False</th>\n",
       "      <td>3</td>\n",
       "    </tr>\n",
       "  </tbody>\n",
       "</table>\n",
       "</div>"
      ],
      "text/plain": [
       "                                                                                                             count\n",
       "passed_contam_full tax_missing_full tax_missing_trunc refseq_trunc_exclusive_to_loc refseq_trunc_new_to_loc       \n",
       "False              NaN              False             True                          False                      137\n",
       "                                                                                    True                        23\n",
       "                                                      False                         False                       14\n",
       "                                                                                    True                         2\n",
       "                                    True              True                          False                       48\n",
       "                                                                                    True                         7\n",
       "                                                      False                         False                        2\n",
       "True               False            False             True                          False                     1466\n",
       "                                                      False                         False                       51\n",
       "                                    True              True                          False                        1\n",
       "                   True             False             True                          False                       10\n",
       "                                    True              True                          False                      206\n",
       "                                                      False                         False                        3"
      ]
     },
     "metadata": {},
     "output_type": "display_data"
    },
    {
     "data": {
      "text/markdown": [
       "- 217 are missing a UNITE hit (12.28%)\n",
       "\t- 7 of these are new reference sequences (23.33% of new reference sequences)\n",
       "\t- 3 of these are found in both locations (5.36% of reference sequences found in both locations)"
      ],
      "text/plain": [
       "<IPython.core.display.Markdown object>"
      ]
     },
     "metadata": {},
     "output_type": "display_data"
    }
   ],
   "source": [
    "#Missing taxonomy analysis\n",
    "\n",
    "df_refseq_both_full_notax_count = pd.DataFrame.join(\n",
    "    df_refseq_both_full.value_counts(\n",
    "    subset=[\"passed_trunc\", \"tax_missing_full\", \"tax_missing_trunc\", \"refseq_full_exclusive_to_loc\"], dropna=False),\n",
    "    df_refseq_both_full[df_refseq_both_full[\"passed_trunc\"] == True].drop_duplicates(subset=[\"tax_missing_full\", \"tax_missing_trunc\", \"refseq_full_exclusive_to_loc\", \"refsequence_pk_trunc\"]).value_counts(\n",
    "    subset=[\"passed_trunc\", \"tax_missing_full\", \"tax_missing_trunc\", \"refseq_full_exclusive_to_loc\"], dropna=False),\n",
    "    rsuffix=\" trunc\", lsuffix=\" full\"\n",
    ").sort_index(level=[\"passed_trunc\", \"tax_missing_full\", \"tax_missing_trunc\"], sort_remaining=False)\n",
    "df_refseq_both_full_notax_count = df_refseq_both_full_notax_count.astype(\"Int64\")\n",
    "\n",
    "df_refseq_both_trunc_notax_count = pd.DataFrame(df_refseq_both_trunc.value_counts(\n",
    "    subset=[\"passed_contam_full\", \"tax_missing_full\", \"tax_missing_trunc\", \"refseq_trunc_exclusive_to_loc\", \"refseq_trunc_new_to_loc\"], dropna=False\n",
    ")).sort_index(level=[\"passed_contam_full\", \"tax_missing_full\", \"tax_missing_trunc\"], sort_remaining=False)\n",
    "\n",
    "\n",
    "num_ref_full_notax = df_refseq_both_full_notax_count.loc[(slice(None), True, slice(None), slice(None))][\"count full\"].sum()\n",
    "num_ref_full_notax_discard = df_refseq_both_full_notax_count.loc[(False, True, slice(None), slice(None))][\"count full\"].sum()\n",
    "num_ref_full_notax_no_longer = df_refseq_both_full_notax_count.loc[(True, True, False, slice(None))][\"count full\"].sum()\n",
    "num_ref_full_notax_not_exclusive = df_refseq_both_full_notax_count.loc[(True, True, slice(None), False)][\"count full\"].sum()\n",
    "display(md(\"## Reference sequences missing a taxonomy hit\"))\n",
    "\n",
    "display(df_refseq_both_full_notax_count)\n",
    "\n",
    "display(md(f\"- {num_ref_full_notax} are missing a UNITE hit ({num_ref_full_notax / num_ref_full:.2%})\\n\"\n",
    "           f\"\\t- {num_ref_full_notax_discard} of these are discarded reference sequences ({num_ref_full_notax_discard / num_ref_full_discarded:.2%} of total discarded)\\n\"\n",
    "           f\"\\t- {num_ref_full_notax_no_longer} of these do have a UNITE hit after truncation ({num_ref_full_notax_no_longer / (num_ref_full_exclusive_both + num_ref_full_not_exclusive_both + num_ref_full_no_longer_exclusive):.2%} of reference sequences that pass truncation)\\n\"\n",
    "           f\"\\t- {num_ref_full_notax_not_exclusive} of these are are found in both locations ({num_ref_full_notax_not_exclusive / num_ref_full_not_exclusive_both:.2%} of reference sequences found in both locations)\"))\n",
    "\n",
    "df_refseq_both_full_notax_count.to_latex(os.path.join(latex_tables, \"refseq_notax_full.tex\"), escape=True)\n",
    "\n",
    "ax = df_refseq_both_full.pivot(columns=\"tax_missing_full\")[\"refseq_length_full\"]\\\n",
    "    .rename(columns={True: \"Without UNITE hit\", False: \"With UNITE hit\"}).plot.hist(bins=bins, stacked=True, xlim=(200, 450), edgecolor = \"black\", figsize=(10,6))\n",
    "ax.set_title(\"Length distribution of full length reference sequences without a UNITE hit\")\n",
    "ax.set_xlabel(\"Length in bp\")\n",
    "plt.legend() \n",
    "plt.show()\n",
    "\n",
    "\n",
    "num_ref_trunc_notax_new = df_refseq_both_trunc_notax_count.loc[(False, slice(None), True, slice(None), True)][\"count\"].sum()\n",
    "num_ref_trunc_notax_overlap = df_refseq_both_trunc_notax_count.loc[(True, slice(None), True, slice(None), False)][\"count\"].sum()\n",
    "num_ref_trunc_notax = num_ref_trunc_notax_new + num_ref_trunc_notax_overlap\n",
    "num_ref_trunc_notax_not_exclusive = df_refseq_both_trunc_notax_count.loc[(True, slice(None), True, False, False)][\"count\"].sum()\n",
    "\n",
    "display(df_refseq_both_trunc_notax_count)\n",
    "\n",
    "display(md(f\"- {num_ref_trunc_notax} are missing a UNITE hit ({num_ref_trunc_notax / num_ref_trunc:.2%})\\n\"\n",
    "           f\"\\t- {num_ref_trunc_notax_new} of these are new reference sequences ({num_ref_trunc_notax_new / num_ref_trunc_exclusive_new:.2%} of new reference sequences)\\n\"\n",
    "           f\"\\t- {num_ref_trunc_notax_not_exclusive} of these are found in both locations ({num_ref_trunc_notax_not_exclusive / (num_ref_trunc_not_exclusive_both + num_ref_trunc_not_exclusive_new + num_ref_trunc_no_longer_exclusive):.2%} of reference sequences found in both locations)\"))\n",
    "\n",
    "df_refseq_both_trunc_notax_count.to_latex(os.path.join(latex_tables, \"refseq_notax_trunc.tex\"), escape=True)\n"
   ]
  },
  {
   "cell_type": "code",
   "execution_count": 115,
   "metadata": {},
   "outputs": [
    {
     "data": {
      "text/markdown": [
       "# Taxonomy of discarded refseqs present in remaining full length and truncated refseqs"
      ],
      "text/plain": [
       "<IPython.core.display.Markdown object>"
      ]
     },
     "metadata": {},
     "output_type": "display_data"
    },
    {
     "data": {
      "text/html": [
       "<div>\n",
       "<style scoped>\n",
       "    .dataframe tbody tr th:only-of-type {\n",
       "        vertical-align: middle;\n",
       "    }\n",
       "\n",
       "    .dataframe tbody tr th {\n",
       "        vertical-align: top;\n",
       "    }\n",
       "\n",
       "    .dataframe thead th {\n",
       "        text-align: right;\n",
       "    }\n",
       "</style>\n",
       "<table border=\"1\" class=\"dataframe\">\n",
       "  <thead>\n",
       "    <tr style=\"text-align: right;\">\n",
       "      <th></th>\n",
       "      <th></th>\n",
       "      <th></th>\n",
       "      <th></th>\n",
       "      <th>count refseq</th>\n",
       "      <th>count UNITE_id</th>\n",
       "    </tr>\n",
       "    <tr>\n",
       "      <th>UNITE_id_in_refseq_full</th>\n",
       "      <th>UNITE_id_in_refseq_trunc</th>\n",
       "      <th>tax_in_refseq_full_lowest</th>\n",
       "      <th>tax_in_refseq_trunc_lowest</th>\n",
       "      <th></th>\n",
       "      <th></th>\n",
       "    </tr>\n",
       "  </thead>\n",
       "  <tbody>\n",
       "    <tr>\n",
       "      <th rowspan=\"3\" valign=\"top\">False</th>\n",
       "      <th rowspan=\"3\" valign=\"top\">False</th>\n",
       "      <th>species</th>\n",
       "      <th>species</th>\n",
       "      <td>15</td>\n",
       "      <td>10</td>\n",
       "    </tr>\n",
       "    <tr>\n",
       "      <th>order</th>\n",
       "      <th>order</th>\n",
       "      <td>4</td>\n",
       "      <td>3</td>\n",
       "    </tr>\n",
       "    <tr>\n",
       "      <th>class</th>\n",
       "      <th>species</th>\n",
       "      <td>1</td>\n",
       "      <td>1</td>\n",
       "    </tr>\n",
       "  </tbody>\n",
       "</table>\n",
       "</div>"
      ],
      "text/plain": [
       "                                                                                                       count refseq  \\\n",
       "UNITE_id_in_refseq_full UNITE_id_in_refseq_trunc tax_in_refseq_full_lowest tax_in_refseq_trunc_lowest                 \n",
       "False                   False                    species                   species                               15   \n",
       "                                                 order                     order                                  4   \n",
       "                                                 class                     species                                1   \n",
       "\n",
       "                                                                                                       count UNITE_id  \n",
       "UNITE_id_in_refseq_full UNITE_id_in_refseq_trunc tax_in_refseq_full_lowest tax_in_refseq_trunc_lowest                  \n",
       "False                   False                    species                   species                                 10  \n",
       "                                                 order                     order                                    3  \n",
       "                                                 class                     species                                  1  "
      ]
     },
     "metadata": {},
     "output_type": "display_data"
    },
    {
     "data": {
      "text/markdown": [
       "# Taxonomy of new refseqs present in remaining truncated and full length refseqs"
      ],
      "text/plain": [
       "<IPython.core.display.Markdown object>"
      ]
     },
     "metadata": {},
     "output_type": "display_data"
    },
    {
     "data": {
      "text/html": [
       "<div>\n",
       "<style scoped>\n",
       "    .dataframe tbody tr th:only-of-type {\n",
       "        vertical-align: middle;\n",
       "    }\n",
       "\n",
       "    .dataframe tbody tr th {\n",
       "        vertical-align: top;\n",
       "    }\n",
       "\n",
       "    .dataframe thead th {\n",
       "        text-align: right;\n",
       "    }\n",
       "</style>\n",
       "<table border=\"1\" class=\"dataframe\">\n",
       "  <thead>\n",
       "    <tr style=\"text-align: right;\">\n",
       "      <th></th>\n",
       "      <th></th>\n",
       "      <th></th>\n",
       "      <th></th>\n",
       "      <th>count refseq</th>\n",
       "      <th>count UNITE_id</th>\n",
       "    </tr>\n",
       "    <tr>\n",
       "      <th>UNITE_id_in_refseq_full</th>\n",
       "      <th>UNITE_id_in_refseq_trunc</th>\n",
       "      <th>tax_in_refseq_full_lowest</th>\n",
       "      <th>tax_in_refseq_trunc_lowest</th>\n",
       "      <th></th>\n",
       "      <th></th>\n",
       "    </tr>\n",
       "  </thead>\n",
       "  <tbody>\n",
       "    <tr>\n",
       "      <th>True</th>\n",
       "      <th>True</th>\n",
       "      <th>species</th>\n",
       "      <th>species</th>\n",
       "      <td>13</td>\n",
       "      <td>12</td>\n",
       "    </tr>\n",
       "    <tr>\n",
       "      <th rowspan=\"5\" valign=\"top\">False</th>\n",
       "      <th rowspan=\"5\" valign=\"top\">False</th>\n",
       "      <th>species</th>\n",
       "      <th>species</th>\n",
       "      <td>5</td>\n",
       "      <td>5</td>\n",
       "    </tr>\n",
       "    <tr>\n",
       "      <th>order</th>\n",
       "      <th>order</th>\n",
       "      <td>3</td>\n",
       "      <td>3</td>\n",
       "    </tr>\n",
       "    <tr>\n",
       "      <th>family</th>\n",
       "      <th>family</th>\n",
       "      <td>2</td>\n",
       "      <td>2</td>\n",
       "    </tr>\n",
       "    <tr>\n",
       "      <th>class</th>\n",
       "      <th>class</th>\n",
       "      <td>1</td>\n",
       "      <td>1</td>\n",
       "    </tr>\n",
       "    <tr>\n",
       "      <th>species</th>\n",
       "      <th>class</th>\n",
       "      <td>1</td>\n",
       "      <td>1</td>\n",
       "    </tr>\n",
       "  </tbody>\n",
       "</table>\n",
       "</div>"
      ],
      "text/plain": [
       "                                                                                                       count refseq  \\\n",
       "UNITE_id_in_refseq_full UNITE_id_in_refseq_trunc tax_in_refseq_full_lowest tax_in_refseq_trunc_lowest                 \n",
       "True                    True                     species                   species                               13   \n",
       "False                   False                    species                   species                                5   \n",
       "                                                 order                     order                                  3   \n",
       "                                                 family                    family                                 2   \n",
       "                                                 class                     class                                  1   \n",
       "                                                 species                   class                                  1   \n",
       "\n",
       "                                                                                                       count UNITE_id  \n",
       "UNITE_id_in_refseq_full UNITE_id_in_refseq_trunc tax_in_refseq_full_lowest tax_in_refseq_trunc_lowest                  \n",
       "True                    True                     species                   species                                 12  \n",
       "False                   False                    species                   species                                  5  \n",
       "                                                 order                     order                                    3  \n",
       "                                                 family                    family                                   2  \n",
       "                                                 class                     class                                    1  \n",
       "                                                 species                   class                                    1  "
      ]
     },
     "metadata": {},
     "output_type": "display_data"
    },
    {
     "data": {
      "text/markdown": [
       "# Taxonomy of remaining full length refseqs present in truncated refseqs"
      ],
      "text/plain": [
       "<IPython.core.display.Markdown object>"
      ]
     },
     "metadata": {},
     "output_type": "display_data"
    },
    {
     "data": {
      "text/html": [
       "<div>\n",
       "<style scoped>\n",
       "    .dataframe tbody tr th:only-of-type {\n",
       "        vertical-align: middle;\n",
       "    }\n",
       "\n",
       "    .dataframe tbody tr th {\n",
       "        vertical-align: top;\n",
       "    }\n",
       "\n",
       "    .dataframe thead th {\n",
       "        text-align: right;\n",
       "    }\n",
       "</style>\n",
       "<table border=\"1\" class=\"dataframe\">\n",
       "  <thead>\n",
       "    <tr style=\"text-align: right;\">\n",
       "      <th></th>\n",
       "      <th></th>\n",
       "      <th>count refseq</th>\n",
       "      <th>count UNITE_id</th>\n",
       "    </tr>\n",
       "    <tr>\n",
       "      <th>UNITE_id_in_refseq_trunc</th>\n",
       "      <th>tax_in_refseq_trunc_lowest</th>\n",
       "      <th></th>\n",
       "      <th></th>\n",
       "    </tr>\n",
       "  </thead>\n",
       "  <tbody>\n",
       "    <tr>\n",
       "      <th>True</th>\n",
       "      <th>species</th>\n",
       "      <td>1383</td>\n",
       "      <td>825</td>\n",
       "    </tr>\n",
       "    <tr>\n",
       "      <th rowspan=\"5\" valign=\"top\">False</th>\n",
       "      <th>genus</th>\n",
       "      <td>138</td>\n",
       "      <td>86</td>\n",
       "    </tr>\n",
       "    <tr>\n",
       "      <th>species</th>\n",
       "      <td>63</td>\n",
       "      <td>50</td>\n",
       "    </tr>\n",
       "    <tr>\n",
       "      <th>family</th>\n",
       "      <td>31</td>\n",
       "      <td>21</td>\n",
       "    </tr>\n",
       "    <tr>\n",
       "      <th>order</th>\n",
       "      <td>13</td>\n",
       "      <td>9</td>\n",
       "    </tr>\n",
       "    <tr>\n",
       "      <th>class</th>\n",
       "      <td>2</td>\n",
       "      <td>2</td>\n",
       "    </tr>\n",
       "  </tbody>\n",
       "</table>\n",
       "</div>"
      ],
      "text/plain": [
       "                                                     count refseq  \\\n",
       "UNITE_id_in_refseq_trunc tax_in_refseq_trunc_lowest                 \n",
       "True                     species                             1383   \n",
       "False                    genus                                138   \n",
       "                         species                               63   \n",
       "                         family                                31   \n",
       "                         order                                 13   \n",
       "                         class                                  2   \n",
       "\n",
       "                                                     count UNITE_id  \n",
       "UNITE_id_in_refseq_trunc tax_in_refseq_trunc_lowest                  \n",
       "True                     species                                825  \n",
       "False                    genus                                   86  \n",
       "                         species                                 50  \n",
       "                         family                                  21  \n",
       "                         order                                    9  \n",
       "                         class                                    2  "
      ]
     },
     "metadata": {},
     "output_type": "display_data"
    },
    {
     "data": {
      "text/markdown": [
       "# Taxonomy difference after trunction and effect on taxa found in location"
      ],
      "text/plain": [
       "<IPython.core.display.Markdown object>"
      ]
     },
     "metadata": {},
     "output_type": "display_data"
    },
    {
     "data": {
      "text/html": [
       "<div>\n",
       "<style scoped>\n",
       "    .dataframe tbody tr th:only-of-type {\n",
       "        vertical-align: middle;\n",
       "    }\n",
       "\n",
       "    .dataframe tbody tr th {\n",
       "        vertical-align: top;\n",
       "    }\n",
       "\n",
       "    .dataframe thead th {\n",
       "        text-align: right;\n",
       "    }\n",
       "</style>\n",
       "<table border=\"1\" class=\"dataframe\">\n",
       "  <thead>\n",
       "    <tr style=\"text-align: right;\">\n",
       "      <th></th>\n",
       "      <th></th>\n",
       "      <th></th>\n",
       "      <th>refsequence_pk_full</th>\n",
       "      <th>UNITE_id_full</th>\n",
       "    </tr>\n",
       "    <tr>\n",
       "      <th>UNITE_id_equal</th>\n",
       "      <th>tax_equal_lowest</th>\n",
       "      <th>tax_change_below_equal</th>\n",
       "      <th></th>\n",
       "      <th></th>\n",
       "    </tr>\n",
       "  </thead>\n",
       "  <tbody>\n",
       "    <tr>\n",
       "      <th>True</th>\n",
       "      <th>species</th>\n",
       "      <th>none</th>\n",
       "      <td>1285</td>\n",
       "      <td>781</td>\n",
       "    </tr>\n",
       "    <tr>\n",
       "      <th rowspan=\"17\" valign=\"top\">False</th>\n",
       "      <th>species</th>\n",
       "      <th>none</th>\n",
       "      <td>36</td>\n",
       "      <td>33</td>\n",
       "    </tr>\n",
       "    <tr>\n",
       "      <th rowspan=\"2\" valign=\"top\">genus</th>\n",
       "      <th>uniden-&gt;uniden</th>\n",
       "      <td>6</td>\n",
       "      <td>5</td>\n",
       "    </tr>\n",
       "    <tr>\n",
       "      <th>species-&gt;species</th>\n",
       "      <td>132</td>\n",
       "      <td>95</td>\n",
       "    </tr>\n",
       "    <tr>\n",
       "      <th rowspan=\"3\" valign=\"top\">family</th>\n",
       "      <th>uniden-&gt;genus</th>\n",
       "      <td>3</td>\n",
       "      <td>2</td>\n",
       "    </tr>\n",
       "    <tr>\n",
       "      <th>genus-&gt;uniden</th>\n",
       "      <td>10</td>\n",
       "      <td>10</td>\n",
       "    </tr>\n",
       "    <tr>\n",
       "      <th>genus-&gt;genus</th>\n",
       "      <td>36</td>\n",
       "      <td>26</td>\n",
       "    </tr>\n",
       "    <tr>\n",
       "      <th rowspan=\"3\" valign=\"top\">order</th>\n",
       "      <th>uniden-&gt;family</th>\n",
       "      <td>12</td>\n",
       "      <td>5</td>\n",
       "    </tr>\n",
       "    <tr>\n",
       "      <th>family-&gt;uniden</th>\n",
       "      <td>16</td>\n",
       "      <td>13</td>\n",
       "    </tr>\n",
       "    <tr>\n",
       "      <th>family-&gt;family</th>\n",
       "      <td>10</td>\n",
       "      <td>7</td>\n",
       "    </tr>\n",
       "    <tr>\n",
       "      <th rowspan=\"3\" valign=\"top\">class</th>\n",
       "      <th>uniden-&gt;order</th>\n",
       "      <td>4</td>\n",
       "      <td>3</td>\n",
       "    </tr>\n",
       "    <tr>\n",
       "      <th>order-&gt;uniden</th>\n",
       "      <td>1</td>\n",
       "      <td>1</td>\n",
       "    </tr>\n",
       "    <tr>\n",
       "      <th>order-&gt;order</th>\n",
       "      <td>3</td>\n",
       "      <td>3</td>\n",
       "    </tr>\n",
       "    <tr>\n",
       "      <th rowspan=\"3\" valign=\"top\">phylum</th>\n",
       "      <th>uniden-&gt;uniden</th>\n",
       "      <td>1</td>\n",
       "      <td>1</td>\n",
       "    </tr>\n",
       "    <tr>\n",
       "      <th>uniden-&gt;class</th>\n",
       "      <td>10</td>\n",
       "      <td>2</td>\n",
       "    </tr>\n",
       "    <tr>\n",
       "      <th>class-&gt;uniden</th>\n",
       "      <td>5</td>\n",
       "      <td>4</td>\n",
       "    </tr>\n",
       "    <tr>\n",
       "      <th rowspan=\"2\" valign=\"top\">none</th>\n",
       "      <th>uniden-&gt;phylum</th>\n",
       "      <td>5</td>\n",
       "      <td>3</td>\n",
       "    </tr>\n",
       "    <tr>\n",
       "      <th>phylum-&gt;uniden</th>\n",
       "      <td>6</td>\n",
       "      <td>4</td>\n",
       "    </tr>\n",
       "  </tbody>\n",
       "</table>\n",
       "</div>"
      ],
      "text/plain": [
       "                                                        refsequence_pk_full  \\\n",
       "UNITE_id_equal tax_equal_lowest tax_change_below_equal                        \n",
       "True           species          none                                   1285   \n",
       "False          species          none                                     36   \n",
       "               genus            uniden->uniden                            6   \n",
       "                                species->species                        132   \n",
       "               family           uniden->genus                             3   \n",
       "                                genus->uniden                            10   \n",
       "                                genus->genus                             36   \n",
       "               order            uniden->family                           12   \n",
       "                                family->uniden                           16   \n",
       "                                family->family                           10   \n",
       "               class            uniden->order                             4   \n",
       "                                order->uniden                             1   \n",
       "                                order->order                              3   \n",
       "               phylum           uniden->uniden                            1   \n",
       "                                uniden->class                            10   \n",
       "                                class->uniden                             5   \n",
       "               none             uniden->phylum                            5   \n",
       "                                phylum->uniden                            6   \n",
       "\n",
       "                                                        UNITE_id_full  \n",
       "UNITE_id_equal tax_equal_lowest tax_change_below_equal                 \n",
       "True           species          none                              781  \n",
       "False          species          none                               33  \n",
       "               genus            uniden->uniden                      5  \n",
       "                                species->species                   95  \n",
       "               family           uniden->genus                       2  \n",
       "                                genus->uniden                      10  \n",
       "                                genus->genus                       26  \n",
       "               order            uniden->family                      5  \n",
       "                                family->uniden                     13  \n",
       "                                family->family                      7  \n",
       "               class            uniden->order                       3  \n",
       "                                order->uniden                       1  \n",
       "                                order->order                        3  \n",
       "               phylum           uniden->uniden                      1  \n",
       "                                uniden->class                       2  \n",
       "                                class->uniden                       4  \n",
       "               none             uniden->phylum                      3  \n",
       "                                phylum->uniden                      4  "
      ]
     },
     "metadata": {},
     "output_type": "display_data"
    },
    {
     "data": {
      "text/markdown": [
       "# Taxonomy difference after trunction plotted against refseq length"
      ],
      "text/plain": [
       "<IPython.core.display.Markdown object>"
      ]
     },
     "metadata": {},
     "output_type": "display_data"
    },
    {
     "data": {
      "image/png": "[encoded data removed]",
      "text/plain": [
       "<Figure size 1000x600 with 1 Axes>"
      ]
     },
     "metadata": {},
     "output_type": "display_data"
    }
   ],
   "source": [
    "#Create UNITE id dataframes\n",
    "df_unite_full = df[df[\"tax_missing_full\"] == False].drop_duplicates(subset=[\"location\", \"UNITE_id_full\"])\n",
    "df_unite_not_discard = df[(df[\"passed_trunc\"] == True) & (df[\"tax_missing_full\"] == False)].drop_duplicates(subset=[\"location\", \"UNITE_id_full\"])\n",
    "df_unite_trunc = df[df[\"tax_missing_trunc\"] == False].drop_duplicates(subset=[\"location\", \"UNITE_id_trunc\"])\n",
    "df_unite_not_new = df_refseq_both[\n",
    "    (df_refseq_both[\"passed_contam_trunc\"] == True) &\n",
    "    (df_refseq_both[\"refseq_trunc_new_to_loc\"] == False) &\n",
    "    (df_refseq_both[\"tax_missing_trunc\"] == False)].drop_duplicates(subset=[\"location\", \"UNITE_id_trunc\"])\n",
    "\n",
    "df_refseq_unite_discard = df_refseq_both[(df_refseq_both[\"passed_trunc\"] == False) & (df_refseq_both[\"tax_missing_full\"] == False)].copy()\n",
    "df_refseq_unite_new = df_refseq_both[(df_refseq_both[\"passed_contam_trunc\"] == True) & (df_refseq_both[\"refseq_trunc_new_to_loc\"] == True) &\n",
    "    (df_refseq_both[\"tax_missing_trunc\"] == False)].copy()\n",
    "df_refseq_unite_both = df_refseq_both[(df_refseq_both[\"tax_missing_full\"] == False) & (df_refseq_both[\"tax_missing_trunc\"] == False)].copy()\n",
    "\n",
    "#---------------------------------------------------\n",
    "# Analyse discarded\n",
    "\n",
    "for suffix, merge_df in [(\"full\", df_unite_not_discard), (\"trunc\", df_unite_trunc)]:\n",
    "\n",
    "    df_refseq_unite_discard = df_refseq_unite_discard.merge(\n",
    "        merge_df[[\"location\", f\"UNITE_id_{suffix}\"]].rename(columns={f\"UNITE_id_{suffix}\": \"UNITE_id_full\"}),\n",
    "        on=[\"location\",\"UNITE_id_full\"], how=\"left\", indicator=True).set_index(df_refseq_unite_discard.index)\n",
    "    df_refseq_unite_discard[f\"UNITE_id_in_refseq_{suffix}\"] = df_refseq_unite_discard[\"_merge\"] == \"both\"\n",
    "    df_refseq_unite_discard = df_refseq_unite_discard.drop(columns=[\"_merge\"])\n",
    "\n",
    "    for rank_depth in range(len(ranks)):\n",
    "        df_tax_until_rank = merge_df[[\"location\"]+[f\"{rank}_{suffix}\" for rank in ranks[:rank_depth+1]]].drop_duplicates()\n",
    "        df_refseq_unite_discard = df_refseq_unite_discard.merge(\n",
    "            df_tax_until_rank.rename(columns={f\"{rank}_{suffix}\": f\"{rank}_full\" for rank in ranks[:rank_depth+1]}),\n",
    "            how=\"left\", indicator=True).set_index(df_refseq_unite_discard.index)\n",
    "        df_refseq_unite_discard[f\"tax_in_refseq_{suffix}_until_{ranks[rank_depth]}\"] = df_refseq_unite_discard[\"_merge\"] == \"both\"\n",
    "        df_refseq_unite_discard = df_refseq_unite_discard.drop(columns=[\"_merge\"])\n",
    "\n",
    "    df_refseq_unite_discard[f\"tax_in_refseq_{suffix}_lowest\"] = (\n",
    "        df_refseq_unite_discard[[f\"tax_in_refseq_{suffix}_until_{rank}\" for rank in ranks]].apply(\n",
    "            lambda row: next((rank for rank in ranks[::-1] if row[f\"tax_in_refseq_{suffix}_until_{rank}\"]), None), axis=1\n",
    "        )\n",
    "    )\n",
    "\n",
    "df_unite_discard = df_refseq_unite_discard.drop_duplicates(subset=[\"location\", \"UNITE_id_full\"])\n",
    "df_unite_discard_counts = pd.DataFrame.join(\n",
    "    df_refseq_unite_discard.value_counts(subset=[\"UNITE_id_in_refseq_full\", \"UNITE_id_in_refseq_trunc\", \"tax_in_refseq_full_lowest\",\"tax_in_refseq_trunc_lowest\"]),\n",
    "    df_unite_discard.value_counts(subset=[\"UNITE_id_in_refseq_full\", \"UNITE_id_in_refseq_trunc\", \"tax_in_refseq_full_lowest\",\"tax_in_refseq_trunc_lowest\"]),\n",
    "    lsuffix=\" refseq\", rsuffix=\" UNITE_id\"\n",
    ")\n",
    "\n",
    "display(md(\"# Taxonomy of discarded refseqs present in remaining full length and truncated refseqs\"))\n",
    "display(df_unite_discard_counts)\n",
    "\n",
    "df_unite_discard_counts.to_latex(os.path.join(latex_tables, \"unite_discard.tex\"), escape=True)\n",
    "\n",
    "\n",
    "#---------------------------------------------------\n",
    "# Analyze new refseqs\n",
    "\n",
    "for suffix, merge_df in [(\"full\", df_unite_full), (\"trunc\", df_unite_not_new)]:\n",
    "\n",
    "    df_refseq_unite_new = df_refseq_unite_new.merge(\n",
    "        merge_df[[\"location\", f\"UNITE_id_{suffix}\"]].rename(columns={f\"UNITE_id_{suffix}\": \"UNITE_id_trunc\"}),\n",
    "        on=[\"location\",\"UNITE_id_trunc\"], how=\"left\", indicator=True).set_index(df_refseq_unite_new.index)\n",
    "    df_refseq_unite_new[f\"UNITE_id_in_refseq_{suffix}\"] = df_refseq_unite_new[\"_merge\"] == \"both\"\n",
    "    df_refseq_unite_new = df_refseq_unite_new.drop(columns=[\"_merge\"])\n",
    "\n",
    "    for rank_depth in range(len(ranks)):\n",
    "        df_tax_until_rank = merge_df[[\"location\"]+[f\"{rank}_{suffix}\" for rank in ranks[:rank_depth+1]]].drop_duplicates()\n",
    "        df_refseq_unite_new = df_refseq_unite_new.merge(\n",
    "            df_tax_until_rank.rename(columns={f\"{rank}_{suffix}\": f\"{rank}_trunc\" for rank in ranks[:rank_depth+1]}),\n",
    "            how=\"left\", indicator=True).set_index(df_refseq_unite_new.index)\n",
    "        df_refseq_unite_new[f\"tax_in_refseq_{suffix}_until_{ranks[rank_depth]}\"] = df_refseq_unite_new[\"_merge\"] == \"both\"\n",
    "        df_refseq_unite_new = df_refseq_unite_new.drop(columns=[\"_merge\"])\n",
    "\n",
    "    df_refseq_unite_new[f\"tax_in_refseq_{suffix}_lowest\"] = (\n",
    "        df_refseq_unite_new[[f\"tax_in_refseq_{suffix}_until_{rank}\" for rank in ranks]].apply(\n",
    "            lambda row: next((rank for rank in ranks[::-1] if row[f\"tax_in_refseq_{suffix}_until_{rank}\"]), \"none\"), axis=1\n",
    "        )\n",
    "    )\n",
    "\n",
    "df_unite_new = df_refseq_unite_new.drop_duplicates(subset=[\"location\", \"UNITE_id_trunc\"])\n",
    "df_unite_new_counts = pd.DataFrame.join(\n",
    "    df_refseq_unite_new.value_counts(subset=[\"UNITE_id_in_refseq_full\", \"UNITE_id_in_refseq_trunc\", \"tax_in_refseq_full_lowest\",\"tax_in_refseq_trunc_lowest\"]),\n",
    "    df_unite_new.value_counts(subset=[\"UNITE_id_in_refseq_full\", \"UNITE_id_in_refseq_trunc\", \"tax_in_refseq_full_lowest\",\"tax_in_refseq_trunc_lowest\"]),\n",
    "    lsuffix=\" refseq\", rsuffix=\" UNITE_id\"\n",
    ")\n",
    "\n",
    "display(md(\"# Taxonomy of new refseqs present in remaining truncated and full length refseqs\"))\n",
    "display(df_unite_new_counts)\n",
    "\n",
    "df_unite_new_counts.to_latex(os.path.join(latex_tables, \"unite_new.tex\"), escape=True)\n",
    "\n",
    "#---------------------------------------------------\n",
    "# Analyze refseqs that have a UNITE hit before and after truncation\n",
    "df_refseq_unite_both[\"UNITE_id_equal\"] = df_refseq_unite_both[\"UNITE_id_full\"] == df_refseq_unite_both[\"UNITE_id_trunc\"]\n",
    "\n",
    "def deepest_rank_equal(row):\n",
    "    last_rank_equal = \"none\"\n",
    "    for rank in ranks:\n",
    "        if row[f\"{rank}_full\"] == row[f\"{rank}_trunc\"]:\n",
    "            last_rank_equal = rank\n",
    "        else:\n",
    "            break\n",
    "    return last_rank_equal\n",
    "\n",
    "def rank_unequal_change(row):\n",
    "    tax_equal_lowest = row[\"tax_equal_lowest\"]\n",
    "    if tax_equal_lowest == \"none\":\n",
    "        tax_equal_lowest_index = -1\n",
    "    elif tax_equal_lowest == \"species\":\n",
    "        return \"none\"\n",
    "    else:\n",
    "        tax_equal_lowest_index = ranks.index(tax_equal_lowest)\n",
    "    first_unequal_rank = ranks[tax_equal_lowest_index + 1]\n",
    "    uniden_full = \"Incertae_sedis\" in row[f\"{first_unequal_rank}_full\"] or \"_sp\" in row[f\"{first_unequal_rank}_full\"]\n",
    "    uniden_trunc = \"Incertae_sedis\" in row[f\"{first_unequal_rank}_trunc\"] or \"_sp\" in row[f\"{first_unequal_rank}_full\"]\n",
    "    if uniden_full:\n",
    "        if uniden_trunc:\n",
    "            return \"uniden->uniden\"\n",
    "        else:\n",
    "            return f\"uniden->{first_unequal_rank}\"\n",
    "    elif uniden_trunc:\n",
    "        return f\"{first_unequal_rank}->uniden\"\n",
    "    else:\n",
    "        return f\"{first_unequal_rank}->{first_unequal_rank}\"\n",
    "    \n",
    "\n",
    "df_refseq_unite_both[\"tax_equal_lowest\"] = df_refseq_unite_both.apply(deepest_rank_equal, axis=1)\n",
    "df_refseq_unite_both[\"tax_change_below_equal\"] = df_refseq_unite_both.apply(rank_unequal_change, axis=1)\n",
    "\n",
    "df_refseq_unite_both = df_refseq_unite_both.merge(\n",
    "    df_unite_trunc[[\"location\", f\"UNITE_id_trunc\"]].rename(columns={f\"UNITE_id_trunc\": \"UNITE_id_full\"}),\n",
    "    on=[\"location\",\"UNITE_id_full\"], how=\"left\", indicator=True).set_index(df_refseq_unite_both.index)\n",
    "df_refseq_unite_both[f\"UNITE_id_in_refseq_trunc\"] = df_refseq_unite_both[\"_merge\"] == \"both\"\n",
    "df_refseq_unite_both = df_refseq_unite_both.drop(columns=[\"_merge\"])\n",
    "\n",
    "# Up to every taxonomic rank in the full length refseqs check if it is also present in the truncated refseqs\n",
    "for rank_depth in range(len(ranks)):\n",
    "    df_tax_until_rank = df_unite_trunc[[\"location\"]+[f\"{rank}_trunc\" for rank in ranks[:rank_depth+1]]].drop_duplicates()\n",
    "    df_refseq_unite_both = df_refseq_unite_both.merge(\n",
    "        df_tax_until_rank.rename(columns={f\"{rank}_trunc\": f\"{rank}_full\" for rank in ranks[:rank_depth+1]}),\n",
    "        how=\"left\", indicator=True).set_index(df_refseq_unite_both.index)\n",
    "    df_refseq_unite_both[f\"tax_in_refseq_trunc_until_{ranks[rank_depth]}\"] = df_refseq_unite_both[\"_merge\"] == \"both\"\n",
    "    df_refseq_unite_both = df_refseq_unite_both.drop(columns=[\"_merge\"])\n",
    "\n",
    "df_refseq_unite_both[f\"tax_in_refseq_trunc_lowest\"] = (\n",
    "    df_refseq_unite_both[[f\"tax_in_refseq_trunc_until_{rank}\" for rank in ranks]].apply(\n",
    "        lambda row: next((rank for rank in ranks[::-1] if row[f\"tax_in_refseq_trunc_until_{rank}\"]), \"none\"), axis=1\n",
    "    )\n",
    ")\n",
    "\n",
    "# Up to every taxonomic rank in the truncated length refseqs check if it is also present in the full length refseqs\n",
    "for rank_depth in range(len(ranks)):\n",
    "    df_tax_until_rank = df_unite_full[[\"location\"]+[f\"{rank}_full\" for rank in ranks[:rank_depth+1]]].drop_duplicates()\n",
    "    df_refseq_unite_both = df_refseq_unite_both.merge(\n",
    "        df_tax_until_rank.rename(columns={f\"{rank}_full\": f\"{rank}_trunc\" for rank in ranks[:rank_depth+1]}),\n",
    "        how=\"left\", indicator=True).set_index(df_refseq_unite_both.index)\n",
    "    df_refseq_unite_both[f\"tax_in_refseq_full_until_{ranks[rank_depth]}\"] = df_refseq_unite_both[\"_merge\"] == \"both\"\n",
    "    df_refseq_unite_both = df_refseq_unite_both.drop(columns=[\"_merge\"])\n",
    "\n",
    "df_refseq_unite_both[f\"tax_in_refseq_full_lowest\"] = (\n",
    "    df_refseq_unite_both[[f\"tax_in_refseq_full_until_{rank}\" for rank in ranks]].apply(\n",
    "        lambda row: next((rank for rank in ranks[::-1] if row[f\"tax_in_refseq_full_until_{rank}\"]), \"none\"), axis=1\n",
    "    )\n",
    ")\n",
    "\n",
    "df_unite_both_full = df_refseq_unite_both.drop_duplicates(subset=[\"location\", \"UNITE_id_full\"])\n",
    "df_unite_both_count_overlap = pd.DataFrame.join(\n",
    "    df_refseq_unite_both.value_counts(subset=[\"UNITE_id_in_refseq_trunc\", \"tax_in_refseq_trunc_lowest\"]),\n",
    "    df_unite_both_full.value_counts(subset=[\"UNITE_id_in_refseq_trunc\", \"tax_in_refseq_trunc_lowest\"]),\n",
    "    lsuffix=\" refseq\", rsuffix=\" UNITE_id\"\n",
    ")\n",
    "\n",
    "display(md(\"# Taxonomy of remaining full length refseqs present in truncated refseqs\"))\n",
    "display(df_unite_both_count_overlap)\n",
    "\n",
    "df_unite_both_count_overlap.to_latex(os.path.join(latex_tables, \"unite_both_overlap.tex\"), escape=True)\n",
    "\n",
    "#---------------------------------------------------\n",
    "# Difference in taxonomic assignment after truncation\n",
    "\n",
    "def highlight_negative(val):\n",
    "    if val < 0:\n",
    "        return 'background-color: darkred'\n",
    "    return ''\n",
    "\n",
    "def highlight_positive(val):\n",
    "    if val > 0:\n",
    "        return 'background-color: darkgreen'\n",
    "    return ''\n",
    "\n",
    "df_unite_both = df_refseq_unite_both.drop_duplicates(subset=[\"UNITE_id_full\", \"UNITE_id_trunc\"])\n",
    "df_unite_both_count_equal = df_refseq_unite_both.drop_duplicates(subset=\"refsequence_pk_full\").groupby(by=[\"UNITE_id_equal\", \"tax_equal_lowest\", \"tax_change_below_equal\"]).agg({\"refsequence_pk_full\": \"count\"})\n",
    "df_unite_both_count_equal = df_unite_both_count_equal.join(df_unite_both.groupby(by=[\"UNITE_id_equal\", \"tax_equal_lowest\", \"tax_change_below_equal\"]).agg({\"UNITE_id_full\": \"count\"}))\n",
    "#for rank in ranks:\n",
    "#    df_unite_both_count_equal = df_unite_both_count_equal.join(\n",
    "#        df_refseq_unite_both[~df_refseq_unite_both[f\"tax_in_refseq_trunc_until_{rank}\"]]\\\n",
    "#            .groupby(by=[\"UNITE_id_equal\", \"tax_equal_lowest\", \"tax_change_below_equal\"])[f\"{rank}_full\"].nunique()*-1\n",
    "#    )\n",
    "#    df_unite_both_count_equal = df_unite_both_count_equal.join(\n",
    "#        df_refseq_unite_both[~df_refseq_unite_both[f\"tax_in_refseq_full_until_{rank}\"]]\\\n",
    "#            .groupby(by=[\"UNITE_id_equal\", \"tax_equal_lowest\", \"tax_change_below_equal\"])[f\"{rank}_trunc\"].nunique()\n",
    "#    )\n",
    "\n",
    "df_unite_both_count_equal = df_unite_both_count_equal.sort_index(level=0, ascending=False).reindex(level=1, index=ranks[::-1]+['none'])\n",
    "#df_unite_both_count_equal = df_unite_both_count_equal.fillna(0).astype(int)\n",
    "#df_unite_both_count_equal.columns = pd.MultiIndex.from_tuples([('refseq', ''),('UNITE_id mapping', '')]+[(rank, suffix) for rank in ranks for suffix in (\"full\", \"trunc\")])\n",
    "\n",
    "#df_unite_both_count_equal_styled = df_unite_both_count_equal.style.map(highlight_negative, subset=[(rank, \"full\") for rank in ranks])\n",
    "#df_unite_both_count_equal_styled = df_unite_both_count_equal_styled.map(highlight_positive, subset=[(rank, \"trunc\") for rank in ranks])\n",
    "\n",
    "display(md(\"# Taxonomy difference after trunction and effect on taxa found in location\"))\n",
    "#display(df_unite_both_count_equal_styled)\n",
    "display(df_unite_both_count_equal)\n",
    "\n",
    "df_unite_both_count_equal.to_latex(os.path.join(latex_tables, \"unite_both_equal.tex\"), escape=True)\n",
    "\n",
    "\n",
    "#---------------------------------------------------\n",
    "# Plot difference in taxonomic assignment against refseq length\n",
    "\n",
    "df_refseq_unite_both_global = df_refseq_unite_both.drop_duplicates(subset=[\"refsequence_pk_full\"])\n",
    "ax = df_refseq_unite_both_global.pivot(columns=\"tax_equal_lowest\")[\"refseq_length_full\"].reindex(ranks[::-1]+[\"none\"], axis=1).plot.hist(bins=bins, stacked=True, xlim=(200, 450), edgecolor = \"black\", figsize=(10,6))\n",
    "ax.set_title(\"Depth of taxonomic assignment rank equality of reference sequences after truncation\")\n",
    "ax.set_xlabel(\"Length in bp\")\n",
    "\n",
    "display(md(\"# Taxonomy difference after trunction plotted against refseq length\"))\n",
    "\n",
    "plt.legend()\n",
    "plt.show()\n",
    "\n",
    "\n"
   ]
  },
  {
   "cell_type": "code",
   "execution_count": 116,
   "metadata": {},
   "outputs": [
    {
     "data": {
      "image/png": "[encoded data removed]",
      "text/plain": [
       "<Figure size 640x480 with 1 Axes>"
      ]
     },
     "metadata": {},
     "output_type": "display_data"
    }
   ],
   "source": [
    "value_counts = df_refseq_tax_full[\"phylum\"].value_counts()\n",
    "proportions = value_counts / value_counts.sum()\n",
    "ax = value_counts.plot.barh(xlim=(0, value_counts.max() * 1.3))\n",
    "\n",
    "for index, (count, proportion) in enumerate(zip(value_counts, proportions)):\n",
    "    ax.text(count + 10, index, f\"{count} ({proportion:.1%})\", va='center')\n",
    "\n",
    "ax.set_xlabel(\"Counts\")\n",
    "ax.set_ylabel(\"Phylum\")\n",
    "ax.set_title(\"Phylum Distribution of reference sequences (full length)\")\n",
    "\n",
    "plt.show()"
   ]
  },
  {
   "cell_type": "code",
   "execution_count": 117,
   "metadata": {},
   "outputs": [
    {
     "data": {
      "image/png": "[encoded data removed]",
      "text/plain": [
       "<Figure size 640x480 with 1 Axes>"
      ]
     },
     "metadata": {},
     "output_type": "display_data"
    }
   ],
   "source": [
    "value_counts = df_refseq_tax[\"phylum\"].value_counts()\n",
    "proportions = value_counts / value_counts.sum()\n",
    "ax = value_counts.plot.barh(xlim=(0, value_counts.max() * 1.3))\n",
    "\n",
    "for index, (count, proportion) in enumerate(zip(value_counts, proportions)):\n",
    "    ax.text(count + 10, index, f\"{count} ({proportion:.1%})\", va='center')\n",
    "\n",
    "ax.set_xlabel(\"Counts\")\n",
    "ax.set_ylabel(\"Phylum\")\n",
    "ax.set_title(\"Phylum Distribution of reference sequences (truncated)\")\n",
    "\n",
    "plt.show()"
   ]
  },
  {
   "cell_type": "markdown",
   "metadata": {},
   "source": [
    "# Subtree determination results"
   ]
  },
  {
   "cell_type": "code",
   "execution_count": 118,
   "metadata": {},
   "outputs": [
    {
     "data": {
      "text/markdown": [
       "# Result of subtree determinaton on full length reference sequences"
      ],
      "text/plain": [
       "<IPython.core.display.Markdown object>"
      ]
     },
     "metadata": {},
     "output_type": "display_data"
    },
    {
     "data": {
      "text/html": [
       "<div>\n",
       "<style scoped>\n",
       "    .dataframe tbody tr th:only-of-type {\n",
       "        vertical-align: middle;\n",
       "    }\n",
       "\n",
       "    .dataframe tbody tr th {\n",
       "        vertical-align: top;\n",
       "    }\n",
       "\n",
       "    .dataframe thead tr th {\n",
       "        text-align: left;\n",
       "    }\n",
       "\n",
       "    .dataframe thead tr:last-of-type th {\n",
       "        text-align: right;\n",
       "    }\n",
       "</style>\n",
       "<table border=\"1\" class=\"dataframe\">\n",
       "  <thead>\n",
       "    <tr>\n",
       "      <th></th>\n",
       "      <th></th>\n",
       "      <th></th>\n",
       "      <th>refsequence_pk</th>\n",
       "      <th>num_chunks</th>\n",
       "      <th>maj_chunk_count</th>\n",
       "    </tr>\n",
       "    <tr>\n",
       "      <th></th>\n",
       "      <th></th>\n",
       "      <th></th>\n",
       "      <th>count</th>\n",
       "      <th>median</th>\n",
       "      <th>median</th>\n",
       "    </tr>\n",
       "    <tr>\n",
       "      <th>tax_missing</th>\n",
       "      <th>chunk_missing</th>\n",
       "      <th>maj_split_rank_equal</th>\n",
       "      <th></th>\n",
       "      <th></th>\n",
       "      <th></th>\n",
       "    </tr>\n",
       "  </thead>\n",
       "  <tbody>\n",
       "    <tr>\n",
       "      <th rowspan=\"3\" valign=\"top\">False</th>\n",
       "      <th rowspan=\"2\" valign=\"top\">False</th>\n",
       "      <th>False</th>\n",
       "      <td>386</td>\n",
       "      <td>3.0</td>\n",
       "      <td>7.0</td>\n",
       "    </tr>\n",
       "    <tr>\n",
       "      <th>True</th>\n",
       "      <td>1073</td>\n",
       "      <td>1.0</td>\n",
       "      <td>10.0</td>\n",
       "    </tr>\n",
       "    <tr>\n",
       "      <th>True</th>\n",
       "      <th>NaN</th>\n",
       "      <td>143</td>\n",
       "      <td>NaN</td>\n",
       "      <td>NaN</td>\n",
       "    </tr>\n",
       "    <tr>\n",
       "      <th rowspan=\"2\" valign=\"top\">True</th>\n",
       "      <th>False</th>\n",
       "      <th>False</th>\n",
       "      <td>164</td>\n",
       "      <td>3.0</td>\n",
       "      <td>6.0</td>\n",
       "    </tr>\n",
       "    <tr>\n",
       "      <th>True</th>\n",
       "      <th>NaN</th>\n",
       "      <td>90</td>\n",
       "      <td>NaN</td>\n",
       "      <td>NaN</td>\n",
       "    </tr>\n",
       "  </tbody>\n",
       "</table>\n",
       "</div>"
      ],
      "text/plain": [
       "                                               refsequence_pk num_chunks  \\\n",
       "                                                        count     median   \n",
       "tax_missing chunk_missing maj_split_rank_equal                             \n",
       "False       False         False                           386        3.0   \n",
       "                          True                           1073        1.0   \n",
       "            True          NaN                             143        NaN   \n",
       "True        False         False                           164        3.0   \n",
       "            True          NaN                              90        NaN   \n",
       "\n",
       "                                               maj_chunk_count  \n",
       "                                                        median  \n",
       "tax_missing chunk_missing maj_split_rank_equal                  \n",
       "False       False         False                            7.0  \n",
       "                          True                            10.0  \n",
       "            True          NaN                              NaN  \n",
       "True        False         False                            6.0  \n",
       "            True          NaN                              NaN  "
      ]
     },
     "metadata": {},
     "output_type": "display_data"
    },
    {
     "data": {
      "text/html": [
       "<div>\n",
       "<style scoped>\n",
       "    .dataframe tbody tr th:only-of-type {\n",
       "        vertical-align: middle;\n",
       "    }\n",
       "\n",
       "    .dataframe tbody tr th {\n",
       "        vertical-align: top;\n",
       "    }\n",
       "\n",
       "    .dataframe thead th {\n",
       "        text-align: right;\n",
       "    }\n",
       "</style>\n",
       "<table border=\"1\" class=\"dataframe\">\n",
       "  <thead>\n",
       "    <tr style=\"text-align: right;\">\n",
       "      <th></th>\n",
       "      <th></th>\n",
       "      <th></th>\n",
       "      <th>count</th>\n",
       "    </tr>\n",
       "    <tr>\n",
       "      <th>order</th>\n",
       "      <th>family</th>\n",
       "      <th>length &lt;250bp</th>\n",
       "      <th></th>\n",
       "    </tr>\n",
       "  </thead>\n",
       "  <tbody>\n",
       "    <tr>\n",
       "      <th>o__Agaricales</th>\n",
       "      <th>f__Inocybaceae</th>\n",
       "      <th>False</th>\n",
       "      <td>123</td>\n",
       "    </tr>\n",
       "    <tr>\n",
       "      <th rowspan=\"2\" valign=\"top\">o__Rozellomycota_ord_Incertae_sedis</th>\n",
       "      <th rowspan=\"2\" valign=\"top\">f__Rozellomycota_fam_Incertae_sedis</th>\n",
       "      <th>True</th>\n",
       "      <td>7</td>\n",
       "    </tr>\n",
       "    <tr>\n",
       "      <th>False</th>\n",
       "      <td>5</td>\n",
       "    </tr>\n",
       "    <tr>\n",
       "      <th>o__Saccharomycetales</th>\n",
       "      <th>f__Dipodascaceae</th>\n",
       "      <th>True</th>\n",
       "      <td>3</td>\n",
       "    </tr>\n",
       "    <tr>\n",
       "      <th rowspan=\"2\" valign=\"top\">o__Fungi_ord_Incertae_sedis</th>\n",
       "      <th rowspan=\"2\" valign=\"top\">f__Fungi_fam_Incertae_sedis</th>\n",
       "      <th>False</th>\n",
       "      <td>2</td>\n",
       "    </tr>\n",
       "    <tr>\n",
       "      <th>True</th>\n",
       "      <td>2</td>\n",
       "    </tr>\n",
       "    <tr>\n",
       "      <th>o__Sporidesmiales</th>\n",
       "      <th>f__Sporidesmiaceae</th>\n",
       "      <th>False</th>\n",
       "      <td>1</td>\n",
       "    </tr>\n",
       "  </tbody>\n",
       "</table>\n",
       "</div>"
      ],
      "text/plain": [
       "                                                                                       count\n",
       "order                               family                              length <250bp       \n",
       "o__Agaricales                       f__Inocybaceae                      False            123\n",
       "o__Rozellomycota_ord_Incertae_sedis f__Rozellomycota_fam_Incertae_sedis True               7\n",
       "                                                                        False              5\n",
       "o__Saccharomycetales                f__Dipodascaceae                    True               3\n",
       "o__Fungi_ord_Incertae_sedis         f__Fungi_fam_Incertae_sedis         False              2\n",
       "                                                                        True               2\n",
       "o__Sporidesmiales                   f__Sporidesmiaceae                  False              1"
      ]
     },
     "metadata": {},
     "output_type": "display_data"
    }
   ],
   "source": [
    "# Group together BLAST results\n",
    "\n",
    "df_phylo_blast_full[\"maj_split_tax\"] = df_phylo_blast_full[\"maj_chunk\"].str.extract(r\"^.+_(\\w__.+)$\")\n",
    "df_phylo_blast_full[\"maj_split_rank\"] = df_phylo_blast_full[\"maj_split_tax\"].str[:1].map({r[0]: r for r in ranks})\n",
    "\n",
    "df_phylo_compare_full = df_refseq_tax_merged_full.merge(df_phylo_blast_full, how=\"left\", indicator=True)\n",
    "df_phylo_compare_full[\"chunk_missing\"] = df_phylo_compare_full[\"_merge\"] == \"left_only\"\n",
    "df_phylo_compare_full = df_phylo_compare_full.drop(columns=[\"_merge\"])\n",
    "\n",
    "def compare_tax(row):\n",
    "    split_rank = row['maj_split_rank']\n",
    "    if split_rank is np.nan:\n",
    "        return np.nan\n",
    "    return row[split_rank] == row['maj_split_tax']\n",
    "\n",
    "def split_rank_unidentified(row):\n",
    "    split_rank = row['maj_split_rank']\n",
    "    if split_rank is np.nan:\n",
    "        return np.nan\n",
    "    if row[split_rank] is np.nan:\n",
    "        return np.nan\n",
    "    return 'Incertae_sedis' in row[split_rank]\n",
    "\n",
    "df_phylo_compare_full[\"maj_split_rank_equal\"] = df_phylo_compare_full.apply(compare_tax, axis=1)\n",
    "df_phylo_compare_full[\"maj_split_rank_uniden\"] = df_phylo_compare_full.apply(split_rank_unidentified, axis=1)\n",
    "df_phylo_compare_full[\"length <250bp\"] = df_phylo_compare_full[\"refseq_length\"] < 250\n",
    "\n",
    "display(md(\"# Result of subtree determinaton on full length reference sequences\"))\n",
    "\n",
    "display(pd.DataFrame(df_phylo_compare_full.groupby(by=[\"tax_missing\", \"chunk_missing\", \"maj_split_rank_equal\"], dropna=False).agg({'refsequence_pk': ['count'], 'num_chunks': ['median'], 'maj_chunk_count': ['median']})))\n",
    "\n",
    "# Inocybaceae is one of the largest families. Probably the result of new information in the more recent unite db\n",
    "display(pd.DataFrame(df_phylo_compare_full[\n",
    "    (df_phylo_compare_full[\"tax_missing\"] == False) &\n",
    "    (df_phylo_compare_full[\"chunk_missing\"] == True)\n",
    "].value_counts(subset=[\"order\", \"family\", \"length <250bp\"])))\n"
   ]
  },
  {
   "cell_type": "code",
   "execution_count": 119,
   "metadata": {},
   "outputs": [
    {
     "data": {
      "text/markdown": [
       "# Result of subtree determinaton on truncated reference sequences"
      ],
      "text/plain": [
       "<IPython.core.display.Markdown object>"
      ]
     },
     "metadata": {},
     "output_type": "display_data"
    },
    {
     "data": {
      "text/html": [
       "<div>\n",
       "<style scoped>\n",
       "    .dataframe tbody tr th:only-of-type {\n",
       "        vertical-align: middle;\n",
       "    }\n",
       "\n",
       "    .dataframe tbody tr th {\n",
       "        vertical-align: top;\n",
       "    }\n",
       "\n",
       "    .dataframe thead tr th {\n",
       "        text-align: left;\n",
       "    }\n",
       "\n",
       "    .dataframe thead tr:last-of-type th {\n",
       "        text-align: right;\n",
       "    }\n",
       "</style>\n",
       "<table border=\"1\" class=\"dataframe\">\n",
       "  <thead>\n",
       "    <tr>\n",
       "      <th></th>\n",
       "      <th></th>\n",
       "      <th></th>\n",
       "      <th>refsequence_pk</th>\n",
       "      <th>num_chunks</th>\n",
       "      <th>maj_chunk_count</th>\n",
       "    </tr>\n",
       "    <tr>\n",
       "      <th></th>\n",
       "      <th></th>\n",
       "      <th></th>\n",
       "      <th>count</th>\n",
       "      <th>median</th>\n",
       "      <th>median</th>\n",
       "    </tr>\n",
       "    <tr>\n",
       "      <th>tax_missing</th>\n",
       "      <th>chunk_missing</th>\n",
       "      <th>maj_split_rank_equal</th>\n",
       "      <th></th>\n",
       "      <th></th>\n",
       "      <th></th>\n",
       "    </tr>\n",
       "  </thead>\n",
       "  <tbody>\n",
       "    <tr>\n",
       "      <th rowspan=\"3\" valign=\"top\">False</th>\n",
       "      <th rowspan=\"2\" valign=\"top\">False</th>\n",
       "      <th>False</th>\n",
       "      <td>382</td>\n",
       "      <td>3.0</td>\n",
       "      <td>7.0</td>\n",
       "    </tr>\n",
       "    <tr>\n",
       "      <th>True</th>\n",
       "      <td>1043</td>\n",
       "      <td>1.0</td>\n",
       "      <td>10.0</td>\n",
       "    </tr>\n",
       "    <tr>\n",
       "      <th>True</th>\n",
       "      <th>NaN</th>\n",
       "      <td>125</td>\n",
       "      <td>NaN</td>\n",
       "      <td>NaN</td>\n",
       "    </tr>\n",
       "    <tr>\n",
       "      <th rowspan=\"2\" valign=\"top\">True</th>\n",
       "      <th>False</th>\n",
       "      <th>False</th>\n",
       "      <td>143</td>\n",
       "      <td>4.0</td>\n",
       "      <td>6.0</td>\n",
       "    </tr>\n",
       "    <tr>\n",
       "      <th>True</th>\n",
       "      <th>NaN</th>\n",
       "      <td>74</td>\n",
       "      <td>NaN</td>\n",
       "      <td>NaN</td>\n",
       "    </tr>\n",
       "  </tbody>\n",
       "</table>\n",
       "</div>"
      ],
      "text/plain": [
       "                                               refsequence_pk num_chunks  \\\n",
       "                                                        count     median   \n",
       "tax_missing chunk_missing maj_split_rank_equal                             \n",
       "False       False         False                           382        3.0   \n",
       "                          True                           1043        1.0   \n",
       "            True          NaN                             125        NaN   \n",
       "True        False         False                           143        4.0   \n",
       "            True          NaN                              74        NaN   \n",
       "\n",
       "                                               maj_chunk_count  \n",
       "                                                        median  \n",
       "tax_missing chunk_missing maj_split_rank_equal                  \n",
       "False       False         False                            7.0  \n",
       "                          True                            10.0  \n",
       "            True          NaN                              NaN  \n",
       "True        False         False                            6.0  \n",
       "            True          NaN                              NaN  "
      ]
     },
     "metadata": {},
     "output_type": "display_data"
    },
    {
     "data": {
      "text/html": [
       "<div>\n",
       "<style scoped>\n",
       "    .dataframe tbody tr th:only-of-type {\n",
       "        vertical-align: middle;\n",
       "    }\n",
       "\n",
       "    .dataframe tbody tr th {\n",
       "        vertical-align: top;\n",
       "    }\n",
       "\n",
       "    .dataframe thead th {\n",
       "        text-align: right;\n",
       "    }\n",
       "</style>\n",
       "<table border=\"1\" class=\"dataframe\">\n",
       "  <thead>\n",
       "    <tr style=\"text-align: right;\">\n",
       "      <th></th>\n",
       "      <th></th>\n",
       "      <th>count</th>\n",
       "    </tr>\n",
       "    <tr>\n",
       "      <th>order</th>\n",
       "      <th>family</th>\n",
       "      <th></th>\n",
       "    </tr>\n",
       "  </thead>\n",
       "  <tbody>\n",
       "    <tr>\n",
       "      <th>o__Agaricales</th>\n",
       "      <th>f__Inocybaceae</th>\n",
       "      <td>119</td>\n",
       "    </tr>\n",
       "    <tr>\n",
       "      <th>o__Rozellomycota_ord_Incertae_sedis</th>\n",
       "      <th>f__Rozellomycota_fam_Incertae_sedis</th>\n",
       "      <td>5</td>\n",
       "    </tr>\n",
       "    <tr>\n",
       "      <th>o__Sporidesmiales</th>\n",
       "      <th>f__Sporidesmiaceae</th>\n",
       "      <td>1</td>\n",
       "    </tr>\n",
       "  </tbody>\n",
       "</table>\n",
       "</div>"
      ],
      "text/plain": [
       "                                                                         count\n",
       "order                               family                                    \n",
       "o__Agaricales                       f__Inocybaceae                         119\n",
       "o__Rozellomycota_ord_Incertae_sedis f__Rozellomycota_fam_Incertae_sedis      5\n",
       "o__Sporidesmiales                   f__Sporidesmiaceae                       1"
      ]
     },
     "metadata": {},
     "output_type": "display_data"
    }
   ],
   "source": [
    "# Group together BLAST results\n",
    "\n",
    "df_phylo_blast[\"maj_split_tax\"] = df_phylo_blast[\"maj_chunk\"].str.extract(r\"^.+_(\\w__.+)$\")\n",
    "df_phylo_blast[\"maj_split_rank\"] = df_phylo_blast[\"maj_split_tax\"].str[:1].map({r[0]: r for r in ranks})\n",
    "\n",
    "df_phylo_compare_trunc = df_refseq_tax_merged.merge(df_phylo_blast, how=\"outer\", indicator=True)\n",
    "df_phylo_compare_trunc[\"chunk_missing\"] = df_phylo_compare_trunc[\"_merge\"] == \"left_only\"\n",
    "df_phylo_compare_trunc = df_phylo_compare_trunc.drop(columns=[\"_merge\"])\n",
    "\n",
    "df_phylo_compare_trunc[\"maj_split_rank_equal\"] = df_phylo_compare_trunc.apply(compare_tax, axis=1)\n",
    "df_phylo_compare_trunc[\"maj_split_rank_uniden\"] = df_phylo_compare_trunc.apply(split_rank_unidentified, axis=1)\n",
    "\n",
    "display(md(\"# Result of subtree determinaton on truncated reference sequences\"))\n",
    "\n",
    "display(pd.DataFrame(df_phylo_compare_trunc.groupby(by=[\"tax_missing\", \"chunk_missing\", \"maj_split_rank_equal\"], dropna=False).agg({'refsequence_pk': ['count'], 'num_chunks': ['median'], 'maj_chunk_count': ['median']})))\n",
    "\n",
    "# Inocybaceae is one of the largest families. Probably the result of new information in the more recent unite db\n",
    "display(pd.DataFrame(df_phylo_compare_trunc[\n",
    "    (df_phylo_compare_trunc[\"tax_missing\"] == False) &\n",
    "    (df_phylo_compare_trunc[\"chunk_missing\"] == True)\n",
    "].value_counts(subset=[\"order\", \"family\"])))\n"
   ]
  },
  {
   "cell_type": "code",
   "execution_count": 120,
   "metadata": {},
   "outputs": [
    {
     "data": {
      "text/markdown": [
       "# Difference in subtree determination before and after truncation"
      ],
      "text/plain": [
       "<IPython.core.display.Markdown object>"
      ]
     },
     "metadata": {},
     "output_type": "display_data"
    },
    {
     "data": {
      "text/html": [
       "<div>\n",
       "<style scoped>\n",
       "    .dataframe tbody tr th:only-of-type {\n",
       "        vertical-align: middle;\n",
       "    }\n",
       "\n",
       "    .dataframe tbody tr th {\n",
       "        vertical-align: top;\n",
       "    }\n",
       "\n",
       "    .dataframe thead tr th {\n",
       "        text-align: left;\n",
       "    }\n",
       "\n",
       "    .dataframe thead tr:last-of-type th {\n",
       "        text-align: right;\n",
       "    }\n",
       "</style>\n",
       "<table border=\"1\" class=\"dataframe\">\n",
       "  <thead>\n",
       "    <tr>\n",
       "      <th></th>\n",
       "      <th></th>\n",
       "      <th></th>\n",
       "      <th></th>\n",
       "      <th></th>\n",
       "      <th>refsequence_pk_full</th>\n",
       "      <th>num_chunks_full</th>\n",
       "      <th>num_chunks_trunc</th>\n",
       "      <th>maj_chunk_count_full</th>\n",
       "      <th>maj_chunk_count_trunc</th>\n",
       "    </tr>\n",
       "    <tr>\n",
       "      <th></th>\n",
       "      <th></th>\n",
       "      <th></th>\n",
       "      <th></th>\n",
       "      <th></th>\n",
       "      <th>count</th>\n",
       "      <th>median</th>\n",
       "      <th>median</th>\n",
       "      <th>median</th>\n",
       "      <th>median</th>\n",
       "    </tr>\n",
       "    <tr>\n",
       "      <th>tax_equal_lowest</th>\n",
       "      <th>chunk_missing_full</th>\n",
       "      <th>chunk_missing_trunc</th>\n",
       "      <th>maj_chunk_equal</th>\n",
       "      <th>maj_split_rank_equal_either</th>\n",
       "      <th></th>\n",
       "      <th></th>\n",
       "      <th></th>\n",
       "      <th></th>\n",
       "      <th></th>\n",
       "    </tr>\n",
       "  </thead>\n",
       "  <tbody>\n",
       "    <tr>\n",
       "      <th rowspan=\"5\" valign=\"top\">species</th>\n",
       "      <th rowspan=\"4\" valign=\"top\">False</th>\n",
       "      <th rowspan=\"4\" valign=\"top\">False</th>\n",
       "      <th rowspan=\"2\" valign=\"top\">False</th>\n",
       "      <th>False</th>\n",
       "      <td>3</td>\n",
       "      <td>5.0</td>\n",
       "      <td>5.0</td>\n",
       "      <td>3.0</td>\n",
       "      <td>4.0</td>\n",
       "    </tr>\n",
       "    <tr>\n",
       "      <th>True</th>\n",
       "      <td>1</td>\n",
       "      <td>3.0</td>\n",
       "      <td>3.0</td>\n",
       "      <td>5.0</td>\n",
       "      <td>5.0</td>\n",
       "    </tr>\n",
       "    <tr>\n",
       "      <th rowspan=\"2\" valign=\"top\">True</th>\n",
       "      <th>False</th>\n",
       "      <td>338</td>\n",
       "      <td>3.0</td>\n",
       "      <td>3.0</td>\n",
       "      <td>7.0</td>\n",
       "      <td>7.0</td>\n",
       "    </tr>\n",
       "    <tr>\n",
       "      <th>True</th>\n",
       "      <td>850</td>\n",
       "      <td>1.0</td>\n",
       "      <td>1.0</td>\n",
       "      <td>10.0</td>\n",
       "      <td>10.0</td>\n",
       "    </tr>\n",
       "    <tr>\n",
       "      <th>True</th>\n",
       "      <th>True</th>\n",
       "      <th>False</th>\n",
       "      <th>False</th>\n",
       "      <td>129</td>\n",
       "      <td>NaN</td>\n",
       "      <td>NaN</td>\n",
       "      <td>NaN</td>\n",
       "      <td>NaN</td>\n",
       "    </tr>\n",
       "    <tr>\n",
       "      <th rowspan=\"2\" valign=\"top\">genus</th>\n",
       "      <th rowspan=\"2\" valign=\"top\">False</th>\n",
       "      <th rowspan=\"2\" valign=\"top\">False</th>\n",
       "      <th rowspan=\"2\" valign=\"top\">True</th>\n",
       "      <th>False</th>\n",
       "      <td>8</td>\n",
       "      <td>3.0</td>\n",
       "      <td>3.0</td>\n",
       "      <td>5.0</td>\n",
       "      <td>5.0</td>\n",
       "    </tr>\n",
       "    <tr>\n",
       "      <th>True</th>\n",
       "      <td>130</td>\n",
       "      <td>1.0</td>\n",
       "      <td>1.0</td>\n",
       "      <td>10.0</td>\n",
       "      <td>10.0</td>\n",
       "    </tr>\n",
       "    <tr>\n",
       "      <th>family</th>\n",
       "      <th>False</th>\n",
       "      <th>False</th>\n",
       "      <th>True</th>\n",
       "      <th>True</th>\n",
       "      <td>49</td>\n",
       "      <td>1.0</td>\n",
       "      <td>1.0</td>\n",
       "      <td>10.0</td>\n",
       "      <td>10.0</td>\n",
       "    </tr>\n",
       "    <tr>\n",
       "      <th rowspan=\"2\" valign=\"top\">order</th>\n",
       "      <th rowspan=\"2\" valign=\"top\">False</th>\n",
       "      <th rowspan=\"2\" valign=\"top\">False</th>\n",
       "      <th rowspan=\"2\" valign=\"top\">True</th>\n",
       "      <th>False</th>\n",
       "      <td>2</td>\n",
       "      <td>1.5</td>\n",
       "      <td>1.5</td>\n",
       "      <td>8.5</td>\n",
       "      <td>8.5</td>\n",
       "    </tr>\n",
       "    <tr>\n",
       "      <th>True</th>\n",
       "      <td>36</td>\n",
       "      <td>1.0</td>\n",
       "      <td>1.0</td>\n",
       "      <td>10.0</td>\n",
       "      <td>10.0</td>\n",
       "    </tr>\n",
       "    <tr>\n",
       "      <th rowspan=\"2\" valign=\"top\">class</th>\n",
       "      <th rowspan=\"2\" valign=\"top\">False</th>\n",
       "      <th rowspan=\"2\" valign=\"top\">False</th>\n",
       "      <th rowspan=\"2\" valign=\"top\">True</th>\n",
       "      <th>False</th>\n",
       "      <td>1</td>\n",
       "      <td>7.0</td>\n",
       "      <td>7.0</td>\n",
       "      <td>2.0</td>\n",
       "      <td>2.0</td>\n",
       "    </tr>\n",
       "    <tr>\n",
       "      <th>True</th>\n",
       "      <td>7</td>\n",
       "      <td>1.0</td>\n",
       "      <td>1.0</td>\n",
       "      <td>10.0</td>\n",
       "      <td>10.0</td>\n",
       "    </tr>\n",
       "    <tr>\n",
       "      <th rowspan=\"2\" valign=\"top\">phylum</th>\n",
       "      <th rowspan=\"2\" valign=\"top\">False</th>\n",
       "      <th rowspan=\"2\" valign=\"top\">False</th>\n",
       "      <th rowspan=\"2\" valign=\"top\">True</th>\n",
       "      <th>False</th>\n",
       "      <td>15</td>\n",
       "      <td>4.0</td>\n",
       "      <td>4.0</td>\n",
       "      <td>5.0</td>\n",
       "      <td>5.0</td>\n",
       "    </tr>\n",
       "    <tr>\n",
       "      <th>True</th>\n",
       "      <td>1</td>\n",
       "      <td>3.0</td>\n",
       "      <td>3.0</td>\n",
       "      <td>8.0</td>\n",
       "      <td>8.0</td>\n",
       "    </tr>\n",
       "    <tr>\n",
       "      <th rowspan=\"3\" valign=\"top\">none</th>\n",
       "      <th rowspan=\"2\" valign=\"top\">False</th>\n",
       "      <th rowspan=\"2\" valign=\"top\">False</th>\n",
       "      <th rowspan=\"2\" valign=\"top\">True</th>\n",
       "      <th>False</th>\n",
       "      <td>2</td>\n",
       "      <td>2.0</td>\n",
       "      <td>2.0</td>\n",
       "      <td>9.0</td>\n",
       "      <td>9.0</td>\n",
       "    </tr>\n",
       "    <tr>\n",
       "      <th>True</th>\n",
       "      <td>7</td>\n",
       "      <td>1.0</td>\n",
       "      <td>1.0</td>\n",
       "      <td>10.0</td>\n",
       "      <td>10.0</td>\n",
       "    </tr>\n",
       "    <tr>\n",
       "      <th>True</th>\n",
       "      <th>True</th>\n",
       "      <th>False</th>\n",
       "      <th>False</th>\n",
       "      <td>2</td>\n",
       "      <td>NaN</td>\n",
       "      <td>NaN</td>\n",
       "      <td>NaN</td>\n",
       "      <td>NaN</td>\n",
       "    </tr>\n",
       "  </tbody>\n",
       "</table>\n",
       "</div>"
      ],
      "text/plain": [
       "                                                                                                    refsequence_pk_full  \\\n",
       "                                                                                                                  count   \n",
       "tax_equal_lowest chunk_missing_full chunk_missing_trunc maj_chunk_equal maj_split_rank_equal_either                       \n",
       "species          False              False               False           False                                         3   \n",
       "                                                                        True                                          1   \n",
       "                                                        True            False                                       338   \n",
       "                                                                        True                                        850   \n",
       "                 True               True                False           False                                       129   \n",
       "genus            False              False               True            False                                         8   \n",
       "                                                                        True                                        130   \n",
       "family           False              False               True            True                                         49   \n",
       "order            False              False               True            False                                         2   \n",
       "                                                                        True                                         36   \n",
       "class            False              False               True            False                                         1   \n",
       "                                                                        True                                          7   \n",
       "phylum           False              False               True            False                                        15   \n",
       "                                                                        True                                          1   \n",
       "none             False              False               True            False                                         2   \n",
       "                                                                        True                                          7   \n",
       "                 True               True                False           False                                         2   \n",
       "\n",
       "                                                                                                    num_chunks_full  \\\n",
       "                                                                                                             median   \n",
       "tax_equal_lowest chunk_missing_full chunk_missing_trunc maj_chunk_equal maj_split_rank_equal_either                   \n",
       "species          False              False               False           False                                   5.0   \n",
       "                                                                        True                                    3.0   \n",
       "                                                        True            False                                   3.0   \n",
       "                                                                        True                                    1.0   \n",
       "                 True               True                False           False                                   NaN   \n",
       "genus            False              False               True            False                                   3.0   \n",
       "                                                                        True                                    1.0   \n",
       "family           False              False               True            True                                    1.0   \n",
       "order            False              False               True            False                                   1.5   \n",
       "                                                                        True                                    1.0   \n",
       "class            False              False               True            False                                   7.0   \n",
       "                                                                        True                                    1.0   \n",
       "phylum           False              False               True            False                                   4.0   \n",
       "                                                                        True                                    3.0   \n",
       "none             False              False               True            False                                   2.0   \n",
       "                                                                        True                                    1.0   \n",
       "                 True               True                False           False                                   NaN   \n",
       "\n",
       "                                                                                                    num_chunks_trunc  \\\n",
       "                                                                                                              median   \n",
       "tax_equal_lowest chunk_missing_full chunk_missing_trunc maj_chunk_equal maj_split_rank_equal_either                    \n",
       "species          False              False               False           False                                    5.0   \n",
       "                                                                        True                                     3.0   \n",
       "                                                        True            False                                    3.0   \n",
       "                                                                        True                                     1.0   \n",
       "                 True               True                False           False                                    NaN   \n",
       "genus            False              False               True            False                                    3.0   \n",
       "                                                                        True                                     1.0   \n",
       "family           False              False               True            True                                     1.0   \n",
       "order            False              False               True            False                                    1.5   \n",
       "                                                                        True                                     1.0   \n",
       "class            False              False               True            False                                    7.0   \n",
       "                                                                        True                                     1.0   \n",
       "phylum           False              False               True            False                                    4.0   \n",
       "                                                                        True                                     3.0   \n",
       "none             False              False               True            False                                    2.0   \n",
       "                                                                        True                                     1.0   \n",
       "                 True               True                False           False                                    NaN   \n",
       "\n",
       "                                                                                                    maj_chunk_count_full  \\\n",
       "                                                                                                                  median   \n",
       "tax_equal_lowest chunk_missing_full chunk_missing_trunc maj_chunk_equal maj_split_rank_equal_either                        \n",
       "species          False              False               False           False                                        3.0   \n",
       "                                                                        True                                         5.0   \n",
       "                                                        True            False                                        7.0   \n",
       "                                                                        True                                        10.0   \n",
       "                 True               True                False           False                                        NaN   \n",
       "genus            False              False               True            False                                        5.0   \n",
       "                                                                        True                                        10.0   \n",
       "family           False              False               True            True                                        10.0   \n",
       "order            False              False               True            False                                        8.5   \n",
       "                                                                        True                                        10.0   \n",
       "class            False              False               True            False                                        2.0   \n",
       "                                                                        True                                        10.0   \n",
       "phylum           False              False               True            False                                        5.0   \n",
       "                                                                        True                                         8.0   \n",
       "none             False              False               True            False                                        9.0   \n",
       "                                                                        True                                        10.0   \n",
       "                 True               True                False           False                                        NaN   \n",
       "\n",
       "                                                                                                    maj_chunk_count_trunc  \n",
       "                                                                                                                   median  \n",
       "tax_equal_lowest chunk_missing_full chunk_missing_trunc maj_chunk_equal maj_split_rank_equal_either                        \n",
       "species          False              False               False           False                                         4.0  \n",
       "                                                                        True                                          5.0  \n",
       "                                                        True            False                                         7.0  \n",
       "                                                                        True                                         10.0  \n",
       "                 True               True                False           False                                         NaN  \n",
       "genus            False              False               True            False                                         5.0  \n",
       "                                                                        True                                         10.0  \n",
       "family           False              False               True            True                                         10.0  \n",
       "order            False              False               True            False                                         8.5  \n",
       "                                                                        True                                         10.0  \n",
       "class            False              False               True            False                                         2.0  \n",
       "                                                                        True                                         10.0  \n",
       "phylum           False              False               True            False                                         5.0  \n",
       "                                                                        True                                          8.0  \n",
       "none             False              False               True            False                                         9.0  \n",
       "                                                                        True                                         10.0  \n",
       "                 True               True                False           False                                         NaN  "
      ]
     },
     "metadata": {},
     "output_type": "display_data"
    },
    {
     "data": {
      "text/html": [
       "<div>\n",
       "<style scoped>\n",
       "    .dataframe tbody tr th:only-of-type {\n",
       "        vertical-align: middle;\n",
       "    }\n",
       "\n",
       "    .dataframe tbody tr th {\n",
       "        vertical-align: top;\n",
       "    }\n",
       "\n",
       "    .dataframe thead th {\n",
       "        text-align: right;\n",
       "    }\n",
       "</style>\n",
       "<table border=\"1\" class=\"dataframe\">\n",
       "  <thead>\n",
       "    <tr style=\"text-align: right;\">\n",
       "      <th></th>\n",
       "      <th></th>\n",
       "      <th>count</th>\n",
       "    </tr>\n",
       "    <tr>\n",
       "      <th>order_full</th>\n",
       "      <th>family_full</th>\n",
       "      <th></th>\n",
       "    </tr>\n",
       "  </thead>\n",
       "  <tbody>\n",
       "    <tr>\n",
       "      <th>o__Agaricales</th>\n",
       "      <th>f__Inocybaceae</th>\n",
       "      <td>123</td>\n",
       "    </tr>\n",
       "    <tr>\n",
       "      <th>o__Rozellomycota_ord_Incertae_sedis</th>\n",
       "      <th>f__Rozellomycota_fam_Incertae_sedis</th>\n",
       "      <td>5</td>\n",
       "    </tr>\n",
       "    <tr>\n",
       "      <th>o__Sporidesmiales</th>\n",
       "      <th>f__Sporidesmiaceae</th>\n",
       "      <td>1</td>\n",
       "    </tr>\n",
       "  </tbody>\n",
       "</table>\n",
       "</div>"
      ],
      "text/plain": [
       "                                                                         count\n",
       "order_full                          family_full                               \n",
       "o__Agaricales                       f__Inocybaceae                         123\n",
       "o__Rozellomycota_ord_Incertae_sedis f__Rozellomycota_fam_Incertae_sedis      5\n",
       "o__Sporidesmiales                   f__Sporidesmiaceae                       1"
      ]
     },
     "metadata": {},
     "output_type": "display_data"
    },
    {
     "data": {
      "text/html": [
       "<div>\n",
       "<style scoped>\n",
       "    .dataframe tbody tr th:only-of-type {\n",
       "        vertical-align: middle;\n",
       "    }\n",
       "\n",
       "    .dataframe tbody tr th {\n",
       "        vertical-align: top;\n",
       "    }\n",
       "\n",
       "    .dataframe thead th {\n",
       "        text-align: right;\n",
       "    }\n",
       "</style>\n",
       "<table border=\"1\" class=\"dataframe\">\n",
       "  <thead>\n",
       "    <tr style=\"text-align: right;\">\n",
       "      <th></th>\n",
       "      <th>order_full</th>\n",
       "      <th>order_trunc</th>\n",
       "      <th>maj_split_tax_full</th>\n",
       "      <th>maj_split_tax_trunc</th>\n",
       "    </tr>\n",
       "  </thead>\n",
       "  <tbody>\n",
       "    <tr>\n",
       "      <th>1953</th>\n",
       "      <td>o__Agaricomycetes_ord_Incertae_sedis</td>\n",
       "      <td>o__Trechisporales</td>\n",
       "      <td>o__Trechisporales</td>\n",
       "      <td>o__Trechisporales</td>\n",
       "    </tr>\n",
       "    <tr>\n",
       "      <th>3075</th>\n",
       "      <td>o__Agaricomycetes_ord_Incertae_sedis</td>\n",
       "      <td>o__Trechisporales</td>\n",
       "      <td>o__Trechisporales</td>\n",
       "      <td>o__Trechisporales</td>\n",
       "    </tr>\n",
       "    <tr>\n",
       "      <th>8640</th>\n",
       "      <td>o__Sordariales</td>\n",
       "      <td>o__Sordariomycetes_ord_Incertae_sedis</td>\n",
       "      <td>o__Sordariales</td>\n",
       "      <td>o__Sordariales</td>\n",
       "    </tr>\n",
       "    <tr>\n",
       "      <th>15859</th>\n",
       "      <td>o__Sordariomycetes_ord_Incertae_sedis</td>\n",
       "      <td>o__Hypocreales</td>\n",
       "      <td>o__Hypocreales</td>\n",
       "      <td>o__Hypocreales</td>\n",
       "    </tr>\n",
       "    <tr>\n",
       "      <th>51146</th>\n",
       "      <td>o__Sordariomycetes_ord_Incertae_sedis</td>\n",
       "      <td>o__Microascales</td>\n",
       "      <td>o__Microascales</td>\n",
       "      <td>o__Microascales</td>\n",
       "    </tr>\n",
       "    <tr>\n",
       "      <th>55322</th>\n",
       "      <td>o__Leotiales</td>\n",
       "      <td>o__Thelebolales</td>\n",
       "      <td>o__Thelebolales</td>\n",
       "      <td>o__Thelebolales</td>\n",
       "    </tr>\n",
       "    <tr>\n",
       "      <th>57033</th>\n",
       "      <td>o__Leotiales</td>\n",
       "      <td>o__Helotiales</td>\n",
       "      <td>o__Onygenales</td>\n",
       "      <td>o__Onygenales</td>\n",
       "    </tr>\n",
       "    <tr>\n",
       "      <th>59552</th>\n",
       "      <td>o__Hypocreales</td>\n",
       "      <td>o__Diaporthales</td>\n",
       "      <td>o__Diaporthales</td>\n",
       "      <td>o__Diaporthales</td>\n",
       "    </tr>\n",
       "  </tbody>\n",
       "</table>\n",
       "</div>"
      ],
      "text/plain": [
       "                                  order_full  \\\n",
       "1953    o__Agaricomycetes_ord_Incertae_sedis   \n",
       "3075    o__Agaricomycetes_ord_Incertae_sedis   \n",
       "8640                          o__Sordariales   \n",
       "15859  o__Sordariomycetes_ord_Incertae_sedis   \n",
       "51146  o__Sordariomycetes_ord_Incertae_sedis   \n",
       "55322                           o__Leotiales   \n",
       "57033                           o__Leotiales   \n",
       "59552                         o__Hypocreales   \n",
       "\n",
       "                                 order_trunc maj_split_tax_full  \\\n",
       "1953                       o__Trechisporales  o__Trechisporales   \n",
       "3075                       o__Trechisporales  o__Trechisporales   \n",
       "8640   o__Sordariomycetes_ord_Incertae_sedis     o__Sordariales   \n",
       "15859                         o__Hypocreales     o__Hypocreales   \n",
       "51146                        o__Microascales    o__Microascales   \n",
       "55322                        o__Thelebolales    o__Thelebolales   \n",
       "57033                          o__Helotiales      o__Onygenales   \n",
       "59552                        o__Diaporthales    o__Diaporthales   \n",
       "\n",
       "      maj_split_tax_trunc  \n",
       "1953    o__Trechisporales  \n",
       "3075    o__Trechisporales  \n",
       "8640       o__Sordariales  \n",
       "15859      o__Hypocreales  \n",
       "51146     o__Microascales  \n",
       "55322     o__Thelebolales  \n",
       "57033       o__Onygenales  \n",
       "59552     o__Diaporthales  "
      ]
     },
     "metadata": {},
     "output_type": "display_data"
    }
   ],
   "source": [
    "df_phylo_compare_both = df_refseq_unite_both_global.merge(df_phylo_compare_full.add_suffix(\"_full\"), how=\"left\").set_index(df_refseq_unite_both_global.index)\n",
    "df_phylo_compare_both = df_phylo_compare_both.merge(df_phylo_compare_trunc.add_suffix(\"_trunc\"), how=\"left\").set_index(df_phylo_compare_both.index)\n",
    "\n",
    "df_phylo_compare_both[\"maj_chunk_equal\"] = df_phylo_compare_both[\"maj_chunk_full\"] == df_phylo_compare_both[\"maj_chunk_trunc\"]\n",
    "df_phylo_compare_both[\"maj_split_rank_equal_either\"] = df_phylo_compare_both[\"maj_split_rank_equal_full\"] | df_phylo_compare_both[\"maj_split_rank_equal_trunc\"]\n",
    "df_phylo_compare_both[\"maj_split_rank_uniden_either\"] = df_phylo_compare_both[\"maj_split_rank_uniden_full\"] | df_phylo_compare_both[\"maj_split_rank_uniden_trunc\"]\n",
    "\n",
    "display(md(\"# Difference in subtree determination before and after truncation\"))\n",
    "\n",
    "df_phylo_compare_both_count = pd.DataFrame(df_phylo_compare_both.groupby(\n",
    "    by=[\"tax_equal_lowest\", \"chunk_missing_full\", \"chunk_missing_trunc\", \"maj_chunk_equal\", \"maj_split_rank_equal_either\"]).agg({'refsequence_pk_full': ['count'], 'num_chunks_full': ['median'], 'num_chunks_trunc': ['median'], 'maj_chunk_count_full': ['median'], 'maj_chunk_count_trunc': ['median']}).reindex(level=0, index=ranks[::-1]+['none']))\n",
    "display(df_phylo_compare_both_count)\n",
    "\n",
    "display(pd.DataFrame(df_phylo_compare_both[\n",
    "    (df_phylo_compare_both[\"tax_equal_lowest\"] == \"species\") &\n",
    "    (df_phylo_compare_both[\"chunk_missing_full\"])].value_counts(subset=[\"order_full\", \"family_full\"]))\n",
    ")\n",
    "\n",
    "#Example showing that majority chunks mostly stay the same even if there is a difference in rank taxonomy below splitting level\n",
    "display(df_phylo_compare_both[\n",
    "    (df_phylo_compare_both[\"tax_equal_lowest\"] == \"class\")\n",
    "][[\"order_full\", \"order_trunc\", \"maj_split_tax_full\", \"maj_split_tax_trunc\"]])"
   ]
  },
  {
   "cell_type": "markdown",
   "metadata": {},
   "source": [
    "# Phylogenetic placement results"
   ]
  },
  {
   "cell_type": "code",
   "execution_count": 6,
   "metadata": {},
   "outputs": [
    {
     "data": {
      "text/plain": [
       "'007_913_p__Basidiomycota_c__Agaricomycetes_o__Thelephorales.jplace'"
      ]
     },
     "metadata": {},
     "output_type": "display_data"
    },
    {
     "data": {
      "text/plain": [
       "'009_219_p__Basidiomycota_c__Agaricomycetes_o__Agaricales_f__Hygrophoraceae.jplace'"
      ]
     },
     "metadata": {},
     "output_type": "display_data"
    },
    {
     "data": {
      "text/plain": [
       "'010_767_p__Basidiomycota_c__Agaricomycetes_o__Agaricales_f__Cortinariaceae.jplace'"
      ]
     },
     "metadata": {},
     "output_type": "display_data"
    },
    {
     "data": {
      "text/plain": [
       "'011_681_p__Basidiomycota_c__Agaricomycetes_o__Agaricales_f__Inocybaceae.jplace'"
      ]
     },
     "metadata": {},
     "output_type": "display_data"
    },
    {
     "data": {
      "text/plain": [
       "'012_300_p__Basidiomycota_c__Agaricomycetes_o__Agaricales_f__Amanitaceae.jplace'"
      ]
     },
     "metadata": {},
     "output_type": "display_data"
    },
    {
     "data": {
      "text/plain": [
       "'014_158_p__Basidiomycota_c__Agaricomycetes_o__Agaricales_f__Agaricaceae.jplace'"
      ]
     },
     "metadata": {},
     "output_type": "display_data"
    },
    {
     "data": {
      "text/plain": [
       "'016_180_p__Basidiomycota_c__Agaricomycetes_o__Agaricales_f__Clavariaceae.jplace'"
      ]
     },
     "metadata": {},
     "output_type": "display_data"
    },
    {
     "data": {
      "text/plain": [
       "'017_26_p__Basidiomycota_c__Agaricomycetes_o__Agaricales_f__Hydnangiaceae.jplace'"
      ]
     },
     "metadata": {},
     "output_type": "display_data"
    },
    {
     "data": {
      "text/plain": [
       "'018_322_p__Basidiomycota_c__Agaricomycetes_o__Agaricales_f__Tricholomataceae.jplace'"
      ]
     },
     "metadata": {},
     "output_type": "display_data"
    },
    {
     "data": {
      "text/plain": [
       "'021_136_p__Basidiomycota_c__Agaricomycetes_o__Agaricales_f__Psathyrellaceae.jplace'"
      ]
     },
     "metadata": {},
     "output_type": "display_data"
    },
    {
     "data": {
      "text/plain": [
       "'022_104_p__Basidiomycota_c__Agaricomycetes_o__Agaricales_f__Strophariaceae.jplace'"
      ]
     },
     "metadata": {},
     "output_type": "display_data"
    },
    {
     "data": {
      "text/plain": [
       "'028_72_p__Basidiomycota_c__Agaricomycetes_o__Agaricales_f__Pluteaceae.jplace'"
      ]
     },
     "metadata": {},
     "output_type": "display_data"
    },
    {
     "data": {
      "text/plain": [
       "'032_72_p__Basidiomycota_c__Agaricomycetes_o__Agaricales_f__Bolbitiaceae.jplace'"
      ]
     },
     "metadata": {},
     "output_type": "display_data"
    },
    {
     "data": {
      "text/plain": [
       "'036_32_p__Basidiomycota_c__Agaricomycetes_o__Agaricales_f__Hymenogastraceae.jplace'"
      ]
     },
     "metadata": {},
     "output_type": "display_data"
    },
    {
     "data": {
      "text/plain": [
       "'048_221_p__Basidiomycota_c__Agaricomycetes_o__Hymenochaetales.jplace'"
      ]
     },
     "metadata": {},
     "output_type": "display_data"
    },
    {
     "data": {
      "text/plain": [
       "'049_973_p__Basidiomycota_c__Agaricomycetes_o__Polyporales.jplace'"
      ]
     },
     "metadata": {},
     "output_type": "display_data"
    },
    {
     "data": {
      "text/plain": [
       "'050_258_p__Basidiomycota_c__Agaricomycetes_o__Boletales.jplace'"
      ]
     },
     "metadata": {},
     "output_type": "display_data"
    },
    {
     "data": {
      "text/plain": [
       "'051_856_p__Basidiomycota_c__Agaricomycetes_o__Russulales.jplace'"
      ]
     },
     "metadata": {},
     "output_type": "display_data"
    },
    {
     "data": {
      "text/plain": [
       "'054_127_p__Basidiomycota_c__Agaricomycetes_o__Auriculariales.jplace'"
      ]
     },
     "metadata": {},
     "output_type": "display_data"
    },
    {
     "data": {
      "text/plain": [
       "'056_128_p__Basidiomycota_c__Agaricomycetes_o__Trechisporales.jplace'"
      ]
     },
     "metadata": {},
     "output_type": "display_data"
    },
    {
     "data": {
      "text/plain": [
       "'059_421_p__Basidiomycota_c__Agaricomycetes_o__Sebacinales.jplace'"
      ]
     },
     "metadata": {},
     "output_type": "display_data"
    },
    {
     "data": {
      "text/plain": [
       "'064_14_p__Basidiomycota_c__Agaricomycetes_o__Tremellodendropsidales.jplace'"
      ]
     },
     "metadata": {},
     "output_type": "display_data"
    },
    {
     "data": {
      "text/plain": [
       "'070_248_p__Basidiomycota_c__Tremellomycetes_o__Tremellales.jplace'"
      ]
     },
     "metadata": {},
     "output_type": "display_data"
    },
    {
     "data": {
      "text/plain": [
       "'071_25_p__Basidiomycota_c__Tremellomycetes_o__Cystofilobasidiales.jplace'"
      ]
     },
     "metadata": {},
     "output_type": "display_data"
    },
    {
     "data": {
      "text/plain": [
       "'072_39_p__Basidiomycota_c__Tremellomycetes_o__Trichosporonales.jplace'"
      ]
     },
     "metadata": {},
     "output_type": "display_data"
    },
    {
     "data": {
      "text/plain": [
       "'074_37_p__Basidiomycota_c__Tremellomycetes_o__Filobasidiales.jplace'"
      ]
     },
     "metadata": {},
     "output_type": "display_data"
    },
    {
     "data": {
      "text/plain": [
       "'081_56_p__Basidiomycota_c__Microbotryomycetes_o__Microbotryomycetes_ord_Incertae_sedis.jplace'"
      ]
     },
     "metadata": {},
     "output_type": "display_data"
    },
    {
     "data": {
      "text/plain": [
       "'086_44_p__Basidiomycota_c__Agaricostilbomycetes_o__Agaricostilbales.jplace'"
      ]
     },
     "metadata": {},
     "output_type": "display_data"
    },
    {
     "data": {
      "text/plain": [
       "'105_6_p__Basidiomycota_c__Spiculogloeomycetes_o__Spiculogloeales.jplace'"
      ]
     },
     "metadata": {},
     "output_type": "display_data"
    },
    {
     "data": {
      "text/plain": [
       "'116_23_p__Ascomycota_c__Dothideomycetes_o__Dothideomycetes_ord_Incertae_sedis.jplace'"
      ]
     },
     "metadata": {},
     "output_type": "display_data"
    },
    {
     "data": {
      "text/plain": [
       "'117_466_p__Ascomycota_c__Dothideomycetes_o__Capnodiales.jplace'"
      ]
     },
     "metadata": {},
     "output_type": "display_data"
    },
    {
     "data": {
      "text/plain": [
       "'118_1044_p__Ascomycota_c__Dothideomycetes_o__Pleosporales.jplace'"
      ]
     },
     "metadata": {},
     "output_type": "display_data"
    },
    {
     "data": {
      "text/plain": [
       "'119_7_p__Ascomycota_c__Dothideomycetes_o__Acrospermales.jplace'"
      ]
     },
     "metadata": {},
     "output_type": "display_data"
    },
    {
     "data": {
      "text/plain": [
       "'120_84_p__Ascomycota_c__Dothideomycetes_o__Tubeufiales.jplace'"
      ]
     },
     "metadata": {},
     "output_type": "display_data"
    },
    {
     "data": {
      "text/plain": [
       "'121_129_p__Ascomycota_c__Dothideomycetes_o__Botryosphaeriales.jplace'"
      ]
     },
     "metadata": {},
     "output_type": "display_data"
    },
    {
     "data": {
      "text/plain": [
       "'123_79_p__Ascomycota_c__Dothideomycetes_o__Venturiales.jplace'"
      ]
     },
     "metadata": {},
     "output_type": "display_data"
    },
    {
     "data": {
      "text/plain": [
       "'124_36_p__Ascomycota_c__Dothideomycetes_o__Myriangiales.jplace'"
      ]
     },
     "metadata": {},
     "output_type": "display_data"
    },
    {
     "data": {
      "text/plain": [
       "'128_12_p__Ascomycota_c__Dothideomycetes_o__Mytilinidales.jplace'"
      ]
     },
     "metadata": {},
     "output_type": "display_data"
    },
    {
     "data": {
      "text/plain": [
       "'130_13_p__Ascomycota_c__Dothideomycetes_o__Mytilinidiales.jplace'"
      ]
     },
     "metadata": {},
     "output_type": "display_data"
    },
    {
     "data": {
      "text/plain": [
       "'140_1031_p__Ascomycota_c__Leotiomycetes_o__Helotiales.jplace'"
      ]
     },
     "metadata": {},
     "output_type": "display_data"
    },
    {
     "data": {
      "text/plain": [
       "'142_91_p__Ascomycota_c__Leotiomycetes_o__Rhytismatales.jplace'"
      ]
     },
     "metadata": {},
     "output_type": "display_data"
    },
    {
     "data": {
      "text/plain": [
       "'143_23_p__Ascomycota_c__Leotiomycetes_o__Thelebolales.jplace'"
      ]
     },
     "metadata": {},
     "output_type": "display_data"
    },
    {
     "data": {
      "text/plain": [
       "'149_2248_p__Ascomycota_c__Eurotiomycetes_o__Eurotiales_f__Aspergillaceae.jplace'"
      ]
     },
     "metadata": {},
     "output_type": "display_data"
    },
    {
     "data": {
      "text/plain": [
       "'150_119_p__Ascomycota_c__Eurotiomycetes_o__Eurotiales_f__Trichocomaceae.jplace'"
      ]
     },
     "metadata": {},
     "output_type": "display_data"
    },
    {
     "data": {
      "text/plain": [
       "'152_30_p__Ascomycota_c__Eurotiomycetes_o__Eurotiales_f__Elaphomycetaceae.jplace'"
      ]
     },
     "metadata": {},
     "output_type": "display_data"
    },
    {
     "data": {
      "text/plain": [
       "'153_226_p__Ascomycota_c__Eurotiomycetes_o__Onygenales.jplace'"
      ]
     },
     "metadata": {},
     "output_type": "display_data"
    },
    {
     "data": {
      "text/plain": [
       "'154_499_p__Ascomycota_c__Eurotiomycetes_o__Chaetothyriales.jplace'"
      ]
     },
     "metadata": {},
     "output_type": "display_data"
    },
    {
     "data": {
      "text/plain": [
       "'155_196_p__Ascomycota_c__Eurotiomycetes_o__Verrucariales.jplace'"
      ]
     },
     "metadata": {},
     "output_type": "display_data"
    },
    {
     "data": {
      "text/plain": [
       "'161_82_p__Ascomycota_c__Sordariomycetes_o__Glomerellales.jplace'"
      ]
     },
     "metadata": {},
     "output_type": "display_data"
    },
    {
     "data": {
      "text/plain": [
       "'163_124_p__Ascomycota_c__Sordariomycetes_o__Microascales.jplace'"
      ]
     },
     "metadata": {},
     "output_type": "display_data"
    },
    {
     "data": {
      "text/plain": [
       "'164_346_p__Ascomycota_c__Sordariomycetes_o__Diaporthales.jplace'"
      ]
     },
     "metadata": {},
     "output_type": "display_data"
    },
    {
     "data": {
      "text/plain": [
       "'165_47_p__Ascomycota_c__Sordariomycetes_o__Coniochaetales.jplace'"
      ]
     },
     "metadata": {},
     "output_type": "display_data"
    },
    {
     "data": {
      "text/plain": [
       "'166_310_p__Ascomycota_c__Sordariomycetes_o__Sordariales.jplace'"
      ]
     },
     "metadata": {},
     "output_type": "display_data"
    },
    {
     "data": {
      "text/plain": [
       "'167_1082_p__Ascomycota_c__Sordariomycetes_o__Hypocreales.jplace'"
      ]
     },
     "metadata": {},
     "output_type": "display_data"
    },
    {
     "data": {
      "text/plain": [
       "'168_814_p__Ascomycota_c__Sordariomycetes_o__Xylariales.jplace'"
      ]
     },
     "metadata": {},
     "output_type": "display_data"
    },
    {
     "data": {
      "text/plain": [
       "'169_73_p__Ascomycota_c__Sordariomycetes_o__Magnaporthales.jplace'"
      ]
     },
     "metadata": {},
     "output_type": "display_data"
    },
    {
     "data": {
      "text/plain": [
       "'170_72_p__Ascomycota_c__Sordariomycetes_o__Chaetosphaeriales.jplace'"
      ]
     },
     "metadata": {},
     "output_type": "display_data"
    },
    {
     "data": {
      "text/plain": [
       "'173_25_p__Ascomycota_c__Sordariomycetes_o__Pleurotheciales.jplace'"
      ]
     },
     "metadata": {},
     "output_type": "display_data"
    },
    {
     "data": {
      "text/plain": [
       "'174_23_p__Ascomycota_c__Sordariomycetes_o__Myrmecridiales.jplace'"
      ]
     },
     "metadata": {},
     "output_type": "display_data"
    },
    {
     "data": {
      "text/plain": [
       "'176_110_p__Ascomycota_c__Sordariomycetes_o__Ophiostomatales.jplace'"
      ]
     },
     "metadata": {},
     "output_type": "display_data"
    },
    {
     "data": {
      "text/plain": [
       "'178_4_p__Ascomycota_c__Sordariomycetes_o__Hypoceales.jplace'"
      ]
     },
     "metadata": {},
     "output_type": "display_data"
    },
    {
     "data": {
      "text/plain": [
       "'179_16_p__Ascomycota_c__Sordariomycetes_o__Boliniales.jplace'"
      ]
     },
     "metadata": {},
     "output_type": "display_data"
    },
    {
     "data": {
      "text/plain": [
       "'183_9_p__Ascomycota_c__Sordariomycetes_o__Togniniales.jplace'"
      ]
     },
     "metadata": {},
     "output_type": "display_data"
    },
    {
     "data": {
      "text/plain": [
       "'191_9_p__Ascomycota_c__Sordariomycetes_o__Savoryellales.jplace'"
      ]
     },
     "metadata": {},
     "output_type": "display_data"
    },
    {
     "data": {
      "text/plain": [
       "'197_1038_p__Ascomycota_c__Lecanoromycetes_o__Lecanorales.jplace'"
      ]
     },
     "metadata": {},
     "output_type": "display_data"
    },
    {
     "data": {
      "text/plain": [
       "'200_157_p__Ascomycota_c__Lecanoromycetes_o__Peltigerales.jplace'"
      ]
     },
     "metadata": {},
     "output_type": "display_data"
    },
    {
     "data": {
      "text/plain": [
       "'202_89_p__Ascomycota_c__Lecanoromycetes_o__Acarosporales.jplace'"
      ]
     },
     "metadata": {},
     "output_type": "display_data"
    },
    {
     "data": {
      "text/plain": [
       "'203_104_p__Ascomycota_c__Lecanoromycetes_o__Pertusariales.jplace'"
      ]
     },
     "metadata": {},
     "output_type": "display_data"
    },
    {
     "data": {
      "text/plain": [
       "'206_60_p__Ascomycota_c__Lecanoromycetes_o__Trapeliales.jplace'"
      ]
     },
     "metadata": {},
     "output_type": "display_data"
    },
    {
     "data": {
      "text/plain": [
       "'207_305_p__Ascomycota_c__Lecanoromycetes_o__Teloschistales.jplace'"
      ]
     },
     "metadata": {},
     "output_type": "display_data"
    },
    {
     "data": {
      "text/plain": [
       "'210_54_p__Ascomycota_c__Lecanoromycetes_o__Lecideales.jplace'"
      ]
     },
     "metadata": {},
     "output_type": "display_data"
    },
    {
     "data": {
      "text/plain": [
       "'211_16_p__Ascomycota_c__Lecanoromycetes_o__Baeomycetales.jplace'"
      ]
     },
     "metadata": {},
     "output_type": "display_data"
    },
    {
     "data": {
      "text/plain": [
       "'214_6_p__Ascomycota_c__Lecanoromycetes_o__GS36.jplace'"
      ]
     },
     "metadata": {},
     "output_type": "display_data"
    },
    {
     "data": {
      "text/plain": [
       "'218_205_p__Ascomycota_c__Orbiliomycetes_o__Orbiliales.jplace'"
      ]
     },
     "metadata": {},
     "output_type": "display_data"
    },
    {
     "data": {
      "text/plain": [
       "'222_241_p__Ascomycota_c__Saccharomycetes_o__Saccharomycetales.jplace'"
      ]
     },
     "metadata": {},
     "output_type": "display_data"
    },
    {
     "data": {
      "text/plain": [
       "'228_65_p__Ascomycota_c__Geoglossomycetes_o__Geoglossales.jplace'"
      ]
     },
     "metadata": {},
     "output_type": "display_data"
    },
    {
     "data": {
      "text/plain": [
       "'231_28_p__Ascomycota_c__Archaeorhizomycetes_o__Archaeorhizomycetales.jplace'"
      ]
     },
     "metadata": {},
     "output_type": "display_data"
    },
    {
     "data": {
      "text/plain": [
       "'241_47_p__Rozellomycota_c__Rozellomycotina_cls_Incertae_sedis_o__GS05.jplace'"
      ]
     },
     "metadata": {},
     "output_type": "display_data"
    },
    {
     "data": {
      "text/plain": [
       "'242_12_p__Rozellomycota_c__Rozellomycotina_cls_Incertae_sedis_o__GS08.jplace'"
      ]
     },
     "metadata": {},
     "output_type": "display_data"
    },
    {
     "data": {
      "text/plain": [
       "'245_24_p__Rozellomycota_c__Rozellomycotina_cls_Incertae_sedis_o__GS11.jplace'"
      ]
     },
     "metadata": {},
     "output_type": "display_data"
    },
    {
     "data": {
      "text/plain": [
       "'247_3_p__Rozellomycota_c__Rozellomycotina_cls_Incertae_sedis_o__GS06.jplace'"
      ]
     },
     "metadata": {},
     "output_type": "display_data"
    },
    {
     "data": {
      "text/plain": [
       "'249_10_p__Rozellomycota_c__Rozellomycotina_cls_Incertae_sedis_o__GS10.jplace'"
      ]
     },
     "metadata": {},
     "output_type": "display_data"
    },
    {
     "data": {
      "text/plain": [
       "'252_3_p__Rozellomycota_c__Rozellomycotina_cls_Incertae_sedis_o__Branch03.jplace'"
      ]
     },
     "metadata": {},
     "output_type": "display_data"
    },
    {
     "data": {
      "text/plain": [
       "'254_43_p__Chytridiomycota_c__Spizellomycetes_o__Spizellomycetales.jplace'"
      ]
     },
     "metadata": {},
     "output_type": "display_data"
    },
    {
     "data": {
      "text/plain": [
       "'259_10_p__Chytridiomycota_c__Rhizophlyctidomycetes_o__Rhizophlyctidales.jplace'"
      ]
     },
     "metadata": {},
     "output_type": "display_data"
    },
    {
     "data": {
      "text/plain": [
       "'260_6_p__Chytridiomycota_c__Synchytriomycetes_o__Synchytriales.jplace'"
      ]
     },
     "metadata": {},
     "output_type": "display_data"
    },
    {
     "data": {
      "text/plain": [
       "'267_47_p__Mucoromycota_c__Mucoromycetes_o__Mucorales.jplace'"
      ]
     },
     "metadata": {},
     "output_type": "display_data"
    },
    {
     "data": {
      "text/plain": [
       "'269_13_p__Mucoromycota_c__Umbelopsidomycetes_o__Umbelopsidales.jplace'"
      ]
     },
     "metadata": {},
     "output_type": "display_data"
    },
    {
     "data": {
      "text/plain": [
       "'272_142_p__Mortierellomycota_c__Mortierellomycetes_o__Mortierellales.jplace'"
      ]
     },
     "metadata": {},
     "output_type": "display_data"
    },
    {
     "data": {
      "text/plain": [
       "'280_8_p__Monoblepharomycota_c__Sanchytriomycetes_o__Sanchytriales.jplace'"
      ]
     },
     "metadata": {},
     "output_type": "display_data"
    }
   ],
   "source": [
    "import json\n",
    "from ete3 import Tree\n",
    "import os\n",
    "import re\n",
    "\n",
    "def process_tree(tree_str):\n",
    "    pattern = re.compile(r\"([\\w.]*)(:?[\\d.e-]*){(\\d+)}\")\n",
    "    matches = pattern.findall(tree_str)\n",
    "\n",
    "    leaf_to_node = {leaf: node_num for leaf, dist, node_num in matches if leaf}\n",
    "\n",
    "    result = pattern.sub(r\"\\3\\2\", tree_str)\n",
    "    tree = Tree(result, format=1)\n",
    "    \n",
    "    return leaf_to_node, tree\n",
    "\n",
    "def load_jplace(file_path):\n",
    "    with open(file_path, 'r') as f:\n",
    "        data = json.load(f)\n",
    "\n",
    "    tree_str = data['tree']\n",
    "    placements = data['placements']\n",
    "\n",
    "    leaf_to_node, tree = process_tree(tree_str)\n",
    "\n",
    "    return leaf_to_node, tree, placements\n",
    "\n",
    "def get_placement_info(placements):\n",
    "    placement_info_full, placement_info_trunc = {}, {}\n",
    "    for placement in placements:\n",
    "        refseqs = [x[0] for x in placement['nm']]\n",
    "        placement_info = [(p[1], p[2], p[4]) for p in placement['p']]\n",
    "        for refseq in refseqs:\n",
    "            if \"_full\" in refseq:\n",
    "                placement_info_full[refseq] = placement_info\n",
    "            else:\n",
    "                placement_info_trunc[refseq] = placement_info\n",
    "\n",
    "    return placement_info_full, placement_info_trunc\n",
    "\n",
    "def get_longest_branch(tree):\n",
    "    return max(node.dist for node in tree.traverse() if node.dist is not None)\n",
    "\n",
    "def get_max_tree_depth(tree):\n",
    "    return max(leaf.get_distance(tree.get_tree_root()) for leaf in tree)\n",
    "\n",
    "def calculate_node_distance(tree, longest_branch, node1_num, node2_num):\n",
    "    node1 = tree&node1_num\n",
    "    node2 = tree&node2_num\n",
    "\n",
    "    node_difference = tree.get_distance(node1, node2, topology_only=True)\n",
    "    node_distance = tree.get_distance(node1, node2) / longest_branch\n",
    "\n",
    "    return node_difference, node_distance\n",
    "\n",
    "def calc_kl_divergence(refseq_full_placements, refseq_trunc_placements, epsilon=1e-10):\n",
    "    prob_full = {node: prob for node, prob, _ in refseq_full_placements}\n",
    "    prob_trunc = {node: prob for node, prob, _ in refseq_trunc_placements}\n",
    "\n",
    "    all_nodes = set(prob_full.keys()).union(set(prob_trunc.keys()))\n",
    "\n",
    "    p = np.array([prob_full.get(node, epsilon) for node in all_nodes])\n",
    "    q = np.array([prob_trunc.get(node, epsilon) for node in all_nodes])\n",
    "\n",
    "    kl_div = np.sum(p * np.log(p / q))\n",
    "\n",
    "    return round(kl_div, 4)\n",
    "\n",
    "def calc_own_divergence(refseq_full_placements, refseq_trunc_placements, longest_branch):\n",
    "    prob_full = {node: prob for node, prob, _ in refseq_full_placements}\n",
    "    prob_trunc = {node: prob for node, prob, _ in refseq_trunc_placements}\n",
    "\n",
    "    all_nodes = set(prob_full.keys()).union(set(prob_trunc.keys()))\n",
    "\n",
    "    prob_full = {node: prob_full.get(node, 0) for node in all_nodes}\n",
    "    prob_trunc = {node: prob_trunc.get(node, 0) for node in all_nodes}\n",
    "\n",
    "    total_divergence = 0.0\n",
    "    for node in all_nodes:\n",
    "        node_prob_divergence = abs(prob_full[node] - prob_trunc[node])\n",
    "\n",
    "        node_weighted_distance = 0.0\n",
    "        for node2 in all_nodes:\n",
    "            weight = prob_full[node] * prob_trunc[node2]\n",
    "            dist = tree.get_distance(tree&node, tree&node2) / longest_branch\n",
    "            node_weighted_distance += weight * dist\n",
    "        \n",
    "        total_divergence += node_prob_divergence * node_weighted_distance\n",
    "\n",
    "    return round(total_divergence, 4)\n",
    "\n",
    "def weighted_distance_divergence(tree, longest_branch, placements_full, placements_trunc):\n",
    "    # Step 1: Create node-probability mappings\n",
    "    prob_full = {node: prob for node, prob, _ in placements_full}\n",
    "    prob_trunc = {node: prob for node, prob, _ in placements_trunc}\n",
    "    \n",
    "    # Step 2: Ensure all nodes are represented with epsilon probability if missing\n",
    "    all_nodes = set(prob_full.keys()).union(set(prob_trunc.keys()))\n",
    "    prob_full = {node: prob_full.get(node, 0) for node in all_nodes}\n",
    "    prob_trunc = {node: prob_trunc.get(node, 0) for node in all_nodes}\n",
    "    \n",
    "    # Step 3: Calculate weighted distance divergence\n",
    "    total_divergence = 0.0\n",
    "    for node1 in all_nodes:\n",
    "        for node2 in all_nodes:\n",
    "            p1 = prob_full[node1]\n",
    "            p2 = prob_trunc[node2]\n",
    "            \n",
    "            # Joint probability weight\n",
    "            weight = p1 * p2\n",
    "            \n",
    "            if weight > 0:\n",
    "                # Phylogenetic distance between nodes\n",
    "                dist = tree.get_distance(tree&node1, tree&node2) / longest_branch\n",
    "                total_divergence += weight * dist\n",
    "    \n",
    "    return round(total_divergence, 4)\n",
    "\n",
    "def get_placements_difference(tree, chunk_num, placements_full, placements_trunc):\n",
    "    longest_branch = get_longest_branch(tree)\n",
    "\n",
    "    num_refseqs = len(tree.get_leaf_names()) - 1\n",
    "\n",
    "    placement_difference = {}\n",
    "    for refseq_full, refseq_full_placements in placements_full.items():\n",
    "        refseq_trunc = refseq_full.split(\"->\")[1]\n",
    "        refseq_trunc_placements = placements_trunc.get(refseq_trunc, None)\n",
    "        if refseq_trunc_placements is None:\n",
    "            continue\n",
    "\n",
    "        top_placement_full = refseq_full_placements[0]\n",
    "        top_placement_trunc = refseq_trunc_placements[0]\n",
    "\n",
    "        node_difference, node_distance = calculate_node_distance(tree, longest_branch, top_placement_full[0], top_placement_trunc[0])\n",
    "\n",
    "        top_likelyhood_full = top_placement_full[1]\n",
    "        top_likelyhood_trunc = top_placement_trunc[1]\n",
    "        top_likelyhood_full_on_trunc = np.nan\n",
    "        top_likelyhood_full_on_trunc_dif = np.nan\n",
    "        for p in (p for p in refseq_trunc_placements if p[0] == top_placement_full[0]):\n",
    "            top_likelyhood_full_on_trunc = p[1]\n",
    "            top_likelyhood_full_on_trunc_dif = top_likelyhood_full - p[1]\n",
    "\n",
    "        #kl_divergence = calc_kl_divergence(refseq_full_placements, refseq_trunc_placements)\n",
    "        #own_divergence = calc_own_divergence(refseq_full_placements, refseq_trunc_placements, longest_branch)\n",
    "        dist_divergence = weighted_distance_divergence(tree, longest_branch, refseq_full_placements, refseq_trunc_placements)\n",
    "\n",
    "        placement_difference[(chunk_num, refseq_full)] = {\n",
    "            \"num_of_refseqs\": num_refseqs,\n",
    "            \"top_node_difference\": node_difference,\n",
    "            \"top_node_distance\": node_distance,\n",
    "            \"top_likelyhood_full\": top_likelyhood_full,\n",
    "            \"top_likelyhood_trunc\": top_likelyhood_trunc,\n",
    "            \"top_likelyhood_full_on_trunc\": top_likelyhood_full_on_trunc,\n",
    "            \"top_likelyhood_full_on_trunc_dif\": top_likelyhood_full_on_trunc_dif,\n",
    "            #\"kl_divergence\": kl_divergence,\n",
    "            \"dist_divergence\": dist_divergence,\n",
    "            #\"own_divergence\": own_divergence\n",
    "            }\n",
    "        \n",
    "    \n",
    "    return placement_difference\n",
    "\n",
    "pplacer_dir = os.path.join(run_dir, \"pplacer\")\n",
    "\n",
    "placements_difference_full = {}\n",
    "for filename in sorted(os.listdir(pplacer_dir)):\n",
    "    if filename.endswith(\".jplace\"):\n",
    "        display(filename)\n",
    "        jplace_path = os.path.join(pplacer_dir, filename)\n",
    "\n",
    "        leaf_to_node, tree, placement = load_jplace(jplace_path)\n",
    "        placement_info_full, placement_info_trunc = get_placement_info(placement)\n",
    "        chunk_num = filename[:3]\n",
    "        placements_difference = get_placements_difference(tree, chunk_num, placement_info_full, placement_info_trunc)\n",
    "        placements_difference_full = placements_difference_full | placements_difference\n",
    "\n",
    "df_place_diff = pd.DataFrame.from_dict(placements_difference_full, orient='index')\n",
    "df_place_diff = df_place_diff.rename_axis([\"chunk_num\", \"refseq_mapping\"])\n",
    "df_place_diff.to_csv(\"place_dif.csv\")\n",
    "\n"
   ]
  },
  {
   "cell_type": "code",
   "execution_count": 90,
   "metadata": {},
   "outputs": [
    {
     "data": {
      "image/png": "[encoded data removed]",
      "text/plain": [
       "<Figure size 1000x600 with 1 Axes>"
      ]
     },
     "metadata": {},
     "output_type": "display_data"
    },
    {
     "data": {
      "image/png": "[encoded data removed]",
      "text/plain": [
       "<Figure size 1000x2000 with 2 Axes>"
      ]
     },
     "metadata": {},
     "output_type": "display_data"
    }
   ],
   "source": [
    "ax = df_place_diff[\"dist_divergence\"].plot.hist(bins=30, edgecolor = \"black\", figsize=(10,6), label=\"Weighted distance divergence\")\n",
    "ax.set_title(\"Weighted distance divergence distribution of all reference sequence pairs\")\n",
    "q90 = df_place_diff[\"dist_divergence\"].quantile(0.9)\n",
    "q95 = df_place_diff[\"dist_divergence\"].quantile(0.95)\n",
    "\n",
    "ax.axvline(q90, color='orange', linestyle='--', label='90th Percentile')\n",
    "ax.axvline(q95, color='red', linestyle='--', label='95th Percentile')\n",
    "ax.text(q90+0.02, plt.ylim()[1]*0.9, q90, color='orange', rotation=90, va='center')\n",
    "ax.text(q95+0.02, plt.ylim()[1]*0.9, q95, color='red', rotation=90, va='center')\n",
    "\n",
    "ax.legend()\n",
    "\n",
    "plt.show()\n",
    "\n",
    "chunk_sizes = df_place_diff.groupby(by=\"chunk_num\")[\"num_of_refseqs\"].first()\n",
    "\n",
    "chunk_placements_90 = df_place_diff[\"dist_divergence\"] > q90\n",
    "chunk_placements_95 = df_place_diff[\"dist_divergence\"] > q95\n",
    "chunk_placements_all = pd.DataFrame({'Below 90th Percentile': ~chunk_placements_90,\n",
    "                                     'Between 90th-95th Percentile': chunk_placements_90 & ~chunk_placements_95,\n",
    "                                     'Above 95th Percentile': chunk_placements_95})\n",
    "\n",
    "chunk_summary = chunk_placements_all.groupby(by=\"chunk_num\").sum().join(chunk_sizes).sort_values(by=\"num_of_refseqs\")\n",
    "\n",
    "#display(chunk_placements_all.groupby(by=\"chunk_num\").sum())\n",
    "#chunk_placements = (df_place_diff[\"dist_divergence\"] > 1).groupby(by=\"chunk_num\").value_counts().unstack(fill_value=0).rename(columns={True: \"True\", False: \"False\"})\n",
    "\n",
    "#chunk_summary = chunk_placements.join(chunk_sizes).sort_values(by=\"num_of_refseqs\")\n",
    "\n",
    "fig, ax1 = plt.subplots(figsize=(10,20))\n",
    "ax2 = ax1.twiny()\n",
    "\n",
    "chunk_summary[\"num_of_refseqs\"].plot.barh(ax=ax1, position=0.2, width=0.5, label=\"Subtree size\")\n",
    "chunk_summary.drop(columns=\"num_of_refseqs\").plot.barh(stacked=True, ax=ax2, position=0.8, width=0.5, color=['lightgreen', 'orange', 'red'], label=\"Number of refseq pairs\")\n",
    "\n",
    "ax1.set_xlabel('Subtree size')\n",
    "ax2.set_xlabel('Number of refseq pairs placed')\n",
    "ax1.set_ylabel('Chunk Number')\n",
    "ax2.set_ylabel('')\n",
    "\n",
    "ax1.legend(loc='upper right', bbox_to_anchor=(1.0, 0.867), title=\"(Bottom x-axis)\")\n",
    "ax2.legend(loc='upper right', bbox_to_anchor=(1.0, 0.94), title=\"Weighted distance divergence\\nof placed refseq pairs\")\n",
    "ax1.set_title(\"Weighted distance divergence of reference sequence pairs per subtree\")\n",
    "\n",
    "\n",
    "plt.show()\n"
   ]
  }
 ],
 "metadata": {
  "kernelspec": {
   "display_name": ".venv",
   "language": "python",
   "name": "python3"
  },
  "language_info": {
   "codemirror_mode": {
    "name": "ipython",
    "version": 3
   },
   "file_extension": ".py",
   "mimetype": "text/x-python",
   "name": "python",
   "nbconvert_exporter": "python",
   "pygments_lexer": "ipython3",
   "version": "3.10.12"
  }
 },
 "nbformat": 4,
 "nbformat_minor": 2
}
