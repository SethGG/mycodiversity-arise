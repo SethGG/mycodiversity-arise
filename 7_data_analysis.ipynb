{
 "cells": [
  {
   "cell_type": "markdown",
   "metadata": {},
   "source": [
    "# Load dependencies and tables"
   ]
  },
  {
   "cell_type": "code",
   "execution_count": 36,
   "metadata": {},
   "outputs": [],
   "source": [
    "import pandas as pd\n",
    "import matplotlib.pyplot as plt\n",
    "import os\n",
    "from IPython.display import Markdown as md"
   ]
  },
  {
   "cell_type": "code",
   "execution_count": 3,
   "metadata": {},
   "outputs": [],
   "source": [
    "output_tables = \"output_tables\"\n",
    "run_dir_name = input(f\"Enter the directory name of the ZOTU tables in the {output_tables} directory\")\n",
    "run_dir = os.path.join(output_tables, run_dir_name)\n",
    "\n",
    "df_sample_mapping = pd.read_csv(os.path.join(output_tables, \"sample_mapping.csv\"))\n",
    "\n",
    "df_filter_mapping_full = pd.read_csv(os.path.join(run_dir, \"filter_mapping_full.csv\"))\n",
    "df_filter_mapping = pd.read_csv(os.path.join(run_dir, \"filter_mapping.csv\"))\n",
    "df_truncate_mapping = pd.read_csv(os.path.join(run_dir, \"truncate_mapping.csv\"))\n",
    "\n",
    "df_refseq_full = pd.read_csv(os.path.join(run_dir, \"refseq_table_pk_full.csv\"))\n",
    "df_refseq = pd.read_csv(os.path.join(run_dir, \"refseq_table_pk.csv\"))\n",
    "\n",
    "df_refseq_srr_mapping_full = pd.read_csv(os.path.join(run_dir, \"mapping_table_pk_zotu_srr_full.csv\"))\n",
    "df_refseq_srr_mapping = pd.read_csv(os.path.join(run_dir, \"mapping_table_pk_zotu_srr.csv\"))"
   ]
  },
  {
   "cell_type": "markdown",
   "metadata": {},
   "source": [
    "# Length of ZOTUs"
   ]
  },
  {
   "cell_type": "code",
   "execution_count": 119,
   "metadata": {},
   "outputs": [
    {
     "data": {
      "text/html": [
       "<div>\n",
       "<style scoped>\n",
       "    .dataframe tbody tr th:only-of-type {\n",
       "        vertical-align: middle;\n",
       "    }\n",
       "\n",
       "    .dataframe tbody tr th {\n",
       "        vertical-align: top;\n",
       "    }\n",
       "\n",
       "    .dataframe thead th {\n",
       "        text-align: right;\n",
       "    }\n",
       "</style>\n",
       "<table border=\"1\" class=\"dataframe\">\n",
       "  <thead>\n",
       "    <tr style=\"text-align: right;\">\n",
       "      <th></th>\n",
       "      <th>refseq_length</th>\n",
       "    </tr>\n",
       "  </thead>\n",
       "  <tbody>\n",
       "    <tr>\n",
       "      <th>count</th>\n",
       "      <td>1523.000000</td>\n",
       "    </tr>\n",
       "    <tr>\n",
       "      <th>mean</th>\n",
       "      <td>315.577150</td>\n",
       "    </tr>\n",
       "    <tr>\n",
       "      <th>std</th>\n",
       "      <td>31.713709</td>\n",
       "    </tr>\n",
       "    <tr>\n",
       "      <th>min</th>\n",
       "      <td>204.000000</td>\n",
       "    </tr>\n",
       "    <tr>\n",
       "      <th>25%</th>\n",
       "      <td>296.000000</td>\n",
       "    </tr>\n",
       "    <tr>\n",
       "      <th>50%</th>\n",
       "      <td>306.000000</td>\n",
       "    </tr>\n",
       "    <tr>\n",
       "      <th>75%</th>\n",
       "      <td>326.000000</td>\n",
       "    </tr>\n",
       "    <tr>\n",
       "      <th>max</th>\n",
       "      <td>450.000000</td>\n",
       "    </tr>\n",
       "  </tbody>\n",
       "</table>\n",
       "</div>"
      ],
      "text/plain": [
       "       refseq_length\n",
       "count    1523.000000\n",
       "mean      315.577150\n",
       "std        31.713709\n",
       "min       204.000000\n",
       "25%       296.000000\n",
       "50%       306.000000\n",
       "75%       326.000000\n",
       "max       450.000000"
      ]
     },
     "metadata": {},
     "output_type": "display_data"
    },
    {
     "data": {
      "image/png": "[encoded data removed]",
      "text/plain": [
       "<Figure size 640x480 with 1 Axes>"
      ]
     },
     "metadata": {},
     "output_type": "display_data"
    }
   ],
   "source": [
    "# Length of derep ZOTUs\n",
    "\n",
    "display(df_refseq_full.describe())\n",
    "df_refseq_full['refseq_length'].plot.hist(bins=20, xlim=(200, 450), edgecolor = \"black\")\n",
    "plt.show()\n"
   ]
  },
  {
   "cell_type": "markdown",
   "metadata": {},
   "source": [
    "# Filter results"
   ]
  },
  {
   "cell_type": "code",
   "execution_count": 131,
   "metadata": {},
   "outputs": [
    {
     "data": {
      "text/markdown": [
       "## Merged table for analyzing filter results"
      ],
      "text/plain": [
       "<IPython.core.display.Markdown object>"
      ]
     },
     "metadata": {},
     "output_type": "display_data"
    },
    {
     "data": {
      "text/html": [
       "<div>\n",
       "<style scoped>\n",
       "    .dataframe tbody tr th:only-of-type {\n",
       "        vertical-align: middle;\n",
       "    }\n",
       "\n",
       "    .dataframe tbody tr th {\n",
       "        vertical-align: top;\n",
       "    }\n",
       "\n",
       "    .dataframe thead th {\n",
       "        text-align: right;\n",
       "    }\n",
       "</style>\n",
       "<table border=\"1\" class=\"dataframe\">\n",
       "  <thead>\n",
       "    <tr style=\"text-align: right;\">\n",
       "      <th></th>\n",
       "      <th>srr_name</th>\n",
       "      <th>zotu_id</th>\n",
       "      <th>trunc_zotu_id</th>\n",
       "      <th>passed_trunc</th>\n",
       "      <th>passed_abun_full</th>\n",
       "      <th>passed_contam_full</th>\n",
       "      <th>passed_abun_trunc</th>\n",
       "      <th>passed_contam_trunc</th>\n",
       "    </tr>\n",
       "  </thead>\n",
       "  <tbody>\n",
       "    <tr>\n",
       "      <th>count</th>\n",
       "      <td>65596</td>\n",
       "      <td>65596</td>\n",
       "      <td>64280</td>\n",
       "      <td>65596</td>\n",
       "      <td>65596</td>\n",
       "      <td>65596</td>\n",
       "      <td>64280</td>\n",
       "      <td>64280</td>\n",
       "    </tr>\n",
       "    <tr>\n",
       "      <th>unique</th>\n",
       "      <td>190</td>\n",
       "      <td>868</td>\n",
       "      <td>855</td>\n",
       "      <td>2</td>\n",
       "      <td>2</td>\n",
       "      <td>2</td>\n",
       "      <td>2</td>\n",
       "      <td>2</td>\n",
       "    </tr>\n",
       "    <tr>\n",
       "      <th>top</th>\n",
       "      <td>NBCLAB4208</td>\n",
       "      <td>Zotu1</td>\n",
       "      <td>Zotu18</td>\n",
       "      <td>True</td>\n",
       "      <td>False</td>\n",
       "      <td>False</td>\n",
       "      <td>False</td>\n",
       "      <td>False</td>\n",
       "    </tr>\n",
       "    <tr>\n",
       "      <th>freq</th>\n",
       "      <td>868</td>\n",
       "      <td>190</td>\n",
       "      <td>202</td>\n",
       "      <td>64280</td>\n",
       "      <td>59472</td>\n",
       "      <td>60479</td>\n",
       "      <td>57653</td>\n",
       "      <td>58876</td>\n",
       "    </tr>\n",
       "  </tbody>\n",
       "</table>\n",
       "</div>"
      ],
      "text/plain": [
       "          srr_name zotu_id trunc_zotu_id passed_trunc passed_abun_full  \\\n",
       "count        65596   65596         64280        65596            65596   \n",
       "unique         190     868           855            2                2   \n",
       "top     NBCLAB4208   Zotu1        Zotu18         True            False   \n",
       "freq           868     190           202        64280            59472   \n",
       "\n",
       "       passed_contam_full passed_abun_trunc passed_contam_trunc  \n",
       "count               65596             64280               64280  \n",
       "unique                  2                 2                   2  \n",
       "top                 False             False               False  \n",
       "freq                60479             57653               58876  "
      ]
     },
     "metadata": {},
     "output_type": "display_data"
    },
    {
     "data": {
      "text/markdown": [
       "## Filter results on full length ZOTUs"
      ],
      "text/plain": [
       "<IPython.core.display.Markdown object>"
      ]
     },
     "metadata": {},
     "output_type": "display_data"
    },
    {
     "data": {
      "text/markdown": [
       "Of all 65596 full length ZOTUs found across all samples:"
      ],
      "text/plain": [
       "<IPython.core.display.Markdown object>"
      ]
     },
     "metadata": {},
     "output_type": "display_data"
    },
    {
     "data": {
      "text/html": [
       "<div>\n",
       "<style scoped>\n",
       "    .dataframe tbody tr th:only-of-type {\n",
       "        vertical-align: middle;\n",
       "    }\n",
       "\n",
       "    .dataframe tbody tr th {\n",
       "        vertical-align: top;\n",
       "    }\n",
       "\n",
       "    .dataframe thead th {\n",
       "        text-align: right;\n",
       "    }\n",
       "</style>\n",
       "<table border=\"1\" class=\"dataframe\">\n",
       "  <thead>\n",
       "    <tr style=\"text-align: right;\">\n",
       "      <th></th>\n",
       "      <th></th>\n",
       "      <th>count</th>\n",
       "      <th>proportion</th>\n",
       "    </tr>\n",
       "    <tr>\n",
       "      <th>passed_abun_full</th>\n",
       "      <th>passed_contam_full</th>\n",
       "      <th></th>\n",
       "      <th></th>\n",
       "    </tr>\n",
       "  </thead>\n",
       "  <tbody>\n",
       "    <tr>\n",
       "      <th>False</th>\n",
       "      <th>False</th>\n",
       "      <td>59472.0</td>\n",
       "      <td>0.906641</td>\n",
       "    </tr>\n",
       "    <tr>\n",
       "      <th rowspan=\"3\" valign=\"top\">True</th>\n",
       "      <th>True</th>\n",
       "      <td>5117.0</td>\n",
       "      <td>0.078008</td>\n",
       "    </tr>\n",
       "    <tr>\n",
       "      <th>False</th>\n",
       "      <td>1007.0</td>\n",
       "      <td>0.015352</td>\n",
       "    </tr>\n",
       "    <tr>\n",
       "      <th></th>\n",
       "      <td>6124.0</td>\n",
       "      <td>0.093359</td>\n",
       "    </tr>\n",
       "  </tbody>\n",
       "</table>\n",
       "</div>"
      ],
      "text/plain": [
       "                                       count  proportion\n",
       "passed_abun_full passed_contam_full                     \n",
       "False            False               59472.0    0.906641\n",
       "True             True                 5117.0    0.078008\n",
       "                 False                1007.0    0.015352\n",
       "                                      6124.0    0.093359"
      ]
     },
     "metadata": {},
     "output_type": "display_data"
    },
    {
     "data": {
      "text/markdown": [
       "- 6124.0 passed the abundance filter\n",
       "- 5117.0 passed the contamination filter"
      ],
      "text/plain": [
       "<IPython.core.display.Markdown object>"
      ]
     },
     "metadata": {},
     "output_type": "display_data"
    },
    {
     "data": {
      "text/markdown": [
       "## Truncation results on full length ZOTUs"
      ],
      "text/plain": [
       "<IPython.core.display.Markdown object>"
      ]
     },
     "metadata": {},
     "output_type": "display_data"
    },
    {
     "data": {
      "text/markdown": [
       "Of all 65596 full length ZOTUs found across all samples:"
      ],
      "text/plain": [
       "<IPython.core.display.Markdown object>"
      ]
     },
     "metadata": {},
     "output_type": "display_data"
    },
    {
     "data": {
      "text/html": [
       "<div>\n",
       "<style scoped>\n",
       "    .dataframe tbody tr th:only-of-type {\n",
       "        vertical-align: middle;\n",
       "    }\n",
       "\n",
       "    .dataframe tbody tr th {\n",
       "        vertical-align: top;\n",
       "    }\n",
       "\n",
       "    .dataframe thead th {\n",
       "        text-align: right;\n",
       "    }\n",
       "</style>\n",
       "<table border=\"1\" class=\"dataframe\">\n",
       "  <thead>\n",
       "    <tr style=\"text-align: right;\">\n",
       "      <th></th>\n",
       "      <th>count</th>\n",
       "      <th>proportion</th>\n",
       "      <th>count derep</th>\n",
       "    </tr>\n",
       "    <tr>\n",
       "      <th>passed_trunc</th>\n",
       "      <th></th>\n",
       "      <th></th>\n",
       "      <th></th>\n",
       "    </tr>\n",
       "  </thead>\n",
       "  <tbody>\n",
       "    <tr>\n",
       "      <th>True</th>\n",
       "      <td>64280</td>\n",
       "      <td>0.979938</td>\n",
       "      <td>61373.0</td>\n",
       "    </tr>\n",
       "    <tr>\n",
       "      <th>False</th>\n",
       "      <td>1316</td>\n",
       "      <td>0.020062</td>\n",
       "      <td>NaN</td>\n",
       "    </tr>\n",
       "  </tbody>\n",
       "</table>\n",
       "</div>"
      ],
      "text/plain": [
       "              count  proportion  count derep\n",
       "passed_trunc                                \n",
       "True          64280    0.979938      61373.0\n",
       "False          1316    0.020062          NaN"
      ]
     },
     "metadata": {},
     "output_type": "display_data"
    },
    {
     "data": {
      "text/markdown": [
       "- 64280.0 passed truncation\n",
       "\t- resulting in 61373.0 after dereplication within samples\n",
       "- 1316.0 did not pass truncation (<250bp) and are discarded"
      ],
      "text/plain": [
       "<IPython.core.display.Markdown object>"
      ]
     },
     "metadata": {},
     "output_type": "display_data"
    },
    {
     "data": {
      "text/markdown": [
       "## Filter results on discarded ZOTUs"
      ],
      "text/plain": [
       "<IPython.core.display.Markdown object>"
      ]
     },
     "metadata": {},
     "output_type": "display_data"
    },
    {
     "data": {
      "text/markdown": [
       "Of the 1316 full length ZOTUs that do not pass truncation (<250bp):"
      ],
      "text/plain": [
       "<IPython.core.display.Markdown object>"
      ]
     },
     "metadata": {},
     "output_type": "display_data"
    },
    {
     "data": {
      "text/html": [
       "<div>\n",
       "<style scoped>\n",
       "    .dataframe tbody tr th:only-of-type {\n",
       "        vertical-align: middle;\n",
       "    }\n",
       "\n",
       "    .dataframe tbody tr th {\n",
       "        vertical-align: top;\n",
       "    }\n",
       "\n",
       "    .dataframe thead th {\n",
       "        text-align: right;\n",
       "    }\n",
       "</style>\n",
       "<table border=\"1\" class=\"dataframe\">\n",
       "  <thead>\n",
       "    <tr style=\"text-align: right;\">\n",
       "      <th></th>\n",
       "      <th></th>\n",
       "      <th>count</th>\n",
       "      <th>proportion</th>\n",
       "    </tr>\n",
       "    <tr>\n",
       "      <th>passed_abun_full</th>\n",
       "      <th>passed_contam_full</th>\n",
       "      <th></th>\n",
       "      <th></th>\n",
       "    </tr>\n",
       "  </thead>\n",
       "  <tbody>\n",
       "    <tr>\n",
       "      <th>False</th>\n",
       "      <th>False</th>\n",
       "      <td>1254.0</td>\n",
       "      <td>0.952888</td>\n",
       "    </tr>\n",
       "    <tr>\n",
       "      <th rowspan=\"3\" valign=\"top\">True</th>\n",
       "      <th>True</th>\n",
       "      <td>44.0</td>\n",
       "      <td>0.033435</td>\n",
       "    </tr>\n",
       "    <tr>\n",
       "      <th>False</th>\n",
       "      <td>18.0</td>\n",
       "      <td>0.013678</td>\n",
       "    </tr>\n",
       "    <tr>\n",
       "      <th></th>\n",
       "      <td>62.0</td>\n",
       "      <td>0.047112</td>\n",
       "    </tr>\n",
       "  </tbody>\n",
       "</table>\n",
       "</div>"
      ],
      "text/plain": [
       "                                      count  proportion\n",
       "passed_abun_full passed_contam_full                    \n",
       "False            False               1254.0    0.952888\n",
       "True             True                  44.0    0.033435\n",
       "                 False                 18.0    0.013678\n",
       "                                       62.0    0.047112"
      ]
     },
     "metadata": {},
     "output_type": "display_data"
    },
    {
     "data": {
      "text/markdown": [
       "- 62.0 would have passed the abundance filter without truncation\n",
       "- 44.0 would have passed the contamination filter without truncation"
      ],
      "text/plain": [
       "<IPython.core.display.Markdown object>"
      ]
     },
     "metadata": {},
     "output_type": "display_data"
    },
    {
     "data": {
      "text/markdown": [
       "## Filter results on truncated ZOTUs"
      ],
      "text/plain": [
       "<IPython.core.display.Markdown object>"
      ]
     },
     "metadata": {},
     "output_type": "display_data"
    },
    {
     "data": {
      "text/markdown": [
       "Of all 64280 truncated ZOTUs (61373 after dereplication within samples) found across all samples:"
      ],
      "text/plain": [
       "<IPython.core.display.Markdown object>"
      ]
     },
     "metadata": {},
     "output_type": "display_data"
    },
    {
     "data": {
      "text/html": [
       "<div>\n",
       "<style scoped>\n",
       "    .dataframe tbody tr th:only-of-type {\n",
       "        vertical-align: middle;\n",
       "    }\n",
       "\n",
       "    .dataframe tbody tr th {\n",
       "        vertical-align: top;\n",
       "    }\n",
       "\n",
       "    .dataframe thead th {\n",
       "        text-align: right;\n",
       "    }\n",
       "</style>\n",
       "<table border=\"1\" class=\"dataframe\">\n",
       "  <thead>\n",
       "    <tr style=\"text-align: right;\">\n",
       "      <th></th>\n",
       "      <th></th>\n",
       "      <th>count</th>\n",
       "      <th>proportion</th>\n",
       "      <th>count derep</th>\n",
       "      <th>proportion derep</th>\n",
       "    </tr>\n",
       "    <tr>\n",
       "      <th>passed_abun_trunc</th>\n",
       "      <th>passed_contam_trunc</th>\n",
       "      <th></th>\n",
       "      <th></th>\n",
       "      <th></th>\n",
       "      <th></th>\n",
       "    </tr>\n",
       "  </thead>\n",
       "  <tbody>\n",
       "    <tr>\n",
       "      <th>False</th>\n",
       "      <th>False</th>\n",
       "      <td>57653.0</td>\n",
       "      <td>0.896904</td>\n",
       "      <td>55247.0</td>\n",
       "      <td>0.900184</td>\n",
       "    </tr>\n",
       "    <tr>\n",
       "      <th rowspan=\"3\" valign=\"top\">True</th>\n",
       "      <th>True</th>\n",
       "      <td>5404.0</td>\n",
       "      <td>0.084070</td>\n",
       "      <td>5129.0</td>\n",
       "      <td>0.083571</td>\n",
       "    </tr>\n",
       "    <tr>\n",
       "      <th>False</th>\n",
       "      <td>1223.0</td>\n",
       "      <td>0.019026</td>\n",
       "      <td>997.0</td>\n",
       "      <td>0.016245</td>\n",
       "    </tr>\n",
       "    <tr>\n",
       "      <th></th>\n",
       "      <td>6627.0</td>\n",
       "      <td>0.103096</td>\n",
       "      <td>6126.0</td>\n",
       "      <td>0.099816</td>\n",
       "    </tr>\n",
       "  </tbody>\n",
       "</table>\n",
       "</div>"
      ],
      "text/plain": [
       "                                         count  proportion  count derep  \\\n",
       "passed_abun_trunc passed_contam_trunc                                     \n",
       "False             False                57653.0    0.896904      55247.0   \n",
       "True              True                  5404.0    0.084070       5129.0   \n",
       "                  False                 1223.0    0.019026        997.0   \n",
       "                                        6627.0    0.103096       6126.0   \n",
       "\n",
       "                                       proportion derep  \n",
       "passed_abun_trunc passed_contam_trunc                    \n",
       "False             False                        0.900184  \n",
       "True              True                         0.083571  \n",
       "                  False                        0.016245  \n",
       "                                               0.099816  "
      ]
     },
     "metadata": {},
     "output_type": "display_data"
    },
    {
     "data": {
      "text/markdown": [
       "- 6627.0 passed the abundance filter\n",
       "\t- resulting in 6126.0 after dereplication within samples\n",
       "- 5404.0 passed the contamination filter\n",
       "\t- resulting in 5129.0 after dereplication within samples"
      ],
      "text/plain": [
       "<IPython.core.display.Markdown object>"
      ]
     },
     "metadata": {},
     "output_type": "display_data"
    },
    {
     "data": {
      "text/markdown": [
       "## Comparing filter results before and after truncation"
      ],
      "text/plain": [
       "<IPython.core.display.Markdown object>"
      ]
     },
     "metadata": {},
     "output_type": "display_data"
    },
    {
     "data": {
      "text/markdown": [
       "Of all 64280 truncated ZOTUs (61373 after dereplication within samples) found across all samples:"
      ],
      "text/plain": [
       "<IPython.core.display.Markdown object>"
      ]
     },
     "metadata": {},
     "output_type": "display_data"
    },
    {
     "data": {
      "text/html": [
       "<div>\n",
       "<style scoped>\n",
       "    .dataframe tbody tr th:only-of-type {\n",
       "        vertical-align: middle;\n",
       "    }\n",
       "\n",
       "    .dataframe tbody tr th {\n",
       "        vertical-align: top;\n",
       "    }\n",
       "\n",
       "    .dataframe thead th {\n",
       "        text-align: right;\n",
       "    }\n",
       "</style>\n",
       "<table border=\"1\" class=\"dataframe\">\n",
       "  <thead>\n",
       "    <tr style=\"text-align: right;\">\n",
       "      <th></th>\n",
       "      <th></th>\n",
       "      <th></th>\n",
       "      <th></th>\n",
       "      <th>count</th>\n",
       "      <th>proportion</th>\n",
       "      <th>count derep</th>\n",
       "    </tr>\n",
       "    <tr>\n",
       "      <th>passed_abun_full</th>\n",
       "      <th>passed_abun_trunc</th>\n",
       "      <th>passed_contam_full</th>\n",
       "      <th>passed_contam_trunc</th>\n",
       "      <th></th>\n",
       "      <th></th>\n",
       "      <th></th>\n",
       "    </tr>\n",
       "  </thead>\n",
       "  <tbody>\n",
       "    <tr>\n",
       "      <th>False</th>\n",
       "      <th>False</th>\n",
       "      <th>False</th>\n",
       "      <th>False</th>\n",
       "      <td>57653.0</td>\n",
       "      <td>0.896904</td>\n",
       "      <td>55247.0</td>\n",
       "    </tr>\n",
       "    <tr>\n",
       "      <th rowspan=\"2\" valign=\"top\">True</th>\n",
       "      <th rowspan=\"2\" valign=\"top\">True</th>\n",
       "      <th>True</th>\n",
       "      <th>True</th>\n",
       "      <td>5073.0</td>\n",
       "      <td>0.078920</td>\n",
       "      <td>5024.0</td>\n",
       "    </tr>\n",
       "    <tr>\n",
       "      <th>False</th>\n",
       "      <th>False</th>\n",
       "      <td>989.0</td>\n",
       "      <td>0.015386</td>\n",
       "      <td>938.0</td>\n",
       "    </tr>\n",
       "    <tr>\n",
       "      <th rowspan=\"3\" valign=\"top\">False</th>\n",
       "      <th rowspan=\"3\" valign=\"top\">True</th>\n",
       "      <th rowspan=\"2\" valign=\"top\">False</th>\n",
       "      <th>True</th>\n",
       "      <td>331.0</td>\n",
       "      <td>0.005149</td>\n",
       "      <td>105.0</td>\n",
       "    </tr>\n",
       "    <tr>\n",
       "      <th>False</th>\n",
       "      <td>234.0</td>\n",
       "      <td>0.003640</td>\n",
       "      <td>59.0</td>\n",
       "    </tr>\n",
       "    <tr>\n",
       "      <th></th>\n",
       "      <th></th>\n",
       "      <td>565.0</td>\n",
       "      <td>0.008790</td>\n",
       "      <td>164.0</td>\n",
       "    </tr>\n",
       "  </tbody>\n",
       "</table>\n",
       "</div>"
      ],
      "text/plain": [
       "                                                                             count  \\\n",
       "passed_abun_full passed_abun_trunc passed_contam_full passed_contam_trunc            \n",
       "False            False             False              False                57653.0   \n",
       "True             True              True               True                  5073.0   \n",
       "                                   False              False                  989.0   \n",
       "False            True              False              True                   331.0   \n",
       "                                                      False                  234.0   \n",
       "                                                                             565.0   \n",
       "\n",
       "                                                                           proportion  \\\n",
       "passed_abun_full passed_abun_trunc passed_contam_full passed_contam_trunc               \n",
       "False            False             False              False                  0.896904   \n",
       "True             True              True               True                   0.078920   \n",
       "                                   False              False                  0.015386   \n",
       "False            True              False              True                   0.005149   \n",
       "                                                      False                  0.003640   \n",
       "                                                                             0.008790   \n",
       "\n",
       "                                                                           count derep  \n",
       "passed_abun_full passed_abun_trunc passed_contam_full passed_contam_trunc               \n",
       "False            False             False              False                    55247.0  \n",
       "True             True              True               True                      5024.0  \n",
       "                                   False              False                      938.0  \n",
       "False            True              False              True                       105.0  \n",
       "                                                      False                       59.0  \n",
       "                                                                                 164.0  "
      ]
     },
     "metadata": {},
     "output_type": "display_data"
    },
    {
     "data": {
      "text/markdown": [
       "- 565.0 passed the abundance filter only when truncated\n",
       "\t- resulting in 164.0 after dereplication within samples\n",
       "- 331.0 passed the contamination filter only when truncated\n",
       " (only because they would not have passed the abundance filter at full length)\n",
       "\t- resulting in 105.0 after dereplication within samples\n",
       "- None no longer pass the contamination filter after truncation when they would have passed at full length"
      ],
      "text/plain": [
       "<IPython.core.display.Markdown object>"
      ]
     },
     "metadata": {},
     "output_type": "display_data"
    },
    {
     "data": {
      "text/html": [
       "<div>\n",
       "<style scoped>\n",
       "    .dataframe tbody tr th:only-of-type {\n",
       "        vertical-align: middle;\n",
       "    }\n",
       "\n",
       "    .dataframe tbody tr th {\n",
       "        vertical-align: top;\n",
       "    }\n",
       "\n",
       "    .dataframe thead th {\n",
       "        text-align: right;\n",
       "    }\n",
       "</style>\n",
       "<table border=\"1\" class=\"dataframe\">\n",
       "  <thead>\n",
       "    <tr style=\"text-align: right;\">\n",
       "      <th></th>\n",
       "      <th>count</th>\n",
       "      <th>count derep</th>\n",
       "    </tr>\n",
       "    <tr>\n",
       "      <th>new_zotu</th>\n",
       "      <th></th>\n",
       "      <th></th>\n",
       "    </tr>\n",
       "  </thead>\n",
       "  <tbody>\n",
       "    <tr>\n",
       "      <th>False</th>\n",
       "      <td>286</td>\n",
       "      <td>230</td>\n",
       "    </tr>\n",
       "    <tr>\n",
       "      <th>True</th>\n",
       "      <td>279</td>\n",
       "      <td>164</td>\n",
       "    </tr>\n",
       "  </tbody>\n",
       "</table>\n",
       "</div>"
      ],
      "text/plain": [
       "          count  count derep\n",
       "new_zotu                    \n",
       "False       286          230\n",
       "True        279          164"
      ]
     },
     "metadata": {},
     "output_type": "display_data"
    }
   ],
   "source": [
    "# Merged table for analyzing filter results\n",
    "display(md(\"## Merged table for analyzing filter results\"))\n",
    "df = df_truncate_mapping\n",
    "df = df.merge(df_filter_mapping_full, on=[\"srr_name\", \"zotu_id\"], how=\"left\")\n",
    "df = df.merge(df_filter_mapping.rename(columns={\"zotu_id\": \"trunc_zotu_id\"}), on=[\"srr_name\", \"trunc_zotu_id\"],\n",
    "              suffixes=(\"_full\", \"_trunc\"), how=\"left\")\n",
    "display(df.describe())\n",
    "\n",
    "#Filter results on full length ZOTUs\n",
    "df_filter = df[['passed_abun_full', 'passed_contam_full']]\n",
    "df_filter_counts = pd.DataFrame.join(df_filter.value_counts(), df_filter.value_counts(normalize=True))\n",
    "df_filter_counts.loc[(True,\"\"),:] = df_filter_counts.loc[(True, slice(None))][['count', 'proportion']].sum()\n",
    "display(md(\"## Filter results on full length ZOTUs\"))\n",
    "display(md(f\"Of all {df_filter.shape[0]} full length ZOTUs found across all samples:\"))\n",
    "display(df_filter_counts)\n",
    "display(md(f\"- {df_filter_counts.loc[(True, '')]['count']} passed the abundance filter\\n\"\n",
    "           f\"- {df_filter_counts.loc[(True, True)]['count']} passed the contamination filter\"))\n",
    "\n",
    "# Truncation results on full length ZOTUs\n",
    "df_trunc = df[df[\"passed_trunc\"] == True]\n",
    "df_trunc_derep = df_trunc.drop_duplicates(subset=['srr_name', 'trunc_zotu_id'])\n",
    "df_trunc_counts = pd.DataFrame.join(\n",
    "    df.value_counts(subset=\"passed_trunc\"),\n",
    "    df.value_counts(subset=\"passed_trunc\", normalize=True))\n",
    "df_trunc_counts = df_trunc_counts.join(\n",
    "    df_trunc_derep.value_counts(subset=\"passed_trunc\"), rsuffix=\" derep\")\n",
    "display(md(\"## Truncation results on full length ZOTUs\"))\n",
    "display(md(f\"Of all {df_filter.shape[0]} full length ZOTUs found across all samples:\"))\n",
    "display(df_trunc_counts)\n",
    "display(md(f\"- {df_trunc_counts.loc[True]['count']} passed truncation\\n\"\n",
    "           f\"\\t- resulting in {df_trunc_counts.loc[True]['count derep']} after dereplication within samples\\n\"\n",
    "           f\"- {df_trunc_counts.loc[False]['count']} did not pass truncation (<250bp) and are discarded\"))\n",
    "\n",
    "# Filter results on discarded ZOTUs\n",
    "df_not_trunc_filter = df[df[\"passed_trunc\"] == False][['passed_abun_full', 'passed_contam_full']]\n",
    "df_not_trunc_filter_counts = pd.DataFrame.join(df_not_trunc_filter.value_counts(), df_not_trunc_filter.value_counts(normalize=True))\n",
    "df_not_trunc_filter_counts.loc[(True,\"\"),:] = df_not_trunc_filter_counts.loc[(True, slice(None))][['count', 'proportion']].sum()\n",
    "display(md(\"## Filter results on discarded ZOTUs\"))\n",
    "display(md(f\"Of the {df_not_trunc_filter.shape[0]} full length ZOTUs that do not pass truncation (<250bp):\"))\n",
    "display(df_not_trunc_filter_counts)\n",
    "display(md(f\"- {df_not_trunc_filter_counts.loc[(True, '')]['count']} would have passed the abundance filter without truncation\\n\"\n",
    "           f\"- {df_not_trunc_filter_counts.loc[(True, True)]['count']} would have passed the contamination filter without truncation\"))\n",
    "\n",
    "# Filter results on truncated ZOTUs\n",
    "df_trunc_filter_counts = pd.DataFrame.join(\n",
    "    df_trunc.value_counts(subset=['passed_abun_trunc','passed_contam_trunc']),\n",
    "    df_trunc.value_counts(subset=['passed_abun_trunc','passed_contam_trunc'], normalize=True))\n",
    "df_trunc_filter_counts = df_trunc_filter_counts.join(\n",
    "    df_trunc_derep.value_counts(subset=['passed_abun_trunc','passed_contam_trunc']), rsuffix=\" derep\")\n",
    "df_trunc_filter_counts = df_trunc_filter_counts.join(\n",
    "    df_trunc_derep.value_counts(subset=['passed_abun_trunc','passed_contam_trunc'], normalize=True), rsuffix=\" derep\")\n",
    "df_trunc_filter_counts.loc[(True,\"\"),:] = df_trunc_filter_counts.loc[(True, slice(None))][['count', 'proportion', 'count derep', 'proportion derep']].sum()\n",
    "display(md(\"## Filter results on truncated ZOTUs\"))\n",
    "display(md(f\"Of all {df_trunc.shape[0]} truncated ZOTUs ({df_trunc_derep.shape[0]} after dereplication within samples) found across all samples:\"))\n",
    "display(df_trunc_filter_counts)\n",
    "display(md(f\"- {df_trunc_filter_counts.loc[(True, '')]['count']} passed the abundance filter\\n\"\n",
    "           f\"\\t- resulting in {df_trunc_filter_counts.loc[(True, '')]['count derep']} after dereplication within samples\\n\"\n",
    "           f\"- {df_trunc_filter_counts.loc[(True, True)]['count']} passed the contamination filter\\n\"\n",
    "           f\"\\t- resulting in {df_trunc_filter_counts.loc[(True, True)]['count derep']} after dereplication within samples\"))\n",
    "\n",
    "# Comparing filter results before and after truncation\n",
    "df_abun_compare_counts = pd.DataFrame.join(\n",
    "    df_trunc.value_counts(subset=['passed_abun_full', 'passed_abun_trunc', 'passed_contam_full', 'passed_contam_trunc']),\n",
    "    df_trunc.value_counts(subset=['passed_abun_full', 'passed_abun_trunc', 'passed_contam_full', 'passed_contam_trunc'], normalize=True))\n",
    "df_abun_compare_counts = df_abun_compare_counts.join(\n",
    "    df_trunc_derep.value_counts(subset=['passed_abun_full', 'passed_abun_trunc', 'passed_contam_full', 'passed_contam_trunc']), rsuffix=\" derep\")\n",
    "df_abun_compare_counts.loc[(False,True,\"\",\"\"),:] = df_abun_compare_counts.loc[(False, True, slice(None), slice(None))][['count', 'proportion', 'count derep']].sum()\n",
    "display(md(\"## Comparing filter results before and after truncation\"))\n",
    "display(md(f\"Of all {df_trunc.shape[0]} truncated ZOTUs ({df_trunc_derep.shape[0]} after dereplication within samples) found across all samples:\"))\n",
    "display(df_abun_compare_counts)\n",
    "display(md(f\"- {df_abun_compare_counts.loc[(False, True, '', '')]['count']} passed the abundance filter only when truncated\\n\"\n",
    "           f\"\\t- resulting in {df_abun_compare_counts.loc[(False, True, '', '')]['count derep']} after dereplication within samples\\n\"\n",
    "           f\"- {df_abun_compare_counts.loc[(slice(None), slice(None), False, True)]['count'].sum()} passed the contamination filter only when truncated\\n (only because they would not have passed the abundance filter at full length)\\n\"\n",
    "           f\"\\t- resulting in {df_abun_compare_counts.loc[(slice(None), slice(None), False, True)]['count derep'].sum()} after dereplication within samples\\n\"\n",
    "           \"- None no longer pass the contamination filter after truncation when they would have passed at full length\"))\n",
    "\n",
    "\n",
    "\n",
    "df_new_abun = df[(df['passed_abun_full'] == False) & (df['passed_abun_trunc'] == True)][['srr_name', 'trunc_zotu_id']]\n",
    "df_new_abun = df_new_abun.merge(df_trunc_derep[df_trunc_derep['passed_abun_full'] == True][['srr_name', 'trunc_zotu_id']], how='left', indicator=True)\n",
    "df_new_abun['new_zotu'] = df_new_abun['_merge'] == 'left_only'\n",
    "df_new_abun = df_new_abun.drop(columns=['_merge'])\n",
    "df_new_abun_counts = pd.DataFrame.join(\n",
    "    df_new_abun.value_counts(subset=['new_zotu']),\n",
    "    df_new_abun.drop_duplicates().value_counts(subset=['new_zotu']), rsuffix=\" derep\")\n",
    "display(df_new_abun_counts)\n",
    "#display(df_new_abun.groupby(['srr_name', 'trunc_zotu_id']).size())\n"
   ]
  }
 ],
 "metadata": {
  "kernelspec": {
   "display_name": ".venv",
   "language": "python",
   "name": "python3"
  },
  "language_info": {
   "codemirror_mode": {
    "name": "ipython",
    "version": 3
   },
   "file_extension": ".py",
   "mimetype": "text/x-python",
   "name": "python",
   "nbconvert_exporter": "python",
   "pygments_lexer": "ipython3",
   "version": "3.10.12"
  }
 },
 "nbformat": 4,
 "nbformat_minor": 2
}
